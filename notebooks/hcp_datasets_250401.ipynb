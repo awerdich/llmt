{
 "cells": [
  {
   "cell_type": "code",
   "execution_count": 1,
   "id": "0b68ce7a-d58b-49f7-b517-17fdae85ba35",
   "metadata": {},
   "outputs": [
    {
     "data": {
      "text/html": [
       "<style>.container { width:100% !important; }</style>"
      ],
      "text/plain": [
       "<IPython.core.display.HTML object>"
      ]
     },
     "metadata": {},
     "output_type": "display_data"
    }
   ],
   "source": [
    "import os\n",
    "import copy\n",
    "import numpy as np\n",
    "import pandas as pd\n",
    "from dotenv import load_dotenv\n",
    "from textwrap import dedent\n",
    "import logging\n",
    "import datetime\n",
    "from pathlib import Path\n",
    "\n",
    "# Appearance of the Notebook\n",
    "from IPython.display import display, HTML\n",
    "display(HTML(\"<style>.container { width:100% !important; }</style>\"))\n",
    "np.set_printoptions(linewidth=110)\n",
    "pd.set_option('display.max_rows', 500)\n",
    "pd.set_option('display.max_columns', 100)\n",
    "pd.set_option('display.width', 1000)\n",
    "\n",
    "# Import this module with autoreload\n",
    "%load_ext autoreload\n",
    "%autoreload 2\n",
    "import llmt\n",
    "# print(f'Package version: {llmt.__version__}')"
   ]
  },
  {
   "cell_type": "markdown",
   "id": "b1e68427-53ac-4018-9eb6-1c40cc920f4d",
   "metadata": {},
   "source": [
    "### Load the data ###"
   ]
  },
  {
   "cell_type": "code",
   "execution_count": 2,
   "id": "91d53e9c-1d6a-49a9-b410-3eb90a4d5084",
   "metadata": {},
   "outputs": [
    {
     "name": "stdout",
     "output_type": "stream",
     "text": [
      "(2025, 10)\n",
      "(35, 10)\n"
     ]
    }
   ],
   "source": [
    "date_str = datetime.date.today().strftime('%y%m%d')\n",
    "data_dir = os.path.join(os.environ.get('HOME'), 'home_data', 'hcp')\n",
    "xls_file_1 = 'inpatient-companies-classification-03.18.2024.xlsx'\n",
    "xls_file_2 = 'inpatient-companies-classification-Additional negs-04.01.2025.xlsx'\n",
    "\n",
    "# Create a new data frame with the cleaned-up data frame\n",
    "output_file_name = f'hcp-alldata-250413.parquet'\n",
    "output_file = os.path.join(data_dir, output_file_name)\n",
    "\n",
    "df1 = pd.read_excel(os.path.join(data_dir, xls_file_1))\n",
    "df2 = pd.read_excel(os.path.join(data_dir, xls_file_2))\n",
    "\n",
    "print(df1.shape)\n",
    "print(df2.shape)"
   ]
  },
  {
   "cell_type": "code",
   "execution_count": 3,
   "id": "e71f2da3-adfa-43d0-b6d5-06ffc21912fc",
   "metadata": {},
   "outputs": [],
   "source": [
    "# Clean up and rename the columns\n",
    "def clean_df(data, labeled_rows='train', un_labeled_rows='test'):\n",
    "    df = copy.deepcopy(data).\\\n",
    "                    rename(columns={'Companies': 'name',\n",
    "                                    'CompanyID': 'id',\n",
    "                                    'Description': 'description',\n",
    "                                    'inpatient_healthcare ': 'inpatient',\n",
    "                                    'outpatient_healthcare': 'outpatient'})\n",
    "    cols = ['id', 'name', 'description', 'mental_health', 'inpatient', 'outpatient']\n",
    "    df = df[cols]\n",
    "    \n",
    "    # Select one row per id\n",
    "    n_id_before = len(df['id'].unique())\n",
    "    df = df.drop_duplicates(subset='id', keep='first', ignore_index=True)\n",
    "    n_id_after = len(df['id'].unique())\n",
    "    assert n_id_before == n_id_after\n",
    "    df = df.assign(dset=None)\n",
    "    df.loc[~df['mental_health'].isnull(), 'dset'] = labeled_rows\n",
    "    df.loc[df['mental_health'].isnull(), 'dset'] = un_labeled_rows\n",
    "    return df"
   ]
  },
  {
   "cell_type": "markdown",
   "id": "76c22df4-6343-462d-9f8f-a33c8c2d6cd7",
   "metadata": {},
   "source": [
    "### Check the labels for the duplicate IDs ###"
   ]
  },
  {
   "cell_type": "code",
   "execution_count": 4,
   "id": "ce5c5b7f-291b-447e-be13-768cbceeec65",
   "metadata": {},
   "outputs": [
    {
     "name": "stdout",
     "output_type": "stream",
     "text": [
      "(169, 7)\n",
      "169\n",
      "(35, 7)\n",
      "35\n",
      "The labels for the duplicate IDs are the same: True\n"
     ]
    }
   ],
   "source": [
    "df1_cleaned = clean_df(data=df1)\n",
    "df2_cleaned = clean_df(data=df2)\n",
    "df1_labeled = df1_cleaned.loc[df1_cleaned['dset'] == 'train']\n",
    "df2_labeled = df2_cleaned.loc[df2_cleaned['dset'] == 'train']\n",
    "\n",
    "# The company IDs are unique\n",
    "print(df1_labeled.shape)\n",
    "print(len(df1_labeled['id'].unique()))\n",
    "print(df2_labeled.shape)\n",
    "print(len(df2_labeled['id'].unique()))\n",
    "duplicate_id_list = []\n",
    "df2_id_list = df2_labeled['id'].unique()\n",
    "for id2 in df2_id_list:\n",
    "    df1_id = df1_labeled.loc[df1_labeled['id'] == id2]\n",
    "    if len(df1_id) > 0:\n",
    "        duplicate_id_list.append(id2)\n",
    "        df2_id = df2_labeled.loc[df2_labeled['id'] == id2]\n",
    "#        display(df1_id)\n",
    "#        display(df2_id)\n",
    "\n",
    "# Are the duplicate rows are the same\n",
    "d1 = df1_labeled.loc[df1_labeled['id'].isin(duplicate_id_list)].\\\n",
    "                sort_values(by='id', ascending=True).\\\n",
    "                reset_index(drop=True).\\\n",
    "                astype({'inpatient': int, 'outpatient': int, 'mental_health': int})\n",
    "d2 = df2_labeled.loc[df2_labeled['id'].isin(duplicate_id_list)].\\\n",
    "                sort_values(by='id', ascending=True).\\\n",
    "                reset_index(drop=True)\n",
    "\n",
    "print(f'The labels for the duplicate IDs are the same: {d1.equals(d2)}')"
   ]
  },
  {
   "cell_type": "code",
   "execution_count": 5,
   "id": "85252619-8f71-4c8c-b539-d31940fbaac0",
   "metadata": {},
   "outputs": [
    {
     "name": "stdout",
     "output_type": "stream",
     "text": [
      "Number of IDs in the test set before removing duplicates: 1856\n",
      "Number of IDs in the test set after removing duplicates:  1838\n",
      "Removing 18 duplicate samples from test set.\n",
      "2025\n",
      "(2025, 7)\n"
     ]
    }
   ],
   "source": [
    "# Combine the data sets\n",
    "df = pd.concat([df1_cleaned, df2_cleaned], axis=0, ignore_index=True)\n",
    "\n",
    "# Get the training samples with labels\n",
    "df_train = df.loc[df['dset'] == 'train'].\\\n",
    "                drop_duplicates().\\\n",
    "                reset_index(drop=True)\n",
    "df_train_id_list = list(df_train['id'].unique())\n",
    "\n",
    "# Get the test samples without labels\n",
    "df_test = df.loc[df['dset'] == 'test'].\\\n",
    "                drop_duplicates().\\\n",
    "                reset_index(drop=True)\n",
    "df_test_id_list = list(df_test['id'].unique())\n",
    "\n",
    "# Remove the ids from this list where we already have labels\n",
    "df_test_id_list_diff = set(df_test_id_list).difference(df_train_id_list)\n",
    "\n",
    "print(f'Number of IDs in the test set before removing duplicates: {len(df_test_id_list)}')\n",
    "print(f'Number of IDs in the test set after removing duplicates:  {len(df_test_id_list_diff)}')\n",
    "print(f'Removing {len(df_test_id_list) - len(df_test_id_list_diff)} duplicate samples from test set.')\n",
    "df_test = df_test[df_test['id'].isin(df_test_id_list_diff)]\n",
    "\n",
    "# Combine the train and test sets\n",
    "df_combined = pd.concat([df_train, df_test], axis=0, ignore_index=True)\n",
    "\n",
    "# Make sure that the ids are unique\n",
    "print(len(df_combined['id'].unique()))\n",
    "print(df_combined.shape)"
   ]
  },
  {
   "cell_type": "code",
   "execution_count": 6,
   "id": "a2014495-6799-4450-abad-9f6369452a77",
   "metadata": {},
   "outputs": [
    {
     "data": {
      "text/html": [
       "<div>\n",
       "<style scoped>\n",
       "    .dataframe tbody tr th:only-of-type {\n",
       "        vertical-align: middle;\n",
       "    }\n",
       "\n",
       "    .dataframe tbody tr th {\n",
       "        vertical-align: top;\n",
       "    }\n",
       "\n",
       "    .dataframe thead th {\n",
       "        text-align: right;\n",
       "    }\n",
       "</style>\n",
       "<table border=\"1\" class=\"dataframe\">\n",
       "  <thead>\n",
       "    <tr style=\"text-align: right;\">\n",
       "      <th></th>\n",
       "      <th>id</th>\n",
       "      <th>name</th>\n",
       "      <th>description</th>\n",
       "      <th>mental_health</th>\n",
       "      <th>inpatient</th>\n",
       "      <th>outpatient</th>\n",
       "      <th>dset</th>\n",
       "    </tr>\n",
       "  </thead>\n",
       "  <tbody>\n",
       "    <tr>\n",
       "      <th>0</th>\n",
       "      <td>431643-07</td>\n",
       "      <td>Actriv</td>\n",
       "      <td>Provider of healthcare staffing services based...</td>\n",
       "      <td>2.0</td>\n",
       "      <td>0.0</td>\n",
       "      <td>0.0</td>\n",
       "      <td>train</td>\n",
       "    </tr>\n",
       "    <tr>\n",
       "      <th>1</th>\n",
       "      <td>310749-31</td>\n",
       "      <td>Alima</td>\n",
       "      <td>Operator of a non-governmental organization in...</td>\n",
       "      <td>0.0</td>\n",
       "      <td>0.0</td>\n",
       "      <td>0.0</td>\n",
       "      <td>train</td>\n",
       "    </tr>\n",
       "    <tr>\n",
       "      <th>2</th>\n",
       "      <td>162054-28</td>\n",
       "      <td>Apothecare</td>\n",
       "      <td>Provider of pharmacy services intended to prov...</td>\n",
       "      <td>0.0</td>\n",
       "      <td>0.0</td>\n",
       "      <td>0.0</td>\n",
       "      <td>train</td>\n",
       "    </tr>\n",
       "    <tr>\n",
       "      <th>3</th>\n",
       "      <td>597285-28</td>\n",
       "      <td>April Health (Clinics/Outpatient Services)</td>\n",
       "      <td>Provider of mental health services intended to...</td>\n",
       "      <td>1.0</td>\n",
       "      <td>0.0</td>\n",
       "      <td>1.0</td>\n",
       "      <td>train</td>\n",
       "    </tr>\n",
       "    <tr>\n",
       "      <th>4</th>\n",
       "      <td>373978-90</td>\n",
       "      <td>Arise Child and Family Service</td>\n",
       "      <td>Operator of independent living centers caterin...</td>\n",
       "      <td>2.0</td>\n",
       "      <td>0.0</td>\n",
       "      <td>0.0</td>\n",
       "      <td>train</td>\n",
       "    </tr>\n",
       "  </tbody>\n",
       "</table>\n",
       "</div>"
      ],
      "text/plain": [
       "          id                                        name                                        description  mental_health  inpatient  outpatient   dset\n",
       "0  431643-07                                      Actriv  Provider of healthcare staffing services based...            2.0        0.0         0.0  train\n",
       "1  310749-31                                       Alima  Operator of a non-governmental organization in...            0.0        0.0         0.0  train\n",
       "2  162054-28                                  Apothecare  Provider of pharmacy services intended to prov...            0.0        0.0         0.0  train\n",
       "3  597285-28  April Health (Clinics/Outpatient Services)  Provider of mental health services intended to...            1.0        0.0         1.0  train\n",
       "4  373978-90              Arise Child and Family Service  Operator of independent living centers caterin...            2.0        0.0         0.0  train"
      ]
     },
     "metadata": {},
     "output_type": "display_data"
    }
   ],
   "source": [
    "display(df_combined.head())"
   ]
  },
  {
   "cell_type": "code",
   "execution_count": 7,
   "id": "74c18ec1-c13a-4f5f-96ef-79acce0dcc01",
   "metadata": {},
   "outputs": [
    {
     "name": "stdout",
     "output_type": "stream",
     "text": [
      "(1838, 7)\n",
      "(187, 7)\n"
     ]
    }
   ],
   "source": [
    "df_test = df_combined.loc[df_combined['mental_health'].isnull()]\n",
    "df_train = df_combined.loc[~df_combined['mental_health'].isnull()]\n",
    "print(df_test.shape)\n",
    "print(df_train.shape)"
   ]
  },
  {
   "cell_type": "code",
   "execution_count": 8,
   "id": "13c9d6c1-0c41-453f-9227-c4482b6eee75",
   "metadata": {},
   "outputs": [
    {
     "data": {
      "text/plain": [
       "187"
      ]
     },
     "execution_count": 8,
     "metadata": {},
     "output_type": "execute_result"
    }
   ],
   "source": [
    "136 + 35 + 16"
   ]
  },
  {
   "cell_type": "code",
   "execution_count": 9,
   "id": "4db14bc2-6c59-4ab6-b9e6-786a49a3d8ee",
   "metadata": {},
   "outputs": [
    {
     "data": {
      "text/plain": [
       "2025"
      ]
     },
     "execution_count": 9,
     "metadata": {},
     "output_type": "execute_result"
    }
   ],
   "source": [
    "1838 + 187"
   ]
  },
  {
   "cell_type": "code",
   "execution_count": 10,
   "id": "bd3a7a90-ac8b-48ee-b39b-e0e1ee5a9c17",
   "metadata": {},
   "outputs": [
    {
     "name": "stdout",
     "output_type": "stream",
     "text": [
      "MENTAL_HEALTH\n"
     ]
    },
    {
     "data": {
      "text/html": [
       "<div>\n",
       "<style scoped>\n",
       "    .dataframe tbody tr th:only-of-type {\n",
       "        vertical-align: middle;\n",
       "    }\n",
       "\n",
       "    .dataframe tbody tr th {\n",
       "        vertical-align: top;\n",
       "    }\n",
       "\n",
       "    .dataframe thead th {\n",
       "        text-align: right;\n",
       "    }\n",
       "</style>\n",
       "<table border=\"1\" class=\"dataframe\">\n",
       "  <thead>\n",
       "    <tr style=\"text-align: right;\">\n",
       "      <th></th>\n",
       "      <th>mental_health</th>\n",
       "      <th>count</th>\n",
       "    </tr>\n",
       "  </thead>\n",
       "  <tbody>\n",
       "    <tr>\n",
       "      <th>0</th>\n",
       "      <td>2.0</td>\n",
       "      <td>16</td>\n",
       "    </tr>\n",
       "    <tr>\n",
       "      <th>1</th>\n",
       "      <td>1.0</td>\n",
       "      <td>136</td>\n",
       "    </tr>\n",
       "    <tr>\n",
       "      <th>2</th>\n",
       "      <td>0.0</td>\n",
       "      <td>35</td>\n",
       "    </tr>\n",
       "  </tbody>\n",
       "</table>\n",
       "</div>"
      ],
      "text/plain": [
       "   mental_health  count\n",
       "0            2.0     16\n",
       "1            1.0    136\n",
       "2            0.0     35"
      ]
     },
     "metadata": {},
     "output_type": "display_data"
    },
    {
     "name": "stdout",
     "output_type": "stream",
     "text": [
      "INPATIENT\n"
     ]
    },
    {
     "data": {
      "text/html": [
       "<div>\n",
       "<style scoped>\n",
       "    .dataframe tbody tr th:only-of-type {\n",
       "        vertical-align: middle;\n",
       "    }\n",
       "\n",
       "    .dataframe tbody tr th {\n",
       "        vertical-align: top;\n",
       "    }\n",
       "\n",
       "    .dataframe thead th {\n",
       "        text-align: right;\n",
       "    }\n",
       "</style>\n",
       "<table border=\"1\" class=\"dataframe\">\n",
       "  <thead>\n",
       "    <tr style=\"text-align: right;\">\n",
       "      <th></th>\n",
       "      <th>inpatient</th>\n",
       "      <th>count</th>\n",
       "    </tr>\n",
       "  </thead>\n",
       "  <tbody>\n",
       "    <tr>\n",
       "      <th>0</th>\n",
       "      <td>2.0</td>\n",
       "      <td>5</td>\n",
       "    </tr>\n",
       "    <tr>\n",
       "      <th>1</th>\n",
       "      <td>1.0</td>\n",
       "      <td>69</td>\n",
       "    </tr>\n",
       "    <tr>\n",
       "      <th>2</th>\n",
       "      <td>0.0</td>\n",
       "      <td>113</td>\n",
       "    </tr>\n",
       "  </tbody>\n",
       "</table>\n",
       "</div>"
      ],
      "text/plain": [
       "   inpatient  count\n",
       "0        2.0      5\n",
       "1        1.0     69\n",
       "2        0.0    113"
      ]
     },
     "metadata": {},
     "output_type": "display_data"
    },
    {
     "name": "stdout",
     "output_type": "stream",
     "text": [
      "OUTPATIENT\n"
     ]
    },
    {
     "data": {
      "text/html": [
       "<div>\n",
       "<style scoped>\n",
       "    .dataframe tbody tr th:only-of-type {\n",
       "        vertical-align: middle;\n",
       "    }\n",
       "\n",
       "    .dataframe tbody tr th {\n",
       "        vertical-align: top;\n",
       "    }\n",
       "\n",
       "    .dataframe thead th {\n",
       "        text-align: right;\n",
       "    }\n",
       "</style>\n",
       "<table border=\"1\" class=\"dataframe\">\n",
       "  <thead>\n",
       "    <tr style=\"text-align: right;\">\n",
       "      <th></th>\n",
       "      <th>outpatient</th>\n",
       "      <th>count</th>\n",
       "    </tr>\n",
       "  </thead>\n",
       "  <tbody>\n",
       "    <tr>\n",
       "      <th>0</th>\n",
       "      <td>2.0</td>\n",
       "      <td>51</td>\n",
       "    </tr>\n",
       "    <tr>\n",
       "      <th>1</th>\n",
       "      <td>1.0</td>\n",
       "      <td>94</td>\n",
       "    </tr>\n",
       "    <tr>\n",
       "      <th>2</th>\n",
       "      <td>0.0</td>\n",
       "      <td>42</td>\n",
       "    </tr>\n",
       "  </tbody>\n",
       "</table>\n",
       "</div>"
      ],
      "text/plain": [
       "   outpatient  count\n",
       "0         2.0     51\n",
       "1         1.0     94\n",
       "2         0.0     42"
      ]
     },
     "metadata": {},
     "output_type": "display_data"
    }
   ],
   "source": [
    "# Count the labels\n",
    "label_list = ['mental_health', 'inpatient', 'outpatient']\n",
    "for label in label_list:\n",
    "    print(label.upper())\n",
    "    df_label = df_combined[label].\\\n",
    "                    value_counts().\\\n",
    "                    to_frame().\\\n",
    "                    reset_index(drop=False).\\\n",
    "                    sort_values(by=label, ascending=False).\\\n",
    "                    reset_index(drop=True)\n",
    "    display(df_label)"
   ]
  },
  {
   "cell_type": "code",
   "execution_count": 11,
   "id": "89f2950e-d2b2-420d-bd29-c5f2867c919d",
   "metadata": {},
   "outputs": [
    {
     "data": {
      "text/html": [
       "<div>\n",
       "<style scoped>\n",
       "    .dataframe tbody tr th:only-of-type {\n",
       "        vertical-align: middle;\n",
       "    }\n",
       "\n",
       "    .dataframe tbody tr th {\n",
       "        vertical-align: top;\n",
       "    }\n",
       "\n",
       "    .dataframe thead th {\n",
       "        text-align: right;\n",
       "    }\n",
       "</style>\n",
       "<table border=\"1\" class=\"dataframe\">\n",
       "  <thead>\n",
       "    <tr style=\"text-align: right;\">\n",
       "      <th></th>\n",
       "      <th>id</th>\n",
       "      <th>name</th>\n",
       "      <th>description</th>\n",
       "      <th>mental_health</th>\n",
       "      <th>inpatient</th>\n",
       "      <th>outpatient</th>\n",
       "      <th>dset</th>\n",
       "    </tr>\n",
       "  </thead>\n",
       "  <tbody>\n",
       "    <tr>\n",
       "      <th>0</th>\n",
       "      <td>431643-07</td>\n",
       "      <td>Actriv</td>\n",
       "      <td>Provider of healthcare staffing services based...</td>\n",
       "      <td>2.0</td>\n",
       "      <td>0.0</td>\n",
       "      <td>0.0</td>\n",
       "      <td>train</td>\n",
       "    </tr>\n",
       "    <tr>\n",
       "      <th>1</th>\n",
       "      <td>310749-31</td>\n",
       "      <td>Alima</td>\n",
       "      <td>Operator of a non-governmental organization in...</td>\n",
       "      <td>0.0</td>\n",
       "      <td>0.0</td>\n",
       "      <td>0.0</td>\n",
       "      <td>train</td>\n",
       "    </tr>\n",
       "    <tr>\n",
       "      <th>2</th>\n",
       "      <td>162054-28</td>\n",
       "      <td>Apothecare</td>\n",
       "      <td>Provider of pharmacy services intended to prov...</td>\n",
       "      <td>0.0</td>\n",
       "      <td>0.0</td>\n",
       "      <td>0.0</td>\n",
       "      <td>train</td>\n",
       "    </tr>\n",
       "    <tr>\n",
       "      <th>3</th>\n",
       "      <td>597285-28</td>\n",
       "      <td>April Health (Clinics/Outpatient Services)</td>\n",
       "      <td>Provider of mental health services intended to...</td>\n",
       "      <td>1.0</td>\n",
       "      <td>0.0</td>\n",
       "      <td>1.0</td>\n",
       "      <td>train</td>\n",
       "    </tr>\n",
       "    <tr>\n",
       "      <th>4</th>\n",
       "      <td>373978-90</td>\n",
       "      <td>Arise Child and Family Service</td>\n",
       "      <td>Operator of independent living centers caterin...</td>\n",
       "      <td>2.0</td>\n",
       "      <td>0.0</td>\n",
       "      <td>0.0</td>\n",
       "      <td>train</td>\n",
       "    </tr>\n",
       "  </tbody>\n",
       "</table>\n",
       "</div>"
      ],
      "text/plain": [
       "          id                                        name                                        description  mental_health  inpatient  outpatient   dset\n",
       "0  431643-07                                      Actriv  Provider of healthcare staffing services based...            2.0        0.0         0.0  train\n",
       "1  310749-31                                       Alima  Operator of a non-governmental organization in...            0.0        0.0         0.0  train\n",
       "2  162054-28                                  Apothecare  Provider of pharmacy services intended to prov...            0.0        0.0         0.0  train\n",
       "3  597285-28  April Health (Clinics/Outpatient Services)  Provider of mental health services intended to...            1.0        0.0         1.0  train\n",
       "4  373978-90              Arise Child and Family Service  Operator of independent living centers caterin...            2.0        0.0         0.0  train"
      ]
     },
     "metadata": {},
     "output_type": "display_data"
    },
    {
     "name": "stdout",
     "output_type": "stream",
     "text": [
      "\n"
     ]
    },
    {
     "data": {
      "text/html": [
       "<div>\n",
       "<style scoped>\n",
       "    .dataframe tbody tr th:only-of-type {\n",
       "        vertical-align: middle;\n",
       "    }\n",
       "\n",
       "    .dataframe tbody tr th {\n",
       "        vertical-align: top;\n",
       "    }\n",
       "\n",
       "    .dataframe thead th {\n",
       "        text-align: right;\n",
       "    }\n",
       "</style>\n",
       "<table border=\"1\" class=\"dataframe\">\n",
       "  <thead>\n",
       "    <tr style=\"text-align: right;\">\n",
       "      <th></th>\n",
       "      <th>id</th>\n",
       "      <th>name</th>\n",
       "      <th>description</th>\n",
       "      <th>mental_health</th>\n",
       "      <th>inpatient</th>\n",
       "      <th>outpatient</th>\n",
       "      <th>dset</th>\n",
       "    </tr>\n",
       "  </thead>\n",
       "  <tbody>\n",
       "    <tr>\n",
       "      <th>1768</th>\n",
       "      <td>234369-91</td>\n",
       "      <td>Treatment Partners of America</td>\n",
       "      <td>Operator of a addiction and dual diagnosis tre...</td>\n",
       "      <td>NaN</td>\n",
       "      <td>NaN</td>\n",
       "      <td>NaN</td>\n",
       "      <td>test</td>\n",
       "    </tr>\n",
       "    <tr>\n",
       "      <th>1521</th>\n",
       "      <td>121179-70</td>\n",
       "      <td>Saint Clare's Health</td>\n",
       "      <td>Operator of community hospitals and healthcare...</td>\n",
       "      <td>NaN</td>\n",
       "      <td>NaN</td>\n",
       "      <td>NaN</td>\n",
       "      <td>test</td>\n",
       "    </tr>\n",
       "    <tr>\n",
       "      <th>114</th>\n",
       "      <td>60837-40</td>\n",
       "      <td>Prime Healthcare Services</td>\n",
       "      <td>Provider of medical and healthcare services in...</td>\n",
       "      <td>1.0</td>\n",
       "      <td>1.0</td>\n",
       "      <td>1.0</td>\n",
       "      <td>train</td>\n",
       "    </tr>\n",
       "    <tr>\n",
       "      <th>452</th>\n",
       "      <td>285754-15</td>\n",
       "      <td>Carolina Pain And Weight</td>\n",
       "      <td>Provider of pain management, weight loss, and ...</td>\n",
       "      <td>NaN</td>\n",
       "      <td>NaN</td>\n",
       "      <td>NaN</td>\n",
       "      <td>test</td>\n",
       "    </tr>\n",
       "    <tr>\n",
       "      <th>1833</th>\n",
       "      <td>310185-01</td>\n",
       "      <td>Verdugo Home Health</td>\n",
       "      <td>Provider of home health care services to indiv...</td>\n",
       "      <td>NaN</td>\n",
       "      <td>NaN</td>\n",
       "      <td>NaN</td>\n",
       "      <td>test</td>\n",
       "    </tr>\n",
       "  </tbody>\n",
       "</table>\n",
       "</div>"
      ],
      "text/plain": [
       "             id                           name                                        description  mental_health  inpatient  outpatient   dset\n",
       "1768  234369-91  Treatment Partners of America  Operator of a addiction and dual diagnosis tre...            NaN        NaN         NaN   test\n",
       "1521  121179-70           Saint Clare's Health  Operator of community hospitals and healthcare...            NaN        NaN         NaN   test\n",
       "114    60837-40      Prime Healthcare Services  Provider of medical and healthcare services in...            1.0        1.0         1.0  train\n",
       "452   285754-15       Carolina Pain And Weight  Provider of pain management, weight loss, and ...            NaN        NaN         NaN   test\n",
       "1833  310185-01            Verdugo Home Health  Provider of home health care services to indiv...            NaN        NaN         NaN   test"
      ]
     },
     "metadata": {},
     "output_type": "display_data"
    },
    {
     "name": "stdout",
     "output_type": "stream",
     "text": [
      "/app/home_data/hcp/hcp-alldata-250413.parquet\n"
     ]
    }
   ],
   "source": [
    "# Save the final data frame\n",
    "df_combined.to_parquet(output_file)\n",
    "display(df_combined.head())\n",
    "print()\n",
    "display(df_combined.sample(5))\n",
    "print(output_file)"
   ]
  }
 ],
 "metadata": {
  "kernelspec": {
   "display_name": "Python 3 (ipykernel)",
   "language": "python",
   "name": "python3"
  },
  "language_info": {
   "codemirror_mode": {
    "name": "ipython",
    "version": 3
   },
   "file_extension": ".py",
   "mimetype": "text/x-python",
   "name": "python",
   "nbconvert_exporter": "python",
   "pygments_lexer": "ipython3",
   "version": "3.12.11"
  }
 },
 "nbformat": 4,
 "nbformat_minor": 5
}
