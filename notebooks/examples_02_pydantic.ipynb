{
 "cells": [
  {
   "cell_type": "markdown",
   "id": "ec7a79e2-20b3-4f69-9b7a-67809306348d",
   "metadata": {},
   "source": [
    "### Pydnatic OpenAI for text classification ###\n",
    "https://github.com/daveebbelaar/openai-python-tutorial"
   ]
  },
  {
   "cell_type": "code",
   "execution_count": null,
   "id": "cccb6bec-5d20-4263-af47-5a1375c4b2c0",
   "metadata": {},
   "outputs": [],
   "source": [
    "import os\n",
    "import numpy as np\n",
    "import pandas as pd\n",
    "from typing import Literal\n",
    "from textwrap import dedent\n",
    "\n",
    "# OpenAI and Pydantic libraries\n",
    "import openai\n",
    "from openai import AzureOpenAI\n",
    "import pydantic\n",
    "from pydantic import BaseModel, Field\n",
    "\n",
    "# Appearance of the Notebook\n",
    "from IPython.display import display, HTML\n",
    "display(HTML(\"<style>.container { width:100% !important; }</style>\"))\n",
    "np.set_printoptions(linewidth=110)\n",
    "pd.set_option('display.max_rows', 500)\n",
    "pd.set_option('display.max_columns', 100)\n",
    "pd.set_option('display.width', 1000)\n",
    "\n",
    "# Import this module with autoreload\n",
    "%load_ext autoreload\n",
    "%autoreload 2\n",
    "import llmt\n",
    "# print(f'Package version: {llmt.__version__}')\n",
    "print(f'Pydantic version: {pydantic.__version__}')"
   ]
  },
  {
   "cell_type": "markdown",
   "id": "8c2787e9-dff3-4d96-8d32-41846f9caa93",
   "metadata": {},
   "source": [
    "### Create the OpenAI client ###"
   ]
  },
  {
   "cell_type": "code",
   "execution_count": null,
   "id": "29122507-b1e3-43e3-bcac-0652f885b34e",
   "metadata": {},
   "outputs": [],
   "source": [
    "api_dict = {'api_version': '2025-03-01-preview',\n",
    "            'azure_endpoint': os.environ.get('API_ENDPOINT'),\n",
    "            'api_key': os.environ.get('API_KEY')}\n",
    "api_project = os.environ.get('API_PROJECT')\n",
    "print(api_project)\n",
    "# Model name needs to be in the deployment for the endpoint\n",
    "model_name = 'gpt-4o'\n",
    "# Now, we can create the API client\n",
    "client = AzureOpenAI(**api_dict)"
   ]
  },
  {
   "cell_type": "code",
   "execution_count": null,
   "id": "f7235d76-55aa-460e-95b3-468826d789d9",
   "metadata": {},
   "outputs": [],
   "source": [
    "# Load the test data\n",
    "data_dir = os.path.join(os.environ.get('HOME'), 'home_data', 'hcp')\n",
    "test_file_name = f'hcp-alldata-250413.parquet'\n",
    "test_file = os.path.join(data_dir, test_file_name)\n",
    "df = pd.read_parquet(test_file)\n",
    "display(df.head())\n",
    "print(df.shape)\n",
    "print(len(df['name'].unique()))"
   ]
  },
  {
   "cell_type": "code",
   "execution_count": null,
   "id": "ac47860f-03e0-4f7e-bc93-8bcb644f6178",
   "metadata": {},
   "outputs": [],
   "source": [
    "# Let's count the samples\n",
    "patient_service_list = ['inpatient', 'outpatient']\n",
    "for mental_health in [1, 0]:\n",
    "    df_mh = df.loc[(df['mental_health'] == mental_health)]\n",
    "    print()\n",
    "    for patient in patient_service_list:\n",
    "        counts = df_mh[patient].\\\n",
    "                        value_counts().\\\n",
    "                        to_frame().\\\n",
    "                        reset_index(drop=False)\n",
    "        print(f'MENTAL HEALTH: {mental_health}')\n",
    "        display(counts)"
   ]
  },
  {
   "cell_type": "markdown",
   "id": "ad96ee69-2667-4ed8-9db7-2c87242ad696",
   "metadata": {},
   "source": [
    "### Create the prompts and response format ###"
   ]
  },
  {
   "cell_type": "code",
   "execution_count": null,
   "id": "964709d7-dff4-4832-a8eb-8818aabbb4f9",
   "metadata": {},
   "outputs": [],
   "source": [
    "# Some simple text processing, like removing new lines\n",
    "def proc_prompt(prompt: str):\n",
    "    output = dedent(prompt).replace('\\n', '')\n",
    "    return output\n",
    "    \n",
    "# Assemble the message\n",
    "def create_messages(system_prompt: str, user_prompt: str):\n",
    "    # Process the prompts\n",
    "    system_message = {'role': 'system', 'content': system_prompt}\n",
    "    user_message = {'role': 'user', 'content': user_prompt}\n",
    "    message_list = [system_message, user_message]\n",
    "    return message_list"
   ]
  },
  {
   "cell_type": "markdown",
   "id": "4ead44f0-bae6-402c-bd12-9b23060518f5",
   "metadata": {},
   "source": [
    "### Prompt Engineering and Output Format ###"
   ]
  },
  {
   "cell_type": "code",
   "execution_count": null,
   "id": "f63300aa-cbbc-418a-8f31-492730509cc9",
   "metadata": {},
   "outputs": [],
   "source": [
    "# Pydantic model to format the API response\n",
    "class MentalHealth(BaseModel):\n",
    "    mental_health_care: bool = Field(description='A business that provides mental health or behavioral healthcare services for human patients.')\n",
    "    mental_health_care_score: float = Field(description='Confidence that the business provides mental health or behavioral healthcare services (0-1).')\n",
    "\n",
    "mental_health_business_definition = \"\"\" \n",
    "    A healthcare business that provides mental and behavioral health care services to human patients is typically a \n",
    "    specialized facility or organization, such as a mental health clinic, psychiatric hospital, or counseling center, \n",
    "    that offers assessments, diagnoses, and evidence-based treatments for various mental health and behavioral disorders. \n",
    "    These services may include individual and group therapy, psychiatric evaluations, medication management, \n",
    "    and crisis intervention, delivered by a team of professionals such as psychiatrists, psychologists, licensed counselors, and social workers. \n",
    "    The aim of such a business is to support patients in managing their conditions, improving their mental health and overall well-being, \n",
    "    and fostering resilience and recovery in a compassionate and confidential environment.\n",
    "\"\"\"\n",
    "\n",
    "mental_health_business_definition = proc_prompt(mental_health_business_definition)\n",
    "\n",
    "system_prompt = f\"\"\" \n",
    "    You are an advanced AI system designed to assist a healthcare policy researcher in determining whether a business qualifies as a \n",
    "    medical facility, such as a hospital or clinic, that provides mental or bahavioral healthcare services \n",
    "    for human patients according to the following definition: {mental_health_business_definition}\"\"\"\n",
    "\n",
    "system_prompt = proc_prompt(system_prompt)\n",
    "\n",
    "# For the user prompt, we want to include the name of the business and the description\n",
    "def create_user_prompt(name: str, description: str):\n",
    "    user_prompt = f\"\"\"\n",
    "        The business or provider {name} is described as: {description} \n",
    "        Does the business provide mental or behavioral health care services?\n",
    "        \"\"\"\n",
    "    return proc_prompt(user_prompt)"
   ]
  },
  {
   "cell_type": "code",
   "execution_count": null,
   "id": "a96619eb-714a-4a7e-b835-3e646386eb0e",
   "metadata": {},
   "outputs": [],
   "source": [
    "# Select a sample\n",
    "mental_health = 0\n",
    "inpatient = 0\n",
    "outpatient = 0\n",
    "df_sample = df.loc[\n",
    "    (df['mental_health'] == mental_health) & \n",
    "    (df['inpatient'] == inpatient) & \n",
    "    (df['outpatient'] == outpatient).reset_index(drop=True)]\n",
    "\n",
    "n_samples = df_sample.shape[0]\n",
    "print(f'Samples with \"mental_health = {mental_health}\" & \"inpatient = {inpatient}\" & \"outpatient = {outpatient}\": {n_samples}')\n",
    "\n",
    "# Select one sample\n",
    "#np.random.seed(4)\n",
    "#idx = np.random.randint(n_samples)\n",
    "idx = 11\n",
    "print(idx)\n",
    "name = df_sample.iloc[idx].get('name')\n",
    "description = df_sample.iloc[idx].get('description')\n",
    "user_prompt = create_user_prompt(name=name, description=description)\n",
    "messages = create_messages(system_prompt=system_prompt, user_prompt=user_prompt)\n",
    "print(*messages, sep='\\n\\n')"
   ]
  },
  {
   "cell_type": "markdown",
   "id": "05962008-a3a1-4f60-8415-ace9099d39b0",
   "metadata": {},
   "source": [
    "### Send the messages to the model ###"
   ]
  },
  {
   "cell_type": "code",
   "execution_count": null,
   "id": "1c6c9753-512c-49bd-8612-478116f1062b",
   "metadata": {},
   "outputs": [],
   "source": [
    "# Communicate with the model\n",
    "response = client.beta.chat.completions.parse(\n",
    "    model=model_name,\n",
    "    messages=messages,\n",
    "    temperature=0,\n",
    "    response_format=MentalHealth)\n",
    "response_choice = response.choices[0]"
   ]
  },
  {
   "cell_type": "code",
   "execution_count": null,
   "id": "f029d302-39c8-497f-94e4-2b19833b112c",
   "metadata": {},
   "outputs": [],
   "source": [
    "# Here is the reponse that we want\n",
    "response_message_dict = response_choice.message.parsed.model_dump()\n",
    "print(response_message_dict)\n",
    "\n",
    "# We can get other useful information\n",
    "response_dict = response_choice.model_dump()\n",
    "\n",
    "# Create an output dictionary\n",
    "output_dict = response_message_dict.copy()\n",
    "output_dict.update({'refusal': response_dict.get('refusal')})"
   ]
  }
 ],
 "metadata": {
  "language_info": {
   "name": "python"
  }
 },
 "nbformat": 4,
 "nbformat_minor": 5
}
