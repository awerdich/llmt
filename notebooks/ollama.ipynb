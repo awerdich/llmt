{
 "cells": [
  {
   "cell_type": "markdown",
   "id": "6bb778cb-e3f5-4ec1-b0d2-d8764cb90663",
   "metadata": {},
   "source": [
    "### Getting started with the Ollama library ###"
   ]
  },
  {
   "cell_type": "code",
   "execution_count": 6,
   "id": "0b68ce7a-d58b-49f7-b517-17fdae85ba35",
   "metadata": {},
   "outputs": [
    {
     "data": {
      "text/html": [
       "<style>.container { width:100% !important; }</style>"
      ],
      "text/plain": [
       "<IPython.core.display.HTML object>"
      ]
     },
     "metadata": {},
     "output_type": "display_data"
    },
    {
     "name": "stdout",
     "output_type": "stream",
     "text": [
      "The autoreload extension is already loaded. To reload it, use:\n",
      "  %reload_ext autoreload\n"
     ]
    }
   ],
   "source": [
    "import os\n",
    "import numpy as np\n",
    "import pandas as pd\n",
    "from dotenv import load_dotenv\n",
    "from textwrap import dedent\n",
    "import logging\n",
    "import datetime\n",
    "from pathlib import Path\n",
    "\n",
    "# Ollama\n",
    "import ollama\n",
    "from pydantic import BaseModel\n",
    "\n",
    "# Financial news data for this notebook\n",
    "from gnews import GNews\n",
    "\n",
    "# Appearance of the Notebook\n",
    "from IPython.display import display, HTML\n",
    "display(HTML(\"<style>.container { width:100% !important; }</style>\"))\n",
    "np.set_printoptions(linewidth=110)\n",
    "pd.set_option('display.max_rows', 500)\n",
    "pd.set_option('display.max_columns', 100)\n",
    "pd.set_option('display.width', 1000)\n",
    "\n",
    "# Import this module with autoreload\n",
    "%load_ext autoreload\n",
    "%autoreload 2\n",
    "import llmt\n",
    "# print(f'Package version: {llmt.__version__}')"
   ]
  },
  {
   "cell_type": "code",
   "execution_count": 7,
   "id": "84e2572f-af6b-4831-af16-ed4d1a348f77",
   "metadata": {},
   "outputs": [
    {
     "name": "stdout",
     "output_type": "stream",
     "text": [
      "Data: /app/data\n",
      "Logs:  /app/data/log\n"
     ]
    }
   ],
   "source": [
    "# Data directory and files\n",
    "data_dir = os.path.join(os.environ.get('HOME'), 'data')\n",
    "log_dir = os.path.join(data_dir, 'log')\n",
    "Path(log_dir).mkdir(exist_ok=True, parents=True)\n",
    "print(f'Data: {data_dir}')\n",
    "print(f'Logs:  {log_dir}')\n",
    "\n",
    "# Log file\n",
    "# Set up logger\n",
    "date_str = datetime.date.today().strftime('%y%m%d')\n",
    "log_file_name = f'ollama_log_{date_str}.log'\n",
    "log_file = os.path.join(log_dir, log_file_name)\n",
    "dtfmt = '%y%m%d-%H:%M'\n",
    "logfmt = '%(asctime)s-%(name)s-%(levelname)s-%(message)s'\n",
    "\n",
    "logging.basicConfig(filename=log_file,\n",
    "                    filemode='w',\n",
    "                    level=logging.INFO,\n",
    "                    format=logfmt,\n",
    "                    datefmt=dtfmt)\n",
    "\n",
    "logger = logging.getLogger(name=__name__)\n",
    "logger.setLevel(logging.CRITICAL)"
   ]
  },
  {
   "cell_type": "code",
   "execution_count": 8,
   "id": "5adc21cc-6683-4dce-b374-195633e3fd92",
   "metadata": {},
   "outputs": [
    {
     "name": "stderr",
     "output_type": "stream",
     "text": [
      "04/08/2025 03:52:24 PM - HTTP Request: GET http://ollama:11434/api/tags \"HTTP/1.1 200 OK\"\n"
     ]
    },
    {
     "name": "stdout",
     "output_type": "stream",
     "text": [
      "Available models:\n",
      "- llama3.2:latest\n",
      "- llama3.2:1b\n"
     ]
    }
   ],
   "source": [
    "# Create a connection to Ollama\n",
    "client = ollama.Client(host='http://ollama:11434')\n",
    "try:\n",
    "    client = ollama.Client(host='http://ollama:11434')\n",
    "    models = client.list().models\n",
    "    if models:\n",
    "        print(\"Available models:\")\n",
    "        for model in models:\n",
    "            print(f\"- {model['model']}\")\n",
    "    else:\n",
    "        print(\"No models found.\")\n",
    "except Exception as e:\n",
    "    print(f\"Error: {e}\")"
   ]
  },
  {
   "cell_type": "markdown",
   "id": "b1e68427-53ac-4018-9eb6-1c40cc920f4d",
   "metadata": {},
   "source": [
    "### Ollama getting started ###"
   ]
  },
  {
   "cell_type": "code",
   "execution_count": 5,
   "id": "8ba457d7-3203-466b-a057-c631d2c99399",
   "metadata": {},
   "outputs": [],
   "source": [
    "# Fetch new articles\n",
    "google_news = GNews()\n",
    "news = google_news.get_news('NVDA')"
   ]
  },
  {
   "cell_type": "code",
   "execution_count": 5,
   "id": "7af36d8b-8e1b-4b29-9fe0-1c1f19d43e3d",
   "metadata": {},
   "outputs": [
    {
     "name": "stdout",
     "output_type": "stream",
     "text": [
      "Nvidia Stock (NVDA) Named a Top Semiconductor Pick by Bank of America - TipRanks\n",
      "\n",
      "Ives: Investors With Long-Term Horizons Should Buy Nvidia (NVDA) Stock - Yahoo Finance\n",
      "\n",
      "Jim Cramer on NVIDIA (NVDA): “NVIDIA Got The Exemptions” - Yahoo Finance\n",
      "\n",
      "Is NVIDIA Corporation (NVDA) the Best Fundamental Stock to Buy According to Billionaires? - Yahoo Finance\n",
      "\n",
      "Live Updates: Magnificent 7 Stocks Apple (Nasdaq: AAPL), NVIDIA (Nasdaq: NVDA), and Microsoft (Nasdaq: MSFT) See Share Prices Sink Again Monday - 24/7 Wall St.\n",
      "\n",
      "NVIDIA (NVDA) Downgraded by HSBC as AI GPU Momentum Shows Signs of Slowing - Yahoo Finance\n"
     ]
    }
   ],
   "source": [
    "# Extract a few news titles\n",
    "news_titles = [article.get('title') for article in news[:6]]\n",
    "print(*news_titles, sep='\\n\\n')"
   ]
  },
  {
   "cell_type": "code",
   "execution_count": 7,
   "id": "e1d1f41f-b1d8-414c-b4bc-c362293e2fff",
   "metadata": {},
   "outputs": [
    {
     "name": "stderr",
     "output_type": "stream",
     "text": [
      "04/08/2025 12:46:36 PM - HTTP Request: POST http://ollama:11434/api/chat \"HTTP/1.1 200 OK\"\n",
      "04/08/2025 12:46:37 PM - HTTP Request: POST http://ollama:11434/api/chat \"HTTP/1.1 200 OK\"\n",
      "04/08/2025 12:46:37 PM - HTTP Request: POST http://ollama:11434/api/chat \"HTTP/1.1 200 OK\"\n",
      "04/08/2025 12:46:37 PM - HTTP Request: POST http://ollama:11434/api/chat \"HTTP/1.1 200 OK\"\n",
      "04/08/2025 12:46:38 PM - HTTP Request: POST http://ollama:11434/api/chat \"HTTP/1.1 200 OK\"\n",
      "04/08/2025 12:46:38 PM - HTTP Request: POST http://ollama:11434/api/chat \"HTTP/1.1 200 OK\"\n"
     ]
    }
   ],
   "source": [
    "class NewsAnalysis(BaseModel):\n",
    "    sentiment: str\n",
    "    future_looking: bool\n",
    "\n",
    "system_message = f\"\"\"You are a powerful AI that can analyze the sentiment of news messages and give advice on specific stocks.\"\"\"\n",
    "model = 'llama3.2'\n",
    "\n",
    "for title in news_titles:\n",
    "    messages = [{'role': 'user',\n",
    "                 'content': \n",
    "                 f\"\"\"Analyze the following title for sentiment (positive, negative, or neutral)\n",
    "                 and whether it provides future-looking financial insight, predictions, or guidance on \n",
    "                 whether to buy/hold/sell the stock (True or False): {title}\n",
    "                 \"\"\",}]\n",
    "    response = client.chat(messages=messages, model=model, format=NewsAnalysis.model_json_schema())\n",
    "    # Parse the response into the NewsAnalysis model\n",
    "    sentiment_analysis = NewsAnalysis.model_validate_json(response['message']['content'])"
   ]
  }
 ],
 "metadata": {
  "kernelspec": {
   "display_name": "Python 3 (ipykernel)",
   "language": "python",
   "name": "python3"
  },
  "language_info": {
   "codemirror_mode": {
    "name": "ipython",
    "version": 3
   },
   "file_extension": ".py",
   "mimetype": "text/x-python",
   "name": "python",
   "nbconvert_exporter": "python",
   "pygments_lexer": "ipython3",
   "version": "3.12.9"
  }
 },
 "nbformat": 4,
 "nbformat_minor": 5
}
