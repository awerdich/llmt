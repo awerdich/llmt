{
 "cells": [
  {
   "cell_type": "markdown",
   "id": "94c034dd-6222-4e73-bd30-6693f4fa62b9",
   "metadata": {},
   "source": [
    "### Configure Ollama with structured outputs ###"
   ]
  },
  {
   "cell_type": "code",
   "execution_count": 14,
   "id": "d855ae84-3c04-4677-a51d-63a91a96f37a",
   "metadata": {},
   "outputs": [
    {
     "name": "stdout",
     "output_type": "stream",
     "text": [
      "The autoreload extension is already loaded. To reload it, use:\n",
      "  %reload_ext autoreload\n"
     ]
    }
   ],
   "source": [
    "import os\n",
    "import pandas as pd\n",
    "import numpy as np\n",
    "import logging\n",
    "import time\n",
    "from pathlib import Path\n",
    "from pydantic import BaseModel\n",
    "import json\n",
    "import dotenv\n",
    "from IPython.display import clear_output\n",
    "from tqdm import tqdm\n",
    "\n",
    "logger = logging.getLogger(__name__)\n",
    "\n",
    "import ollama\n",
    "from ollama import Client\n",
    "\n",
    "# Import this module with autoreload\n",
    "%load_ext autoreload\n",
    "%autoreload 2\n",
    "import llmt\n",
    "from llmt.llmtools import Prompt\n",
    "from llmt.llmtools import process_prompt\n",
    "from llmt.ollamamodel import Ollama, OllamaModel\n",
    "from llmt.openai import MentalHealth, OutpatientServices, InpatientServices, create_messages\n",
    "from llmt.performance import Performance\n",
    "# print(llmt.__version__)"
   ]
  },
  {
   "cell_type": "markdown",
   "id": "fafa7ed3-11e3-4e46-bb51-041c73f76c73",
   "metadata": {},
   "source": [
    "### Custom Ollama Client ###"
   ]
  },
  {
   "cell_type": "code",
   "execution_count": 4,
   "id": "2d105712-d051-4545-9a5d-62e33022512d",
   "metadata": {},
   "outputs": [
    {
     "name": "stdout",
     "output_type": "stream",
     "text": [
      "['llama2:13b', 'llama2:7b']\n",
      "['llama2:13b', 'llama2:7b']\n"
     ]
    }
   ],
   "source": [
    "# Parameters\n",
    "client = Client(\n",
    "  host='http://ollama:11434',\n",
    "  headers={'x-some-header': 'some-value'}\n",
    ")\n",
    "model = 'llama2:13b'\n",
    "#client.pull(model)\n",
    "ollama_models = client.list().get('models')\n",
    "ollama_model_list = [model['model'] for model in ollama_models]\n",
    "print(ollama_model_list)\n",
    "\n",
    "# Use class method\n",
    "ollama_model_list = Ollama().models\n",
    "print(ollama_model_list)"
   ]
  },
  {
   "cell_type": "code",
   "execution_count": 5,
   "id": "63d36893-5f6d-432e-9f04-d9204297d4d4",
   "metadata": {},
   "outputs": [
    {
     "data": {
      "text/html": [
       "<div>\n",
       "<style scoped>\n",
       "    .dataframe tbody tr th:only-of-type {\n",
       "        vertical-align: middle;\n",
       "    }\n",
       "\n",
       "    .dataframe tbody tr th {\n",
       "        vertical-align: top;\n",
       "    }\n",
       "\n",
       "    .dataframe thead th {\n",
       "        text-align: right;\n",
       "    }\n",
       "</style>\n",
       "<table border=\"1\" class=\"dataframe\">\n",
       "  <thead>\n",
       "    <tr style=\"text-align: right;\">\n",
       "      <th></th>\n",
       "      <th>id</th>\n",
       "      <th>name</th>\n",
       "      <th>description</th>\n",
       "      <th>mental_health</th>\n",
       "      <th>inpatient</th>\n",
       "      <th>outpatient</th>\n",
       "      <th>dset</th>\n",
       "    </tr>\n",
       "  </thead>\n",
       "  <tbody>\n",
       "    <tr>\n",
       "      <th>0</th>\n",
       "      <td>431643-07</td>\n",
       "      <td>Actriv</td>\n",
       "      <td>Provider of healthcare staffing services based...</td>\n",
       "      <td>2</td>\n",
       "      <td>0</td>\n",
       "      <td>0</td>\n",
       "      <td>train</td>\n",
       "    </tr>\n",
       "    <tr>\n",
       "      <th>1</th>\n",
       "      <td>310749-31</td>\n",
       "      <td>Alima</td>\n",
       "      <td>Operator of a non-governmental organization in...</td>\n",
       "      <td>0</td>\n",
       "      <td>0</td>\n",
       "      <td>0</td>\n",
       "      <td>train</td>\n",
       "    </tr>\n",
       "    <tr>\n",
       "      <th>2</th>\n",
       "      <td>162054-28</td>\n",
       "      <td>Apothecare</td>\n",
       "      <td>Provider of pharmacy services intended to prov...</td>\n",
       "      <td>0</td>\n",
       "      <td>0</td>\n",
       "      <td>0</td>\n",
       "      <td>train</td>\n",
       "    </tr>\n",
       "    <tr>\n",
       "      <th>3</th>\n",
       "      <td>597285-28</td>\n",
       "      <td>April Health (Clinics/Outpatient Services)</td>\n",
       "      <td>Provider of mental health services intended to...</td>\n",
       "      <td>1</td>\n",
       "      <td>0</td>\n",
       "      <td>1</td>\n",
       "      <td>train</td>\n",
       "    </tr>\n",
       "    <tr>\n",
       "      <th>4</th>\n",
       "      <td>373978-90</td>\n",
       "      <td>Arise Child and Family Service</td>\n",
       "      <td>Operator of independent living centers caterin...</td>\n",
       "      <td>2</td>\n",
       "      <td>0</td>\n",
       "      <td>0</td>\n",
       "      <td>train</td>\n",
       "    </tr>\n",
       "  </tbody>\n",
       "</table>\n",
       "</div>"
      ],
      "text/plain": [
       "          id                                        name  \\\n",
       "0  431643-07                                      Actriv   \n",
       "1  310749-31                                       Alima   \n",
       "2  162054-28                                  Apothecare   \n",
       "3  597285-28  April Health (Clinics/Outpatient Services)   \n",
       "4  373978-90              Arise Child and Family Service   \n",
       "\n",
       "                                         description  mental_health  \\\n",
       "0  Provider of healthcare staffing services based...              2   \n",
       "1  Operator of a non-governmental organization in...              0   \n",
       "2  Provider of pharmacy services intended to prov...              0   \n",
       "3  Provider of mental health services intended to...              1   \n",
       "4  Operator of independent living centers caterin...              2   \n",
       "\n",
       "   inpatient  outpatient   dset  \n",
       "0          0           0  train  \n",
       "1          0           0  train  \n",
       "2          0           0  train  \n",
       "3          0           1  train  \n",
       "4          0           0  train  "
      ]
     },
     "metadata": {},
     "output_type": "display_data"
    },
    {
     "name": "stdout",
     "output_type": "stream",
     "text": [
      "(187, 7)\n"
     ]
    }
   ],
   "source": [
    "# Directories and files\n",
    "data_dir = os.path.join(os.environ.get('HOME'), 'home_data', 'hcp')\n",
    "test_file_name = 'hcp-alldata-250413.parquet'\n",
    "test_file = os.path.join(data_dir, test_file_name)\n",
    "df = pd.read_parquet(test_file)\n",
    "# Filter the labeled data\n",
    "df = df.loc[df['dset'] == 'train'].\\\n",
    "                reset_index(drop=True).\\\n",
    "                astype({'mental_health': int,\n",
    "                        'inpatient': int,\n",
    "                        'outpatient': int})\n",
    "display(df.head())\n",
    "print(df.shape)"
   ]
  },
  {
   "cell_type": "markdown",
   "id": "ced749b2-f951-49ec-9e3a-106ad7004175",
   "metadata": {},
   "source": [
    "### Structured Outputs ###"
   ]
  },
  {
   "cell_type": "code",
   "execution_count": 134,
   "id": "1ee0537e-77ca-4711-a467-d04e6b4eb7a1",
   "metadata": {},
   "outputs": [
    {
     "name": "stdout",
     "output_type": "stream",
     "text": [
      "Found 25 company ids\n"
     ]
    },
    {
     "data": {
      "text/plain": [
       "id                                                       135432-64\n",
       "name                       Chicago House And Social Service Agency\n",
       "description      Non-profit organization offering housing, heal...\n",
       "mental_health                                                    0\n",
       "inpatient                                                        0\n",
       "outpatient                                                       0\n",
       "dset                                                         train\n",
       "Name: 90, dtype: object"
      ]
     },
     "metadata": {},
     "output_type": "display_data"
    },
    {
     "name": "stdout",
     "output_type": "stream",
     "text": [
      "\n",
      "Chicago House And Social Service Agency\n",
      "Non-profit organization offering housing, health, and employment support to those impacted by HIV/AIDS and the LGBTQ+ community. Services include TransLife Care, HIV testing, case management, and free rapid screenings for HIV, syphilis, and Hepatitis-C. The agency also provides essential health services to vulnerable individuals.\n"
     ]
    }
   ],
   "source": [
    "# Pick an example of a company that provides mental health services\n",
    "mental_health = 0\n",
    "inpatient = 0\n",
    "id_list = list(df.loc[(df['mental_health'] == mental_health) & (df['inpatient'] == inpatient), 'id'].unique())\n",
    "print(f'Found {len(id_list)} company ids')\n",
    "\n",
    "# Pick a company ID\n",
    "idx = 10\n",
    "company_id = id_list[idx]\n",
    "# company_id = '135432-64'\n",
    "ser_id = df.loc[df['id'] == company_id].iloc[0]\n",
    "display(ser_id)\n",
    "name = ser_id['name']\n",
    "description = ser_id['description']\n",
    "print()\n",
    "print(name)\n",
    "print(description)"
   ]
  },
  {
   "cell_type": "code",
   "execution_count": 135,
   "id": "aa9b4970-089f-40dc-b999-8faa2c1698e1",
   "metadata": {},
   "outputs": [],
   "source": [
    "# Create an ollama class\n",
    "api_endpoint = 'http://ollama:11434'\n",
    "def create_client():\n",
    "    client = None\n",
    "    try:\n",
    "        client = ollama.Client(host=api_endpoint,\n",
    "                               headers={'x-some-header': 'some-value'})\n",
    "    except Exception as e:\n",
    "        logger.error(f'Error: {e}')\n",
    "    return client\n",
    "\n",
    "client = create_client()"
   ]
  },
  {
   "cell_type": "code",
   "execution_count": 136,
   "id": "089fade1-8558-4256-89fb-beb3e6fbfc89",
   "metadata": {},
   "outputs": [],
   "source": [
    "version = 3\n",
    "variable = 'mental_health'\n",
    "pred_col = 'pred_mh'\n",
    "mh_prompt_name = f'{variable}_system_{str(version).zfill(2)}'\n",
    "system_prompt = Prompt().load(prompt_name=mh_prompt_name)"
   ]
  },
  {
   "cell_type": "code",
   "execution_count": 137,
   "id": "a1e77948-30b4-4d56-ad78-b1c680f19605",
   "metadata": {},
   "outputs": [
    {
     "name": "stdout",
     "output_type": "stream",
     "text": [
      "You are an AI system assisting a healthcare policy researcher in identifying whether a business qualifies as a medical facility or organization that provides direct mental or behavioral healthcare services to human patients.\n",
      "A qualifying business must meet all of the following criteria:\n",
      "\n",
      "It is a specialized healthcare facility or organization, such as a general hospital, mental health clinic, psychiatric hospital, counseling center, or behavioral health treatment center.  \n",
      "It provides direct services to human patients, in-person or online, including assessments, diagnoses, therapy (individual, group, or family), psychiatric evaluations, medication management, and/or crisis intervention.  \n",
      "Services are delivered by licensed mental health professionals such as psychiatrists, psychologists, counselors, clinical social workers, or psychiatric nurse practitioners.\n",
      "\n",
      "Exclude any business that falls into the following categories, even if they contribute to mental health solutions:\n",
      "\n",
      "Pharmaceutical companies or biotechnology firms (e.g., developing medications or microbiome-based therapies)  \n",
      "Veterinary care providers  \n",
      "Healthcare staffing or management organizations  \n",
      "Insurance providers  \n",
      "Laboratories (e.g., for blood, genetic, or microbiome testing)\n",
      "Digital health monitoring tools\n",
      "\n",
      "These organizations do not qualify as mental health service providers because they do not directly deliver in-person or clinically supervised care to human patients. \n",
      "Only classify a business as a mental health provider if it clearly meets all inclusion criteria and none of the exclusion criteria.\n",
      "Output Format:\n",
      "Always respond using the exact standardized format shown below:\n",
      "Mental Health Services: [True/False]\n",
      "Example:\n",
      "Holobiome, a biotechnology company developing gut-brain axis-based probiotics for mental health.\n",
      "Output: Mental Health Services: False\n",
      "This company should be excluded. It does not directly provide mental health services to patients but develops therapeutic products.\n"
     ]
    }
   ],
   "source": [
    "print(system_prompt)"
   ]
  },
  {
   "cell_type": "code",
   "execution_count": 138,
   "id": "46617ce5-67f6-40e0-9356-3e224b783fb5",
   "metadata": {},
   "outputs": [
    {
     "name": "stdout",
     "output_type": "stream",
     "text": [
      "The organization Chicago House And Social Service Agency is described as: Non-profit organization offering housing, health, and employment support to those impacted by HIV/AIDS and the LGBTQ+ community. Services include TransLife Care, HIV testing, case management, and free rapid screenings for HIV, syphilis, and Hepatitis-C. The agency also provides essential health services to vulnerable individuals. \n",
      "Does this organization provide mental health healthcare services?\n"
     ]
    }
   ],
   "source": [
    "user_prompt = process_prompt(f\"\"\"\n",
    "                        The organization {name} is described as: {description} \n",
    "                        Does this organization provide {variable} healthcare services?\n",
    "                        \"\"\")\n",
    "print(user_prompt)"
   ]
  },
  {
   "cell_type": "code",
   "execution_count": 139,
   "id": "42664f8f-57bd-4966-976b-c73dcfb3cad4",
   "metadata": {},
   "outputs": [
    {
     "name": "stdout",
     "output_type": "stream",
     "text": [
      "[{'role': 'system', 'content': 'You are an AI system assisting a healthcare policy researcher in identifying whether a business qualifies as a medical facility or organization that provides direct mental or behavioral healthcare services to human patients.\\nA qualifying business must meet all of the following criteria:\\n\\nIt is a specialized healthcare facility or organization, such as a general hospital, mental health clinic, psychiatric hospital, counseling center, or behavioral health treatment center.  \\nIt provides direct services to human patients, in-person or online, including assessments, diagnoses, therapy (individual, group, or family), psychiatric evaluations, medication management, and/or crisis intervention.  \\nServices are delivered by licensed mental health professionals such as psychiatrists, psychologists, counselors, clinical social workers, or psychiatric nurse practitioners.\\n\\nExclude any business that falls into the following categories, even if they contribute to mental health solutions:\\n\\nPharmaceutical companies or biotechnology firms (e.g., developing medications or microbiome-based therapies)  \\nVeterinary care providers  \\nHealthcare staffing or management organizations  \\nInsurance providers  \\nLaboratories (e.g., for blood, genetic, or microbiome testing)\\nDigital health monitoring tools\\n\\nThese organizations do not qualify as mental health service providers because they do not directly deliver in-person or clinically supervised care to human patients. \\nOnly classify a business as a mental health provider if it clearly meets all inclusion criteria and none of the exclusion criteria.\\nOutput Format:\\nAlways respond using the exact standardized format shown below:\\nMental Health Services: [True/False]\\nExample:\\nHolobiome, a biotechnology company developing gut-brain axis-based probiotics for mental health.\\nOutput: Mental Health Services: False\\nThis company should be excluded. It does not directly provide mental health services to patients but develops therapeutic products.'}, {'role': 'user', 'content': 'The organization Chicago House And Social Service Agency is described as: Non-profit organization offering housing, health, and employment support to those impacted by HIV/AIDS and the LGBTQ+ community. Services include TransLife Care, HIV testing, case management, and free rapid screenings for HIV, syphilis, and Hepatitis-C. The agency also provides essential health services to vulnerable individuals. \\nDoes this organization provide mental health healthcare services?'}]\n"
     ]
    }
   ],
   "source": [
    "messages = create_messages(system_prompt=system_prompt, user_prompt=user_prompt)\n",
    "print(messages)"
   ]
  },
  {
   "cell_type": "code",
   "execution_count": 162,
   "id": "7f6f3bf9-64a3-48e8-8bfd-76603e587c49",
   "metadata": {},
   "outputs": [],
   "source": [
    "# client = create_client()\n",
    "om = Ollama()\n",
    "model = 'llama2:7b'\n",
    "temperature = 0\n",
    "client = om.create_client()\n",
    "\n",
    "response = client.chat(messages=messages,\n",
    "                       model=model,\n",
    "                       format=MentalHealth.model_json_schema(),\n",
    "                       options={'temperature': temperature})\n",
    "message = response_message(response)"
   ]
  },
  {
   "cell_type": "code",
   "execution_count": 165,
   "id": "ccffcb23-f217-4710-9dd1-f3dc75b6ebb7",
   "metadata": {},
   "outputs": [
    {
     "ename": "ValidationError",
     "evalue": "1 validation error for MentalHealth\n  JSON input should be string, bytes or bytearray [type=json_type, input_value=None, input_type=NoneType]\n    For further information visit https://errors.pydantic.dev/2.11/v/json_type",
     "output_type": "error",
     "traceback": [
      "\u001b[31m---------------------------------------------------------------------------\u001b[39m",
      "\u001b[31mValidationError\u001b[39m                           Traceback (most recent call last)",
      "\u001b[36mCell\u001b[39m\u001b[36m \u001b[39m\u001b[32mIn[165]\u001b[39m\u001b[32m, line 1\u001b[39m\n\u001b[32m----> \u001b[39m\u001b[32m1\u001b[39m \u001b[43mMentalHealth\u001b[49m\u001b[43m.\u001b[49m\u001b[43mmodel_validate_json\u001b[49m\u001b[43m(\u001b[49m\u001b[38;5;28;43;01mNone\u001b[39;49;00m\u001b[43m)\u001b[49m.model_dump()\n",
      "\u001b[36mFile \u001b[39m\u001b[32m/usr/local/lib/python3.12/site-packages/pydantic/main.py:744\u001b[39m, in \u001b[36mBaseModel.model_validate_json\u001b[39m\u001b[34m(cls, json_data, strict, context, by_alias, by_name)\u001b[39m\n\u001b[32m    738\u001b[39m \u001b[38;5;28;01mif\u001b[39;00m by_alias \u001b[38;5;129;01mis\u001b[39;00m \u001b[38;5;28;01mFalse\u001b[39;00m \u001b[38;5;129;01mand\u001b[39;00m by_name \u001b[38;5;129;01mis\u001b[39;00m \u001b[38;5;129;01mnot\u001b[39;00m \u001b[38;5;28;01mTrue\u001b[39;00m:\n\u001b[32m    739\u001b[39m     \u001b[38;5;28;01mraise\u001b[39;00m PydanticUserError(\n\u001b[32m    740\u001b[39m         \u001b[33m'\u001b[39m\u001b[33mAt least one of `by_alias` or `by_name` must be set to True.\u001b[39m\u001b[33m'\u001b[39m,\n\u001b[32m    741\u001b[39m         code=\u001b[33m'\u001b[39m\u001b[33mvalidate-by-alias-and-name-false\u001b[39m\u001b[33m'\u001b[39m,\n\u001b[32m    742\u001b[39m     )\n\u001b[32m--> \u001b[39m\u001b[32m744\u001b[39m \u001b[38;5;28;01mreturn\u001b[39;00m \u001b[38;5;28;43mcls\u001b[39;49m\u001b[43m.\u001b[49m\u001b[43m__pydantic_validator__\u001b[49m\u001b[43m.\u001b[49m\u001b[43mvalidate_json\u001b[49m\u001b[43m(\u001b[49m\n\u001b[32m    745\u001b[39m \u001b[43m    \u001b[49m\u001b[43mjson_data\u001b[49m\u001b[43m,\u001b[49m\u001b[43m \u001b[49m\u001b[43mstrict\u001b[49m\u001b[43m=\u001b[49m\u001b[43mstrict\u001b[49m\u001b[43m,\u001b[49m\u001b[43m \u001b[49m\u001b[43mcontext\u001b[49m\u001b[43m=\u001b[49m\u001b[43mcontext\u001b[49m\u001b[43m,\u001b[49m\u001b[43m \u001b[49m\u001b[43mby_alias\u001b[49m\u001b[43m=\u001b[49m\u001b[43mby_alias\u001b[49m\u001b[43m,\u001b[49m\u001b[43m \u001b[49m\u001b[43mby_name\u001b[49m\u001b[43m=\u001b[49m\u001b[43mby_name\u001b[49m\n\u001b[32m    746\u001b[39m \u001b[43m\u001b[49m\u001b[43m)\u001b[49m\n",
      "\u001b[31mValidationError\u001b[39m: 1 validation error for MentalHealth\n  JSON input should be string, bytes or bytearray [type=json_type, input_value=None, input_type=NoneType]\n    For further information visit https://errors.pydantic.dev/2.11/v/json_type"
     ]
    }
   ],
   "source": [
    "MentalHealth.model_validate_json(None).model_dump()"
   ]
  },
  {
   "cell_type": "code",
   "execution_count": 161,
   "id": "9adcabfa-b832-4f8e-a639-595354d5e594",
   "metadata": {},
   "outputs": [
    {
     "data": {
      "text/plain": [
       "'{\"pred_mh\":false,\"pred_mh_score\":0}'"
      ]
     },
     "execution_count": 161,
     "metadata": {},
     "output_type": "execute_result"
    }
   ],
   "source": [
    "response_message(response)"
   ]
  },
  {
   "cell_type": "code",
   "execution_count": null,
   "id": "a028dfb1-92d4-455d-aa9a-9a313ff86769",
   "metadata": {},
   "outputs": [],
   "source": [
    "output = MentalHealth.model_validate_json(response.message.content)\n",
    "output = output.model_dump()\n",
    "\n",
    "response_dump = response.model_dump()\n",
    "\n",
    "output.update({'done': response_dump.get('done'),\n",
    "               'done_reason': response_dump.get('done_reason')})\n",
    "\n",
    "print(response.message.content)\n",
    "print(output)"
   ]
  },
  {
   "cell_type": "code",
   "execution_count": 143,
   "id": "632668da-48ed-4d07-9c70-59bef37d5031",
   "metadata": {},
   "outputs": [
    {
     "data": {
      "text/plain": [
       "True"
      ]
     },
     "execution_count": 143,
     "metadata": {},
     "output_type": "execute_result"
    }
   ],
   "source": [
    "response.get('done')"
   ]
  },
  {
   "cell_type": "code",
   "execution_count": 141,
   "id": "3fa11a7a-e6b6-48ae-b825-4b40c571fbe6",
   "metadata": {},
   "outputs": [
    {
     "data": {
      "text/plain": [
       "'{\\n\"pred_mh\": false\\n\\n    , \"pred_mh_score\": 0\\n}\\n\\n   '"
      ]
     },
     "execution_count": 141,
     "metadata": {},
     "output_type": "execute_result"
    }
   ],
   "source": [
    "response.message.content"
   ]
  },
  {
   "cell_type": "code",
   "execution_count": 133,
   "id": "cc3c1f2a-691f-4fe6-a66e-90dc18773659",
   "metadata": {},
   "outputs": [
    {
     "data": {
      "text/plain": [
       "'{\"pred_mh\": false    , \"pred_mh_score\": 0}   '"
      ]
     },
     "execution_count": 133,
     "metadata": {},
     "output_type": "execute_result"
    }
   ],
   "source": [
    "response.message.content.replace('\\n', '').replace('\\t', '')"
   ]
  },
  {
   "cell_type": "code",
   "execution_count": 128,
   "id": "4d22da90-893b-4607-aad9-bc9e542ab627",
   "metadata": {},
   "outputs": [],
   "source": [
    "output = OllamaModel().send_messages(messages=messages,\n",
    "                                     model='llama2:7b',\n",
    "                                     temperature=temperature,\n",
    "                                     response_format=MentalHealth,\n",
    "                                     client=OllamaModel().client)"
   ]
  },
  {
   "cell_type": "code",
   "execution_count": 129,
   "id": "0d139139-f291-495e-88bf-0350906a89f1",
   "metadata": {},
   "outputs": [
    {
     "name": "stdout",
     "output_type": "stream",
     "text": [
      "{'pred_mh': False, 'pred_mh_score': 0.0, 'done': True, 'done_reason': 'stop'}\n"
     ]
    }
   ],
   "source": [
    "print(output)"
   ]
  },
  {
   "cell_type": "code",
   "execution_count": 27,
   "id": "35f7dad7-317b-4d9b-9333-3112b5555694",
   "metadata": {},
   "outputs": [
    {
     "name": "stdout",
     "output_type": "stream",
     "text": [
      "[{'role': 'system', 'content': 'You are an AI system assisting a healthcare policy researcher in identifying whether a business qualifies as a medical facility or organization that provides direct mental or behavioral healthcare services to human patients.\\nA qualifying business must meet all of the following criteria:\\n\\nIt is a specialized healthcare facility or organization, such as a general hospital, mental health clinic, psychiatric hospital, counseling center, or behavioral health treatment center.  \\nIt provides direct services to human patients, in-person or online, including assessments, diagnoses, therapy (individual, group, or family), psychiatric evaluations, medication management, and/or crisis intervention.  \\nServices are delivered by licensed mental health professionals such as psychiatrists, psychologists, counselors, clinical social workers, or psychiatric nurse practitioners.\\n\\nExclude any business that falls into the following categories, even if they contribute to mental health solutions:\\n\\nPharmaceutical companies or biotechnology firms (e.g., developing medications or microbiome-based therapies)  \\nVeterinary care providers  \\nHealthcare staffing or management organizations  \\nInsurance providers  \\nLaboratories (e.g., for blood, genetic, or microbiome testing)\\nDigital health monitoring tools\\n\\nThese organizations do not qualify as mental health service providers because they do not directly deliver in-person or clinically supervised care to human patients. \\nOnly classify a business as a mental health provider if it clearly meets all inclusion criteria and none of the exclusion criteria.\\nOutput Format:\\nAlways respond using the exact standardized format shown below:\\nMental Health Services: [True/False]\\nExample:\\nHolobiome, a biotechnology company developing gut-brain axis-based probiotics for mental health.\\nOutput: Mental Health Services: False\\nThis company should be excluded. It does not directly provide mental health services to patients but develops therapeutic products.'}, {'role': 'user', 'content': 'The organization Purpose Healing Center is described as: Provider of alcohol and drug treatment centers intended for inpatient and outpatient programs. The company offers a variety of programs including medical detox, medication assisted treatment, and inpatient and outpatient rehab, patients, including dual diagnosis, mental health services, enabling patients to get a safe recovery environment away from drugs. \\nDoes this organization provide mental health healthcare services?'}]\n"
     ]
    }
   ],
   "source": [
    "print(messages)"
   ]
  },
  {
   "cell_type": "code",
   "execution_count": 28,
   "id": "8c97e56c-3a4c-47a7-a445-40e554b4627a",
   "metadata": {},
   "outputs": [
    {
     "name": "stdout",
     "output_type": "stream",
     "text": [
      "[{'role': 'system', 'content': 'You are an AI system assisting a healthcare policy researcher in identifying whether a business qualifies as a medical facility or organization that provides direct mental or behavioral healthcare services to human patients.\\nA qualifying business must meet all of the following criteria:\\n\\nIt is a specialized healthcare facility or organization, such as a general hospital, mental health clinic, psychiatric hospital, counseling center, or behavioral health treatment center.  \\nIt provides direct services to human patients, in-person or online, including assessments, diagnoses, therapy (individual, group, or family), psychiatric evaluations, medication management, and/or crisis intervention.  \\nServices are delivered by licensed mental health professionals such as psychiatrists, psychologists, counselors, clinical social workers, or psychiatric nurse practitioners.\\n\\nExclude any business that falls into the following categories, even if they contribute to mental health solutions:\\n\\nPharmaceutical companies or biotechnology firms (e.g., developing medications or microbiome-based therapies)  \\nVeterinary care providers  \\nHealthcare staffing or management organizations  \\nInsurance providers  \\nLaboratories (e.g., for blood, genetic, or microbiome testing)\\nDigital health monitoring tools\\n\\nThese organizations do not qualify as mental health service providers because they do not directly deliver in-person or clinically supervised care to human patients. \\nOnly classify a business as a mental health provider if it clearly meets all inclusion criteria and none of the exclusion criteria.\\nOutput Format:\\nAlways respond using the exact standardized format shown below:\\nMental Health Services: [True/False]\\nExample:\\nHolobiome, a biotechnology company developing gut-brain axis-based probiotics for mental health.\\nOutput: Mental Health Services: False\\nThis company should be excluded. It does not directly provide mental health services to patients but develops therapeutic products.'}, {'role': 'user', 'content': 'The organization Purpose Healing Center is described as: Provider of alcohol and drug treatment centers intended for inpatient and outpatient programs. The company offers a variety of programs including medical detox, medication assisted treatment, and inpatient and outpatient rehab, patients, including dual diagnosis, mental health services, enabling patients to get a safe recovery environment away from drugs. \\nDoes this organization provide mental health healthcare services?'}]\n"
     ]
    }
   ],
   "source": [
    "print(messages)"
   ]
  },
  {
   "cell_type": "code",
   "execution_count": null,
   "id": "ead2a1aa-5c4e-4b86-b5e7-6384a812fecb",
   "metadata": {},
   "outputs": [],
   "source": []
  }
 ],
 "metadata": {
  "kernelspec": {
   "display_name": "Python 3 (ipykernel)",
   "language": "python",
   "name": "python3"
  },
  "language_info": {
   "codemirror_mode": {
    "name": "ipython",
    "version": 3
   },
   "file_extension": ".py",
   "mimetype": "text/x-python",
   "name": "python",
   "nbconvert_exporter": "python",
   "pygments_lexer": "ipython3",
   "version": "3.12.10"
  }
 },
 "nbformat": 4,
 "nbformat_minor": 5
}
