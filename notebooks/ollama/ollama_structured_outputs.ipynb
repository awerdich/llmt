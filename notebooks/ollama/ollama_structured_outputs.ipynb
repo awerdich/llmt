{
 "cells": [
  {
   "cell_type": "markdown",
   "id": "94c034dd-6222-4e73-bd30-6693f4fa62b9",
   "metadata": {},
   "source": [
    "### Configure Ollama with structured outputs ###"
   ]
  },
  {
   "cell_type": "code",
   "execution_count": 2,
   "id": "d855ae84-3c04-4677-a51d-63a91a96f37a",
   "metadata": {},
   "outputs": [],
   "source": [
    "import os\n",
    "import pandas as pd\n",
    "import numpy as np\n",
    "import logging\n",
    "import time\n",
    "from pathlib import Path\n",
    "from pydantic import BaseModel\n",
    "import json\n",
    "import dotenv\n",
    "from IPython.display import clear_output\n",
    "from tqdm import tqdm\n",
    "\n",
    "logger = logging.getLogger(__name__)\n",
    "\n",
    "import ollama\n",
    "from ollama import Client\n",
    "\n",
    "# Import this module with autoreload\n",
    "%load_ext autoreload\n",
    "%autoreload 2\n",
    "import llmt\n",
    "from llmt.llmtools import Prompt\n",
    "from llmt.llmtools import process_prompt\n",
    "from llmt.ollamamodel import Ollama, OllamaModel\n",
    "from llmt.openaimodel import MentalHealth, OutpatientServices, InpatientServices, create_messages\n",
    "from llmt.performance import Performance\n",
    "from llmt.filetools import FileOP\n",
    "# print(llmt.__version__)"
   ]
  },
  {
   "cell_type": "markdown",
   "id": "fafa7ed3-11e3-4e46-bb51-041c73f76c73",
   "metadata": {},
   "source": [
    "### Custom Ollama Client ###"
   ]
  },
  {
   "cell_type": "code",
   "execution_count": 3,
   "id": "2d105712-d051-4545-9a5d-62e33022512d",
   "metadata": {},
   "outputs": [
    {
     "name": "stdout",
     "output_type": "stream",
     "text": [
      "['llama2:13b', 'llama2:7b']\n",
      "['llama2:13b', 'llama2:7b']\n"
     ]
    }
   ],
   "source": [
    "# Parameters\n",
    "client = Client(\n",
    "  host='http://ollama:11434',\n",
    "  headers={'x-some-header': 'some-value'}\n",
    ")\n",
    "model = 'llama2:13b'\n",
    "#client.pull(model)\n",
    "ollama_models = client.list().get('models')\n",
    "ollama_model_list = [model['model'] for model in ollama_models]\n",
    "print(ollama_model_list)\n",
    "\n",
    "# Use class method\n",
    "ollama_model_list = Ollama().models\n",
    "print(ollama_model_list)"
   ]
  },
  {
   "cell_type": "code",
   "execution_count": 3,
   "id": "865b3120-37ba-4081-9f1e-6a759c8472e1",
   "metadata": {},
   "outputs": [
    {
     "name": "stdout",
     "output_type": "stream",
     "text": [
      "Created .parquet file.\n"
     ]
    },
    {
     "data": {
      "text/html": [
       "<div>\n",
       "<style scoped>\n",
       "    .dataframe tbody tr th:only-of-type {\n",
       "        vertical-align: middle;\n",
       "    }\n",
       "\n",
       "    .dataframe tbody tr th {\n",
       "        vertical-align: top;\n",
       "    }\n",
       "\n",
       "    .dataframe thead th {\n",
       "        text-align: right;\n",
       "    }\n",
       "</style>\n",
       "<table border=\"1\" class=\"dataframe\">\n",
       "  <thead>\n",
       "    <tr style=\"text-align: right;\">\n",
       "      <th></th>\n",
       "      <th>id</th>\n",
       "      <th>name</th>\n",
       "      <th>description</th>\n",
       "      <th>mental_health</th>\n",
       "      <th>inpatient</th>\n",
       "      <th>outpatient</th>\n",
       "      <th>dset</th>\n",
       "    </tr>\n",
       "  </thead>\n",
       "  <tbody>\n",
       "    <tr>\n",
       "      <th>0</th>\n",
       "      <td>431643-07</td>\n",
       "      <td>Actriv</td>\n",
       "      <td>Provider of healthcare staffing services based...</td>\n",
       "      <td>2</td>\n",
       "      <td>0</td>\n",
       "      <td>0</td>\n",
       "      <td>train</td>\n",
       "    </tr>\n",
       "    <tr>\n",
       "      <th>1</th>\n",
       "      <td>310749-31</td>\n",
       "      <td>Alima</td>\n",
       "      <td>Operator of a non-governmental organization in...</td>\n",
       "      <td>0</td>\n",
       "      <td>0</td>\n",
       "      <td>0</td>\n",
       "      <td>train</td>\n",
       "    </tr>\n",
       "    <tr>\n",
       "      <th>2</th>\n",
       "      <td>162054-28</td>\n",
       "      <td>Apothecare</td>\n",
       "      <td>Provider of pharmacy services intended to prov...</td>\n",
       "      <td>0</td>\n",
       "      <td>0</td>\n",
       "      <td>0</td>\n",
       "      <td>train</td>\n",
       "    </tr>\n",
       "    <tr>\n",
       "      <th>3</th>\n",
       "      <td>597285-28</td>\n",
       "      <td>April Health (Clinics/Outpatient Services)</td>\n",
       "      <td>Provider of mental health services intended to...</td>\n",
       "      <td>1</td>\n",
       "      <td>0</td>\n",
       "      <td>1</td>\n",
       "      <td>train</td>\n",
       "    </tr>\n",
       "    <tr>\n",
       "      <th>4</th>\n",
       "      <td>373978-90</td>\n",
       "      <td>Arise Child and Family Service</td>\n",
       "      <td>Operator of independent living centers caterin...</td>\n",
       "      <td>2</td>\n",
       "      <td>0</td>\n",
       "      <td>0</td>\n",
       "      <td>train</td>\n",
       "    </tr>\n",
       "  </tbody>\n",
       "</table>\n",
       "</div>"
      ],
      "text/plain": [
       "          id                                        name  \\\n",
       "0  431643-07                                      Actriv   \n",
       "1  310749-31                                       Alima   \n",
       "2  162054-28                                  Apothecare   \n",
       "3  597285-28  April Health (Clinics/Outpatient Services)   \n",
       "4  373978-90              Arise Child and Family Service   \n",
       "\n",
       "                                         description  mental_health  \\\n",
       "0  Provider of healthcare staffing services based...              2   \n",
       "1  Operator of a non-governmental organization in...              0   \n",
       "2  Provider of pharmacy services intended to prov...              0   \n",
       "3  Provider of mental health services intended to...              1   \n",
       "4  Operator of independent living centers caterin...              2   \n",
       "\n",
       "   inpatient  outpatient   dset  \n",
       "0          0           0  train  \n",
       "1          0           0  train  \n",
       "2          0           0  train  \n",
       "3          0           1  train  \n",
       "4          0           0  train  "
      ]
     },
     "metadata": {},
     "output_type": "display_data"
    },
    {
     "name": "stdout",
     "output_type": "stream",
     "text": [
      "(187, 7)\n"
     ]
    }
   ],
   "source": [
    "# Directories and files\n",
    "data_dir = os.path.join(os.environ.get('HOME'), 'home_data', 'hcp')\n",
    "test_file_name = 'hcp-alldata-250413.parquet'\n",
    "\n",
    "# Load the data from URL\n",
    "url = f'https://dsets.s3.us-east-1.amazonaws.com/{test_file_name}'\n",
    "test_file = FileOP().download_from_url(url=url, download_dir=data_dir)\n",
    "df = pd.read_parquet(test_file)\n",
    "\n",
    "# Filter the labeled data\n",
    "df = df.loc[df['dset'] == 'train'].\\\n",
    "                reset_index(drop=True).\\\n",
    "                astype({'mental_health': int,\n",
    "                        'inpatient': int,\n",
    "                        'outpatient': int})\n",
    "display(df.head())\n",
    "print(df.shape)"
   ]
  },
  {
   "cell_type": "markdown",
   "id": "ced749b2-f951-49ec-9e3a-106ad7004175",
   "metadata": {},
   "source": [
    "### Structured Outputs ###"
   ]
  },
  {
   "cell_type": "code",
   "execution_count": 5,
   "id": "1ee0537e-77ca-4711-a467-d04e6b4eb7a1",
   "metadata": {},
   "outputs": [
    {
     "name": "stdout",
     "output_type": "stream",
     "text": [
      "Found 62 company ids\n"
     ]
    },
    {
     "data": {
      "text/plain": [
       "id                                                       444148-30\n",
       "name                                        Purpose Healing Center\n",
       "description      Provider of alcohol and drug treatment centers...\n",
       "mental_health                                                    1\n",
       "inpatient                                                        1\n",
       "outpatient                                                       1\n",
       "dset                                                         train\n",
       "Name: 116, dtype: object"
      ]
     },
     "metadata": {},
     "output_type": "display_data"
    },
    {
     "name": "stdout",
     "output_type": "stream",
     "text": [
      "\n",
      "Purpose Healing Center\n",
      "Provider of alcohol and drug treatment centers intended for inpatient and outpatient programs. The company offers a variety of programs including medical detox, medication assisted treatment, and inpatient and outpatient rehab, patients, including dual diagnosis, mental health services, enabling patients to get a safe recovery environment away from drugs.\n"
     ]
    }
   ],
   "source": [
    "# Pick an example of a company that provides mental health services\n",
    "mental_health = 1\n",
    "inpatient = 1\n",
    "id_list = list(df.loc[(df['mental_health'] == mental_health) & (df['inpatient'] == inpatient), 'id'].unique())\n",
    "print(f'Found {len(id_list)} company ids')\n",
    "\n",
    "# Pick a company ID\n",
    "idx = 10\n",
    "company_id = id_list[idx]\n",
    "# company_id = '135432-64'\n",
    "ser_id = df.loc[df['id'] == company_id].iloc[0]\n",
    "display(ser_id)\n",
    "name = ser_id['name']\n",
    "description = ser_id['description']\n",
    "print()\n",
    "print(name)\n",
    "print(description)"
   ]
  },
  {
   "cell_type": "code",
   "execution_count": 6,
   "id": "aa9b4970-089f-40dc-b999-8faa2c1698e1",
   "metadata": {},
   "outputs": [],
   "source": [
    "# Create an ollama class\n",
    "api_endpoint = 'http://ollama:11434'\n",
    "def create_client():\n",
    "    client = None\n",
    "    try:\n",
    "        client = ollama.Client(host=api_endpoint,\n",
    "                               headers={'x-some-header': 'some-value'})\n",
    "    except Exception as e:\n",
    "        logger.error(f'Error: {e}')\n",
    "    return client\n",
    "\n",
    "client = create_client()"
   ]
  },
  {
   "cell_type": "code",
   "execution_count": 7,
   "id": "089fade1-8558-4256-89fb-beb3e6fbfc89",
   "metadata": {},
   "outputs": [],
   "source": [
    "version = 3\n",
    "variable = 'mental_health'\n",
    "pred_col = 'pred_mh'\n",
    "mh_prompt_name = f'{variable}_system_{str(version).zfill(2)}'\n",
    "system_prompt = Prompt().load(prompt_name=mh_prompt_name)"
   ]
  },
  {
   "cell_type": "code",
   "execution_count": 8,
   "id": "a1e77948-30b4-4d56-ad78-b1c680f19605",
   "metadata": {},
   "outputs": [
    {
     "name": "stdout",
     "output_type": "stream",
     "text": [
      "You are an AI system assisting a healthcare policy researcher in identifying whether a business qualifies as a medical facility or organization that provides direct mental or behavioral healthcare services to human patients.\n",
      "A qualifying business must meet all of the following criteria:\n",
      "\n",
      "It is a specialized healthcare facility or organization, such as a general hospital, mental health clinic, psychiatric hospital, counseling center, or behavioral health treatment center.  \n",
      "It provides direct services to human patients, in-person or online, including assessments, diagnoses, therapy (individual, group, or family), psychiatric evaluations, medication management, and/or crisis intervention.  \n",
      "Services are delivered by licensed mental health professionals such as psychiatrists, psychologists, counselors, clinical social workers, or psychiatric nurse practitioners.\n",
      "\n",
      "Exclude any business that falls into the following categories, even if they contribute to mental health solutions:\n",
      "\n",
      "Pharmaceutical companies or biotechnology firms (e.g., developing medications or microbiome-based therapies)  \n",
      "Veterinary care providers  \n",
      "Healthcare staffing or management organizations  \n",
      "Insurance providers  \n",
      "Laboratories (e.g., for blood, genetic, or microbiome testing)\n",
      "Digital health monitoring tools\n",
      "\n",
      "These organizations do not qualify as mental health service providers because they do not directly deliver in-person or clinically supervised care to human patients. \n",
      "Only classify a business as a mental health provider if it clearly meets all inclusion criteria and none of the exclusion criteria.\n",
      "Output Format:\n",
      "Always respond using the exact standardized format shown below:\n",
      "Mental Health Services: [True/False]\n",
      "Example:\n",
      "Holobiome, a biotechnology company developing gut-brain axis-based probiotics for mental health.\n",
      "Output: Mental Health Services: False\n",
      "This company should be excluded. It does not directly provide mental health services to patients but develops therapeutic products.\n"
     ]
    }
   ],
   "source": [
    "print(system_prompt)"
   ]
  },
  {
   "cell_type": "code",
   "execution_count": 9,
   "id": "46617ce5-67f6-40e0-9356-3e224b783fb5",
   "metadata": {},
   "outputs": [
    {
     "name": "stdout",
     "output_type": "stream",
     "text": [
      "The organization Purpose Healing Center is described as: Provider of alcohol and drug treatment centers intended for inpatient and outpatient programs. The company offers a variety of programs including medical detox, medication assisted treatment, and inpatient and outpatient rehab, patients, including dual diagnosis, mental health services, enabling patients to get a safe recovery environment away from drugs. \n",
      "Does this organization provide mental health healthcare services?\n"
     ]
    }
   ],
   "source": [
    "user_prompt = process_prompt(f\"\"\"\n",
    "                        The organization {name} is described as: {description} \n",
    "                        Does this organization provide {variable} healthcare services?\n",
    "                        \"\"\")\n",
    "print(user_prompt)"
   ]
  },
  {
   "cell_type": "code",
   "execution_count": 10,
   "id": "42664f8f-57bd-4966-976b-c73dcfb3cad4",
   "metadata": {},
   "outputs": [
    {
     "name": "stdout",
     "output_type": "stream",
     "text": [
      "[{'role': 'system', 'content': 'You are an AI system assisting a healthcare policy researcher in identifying whether a business qualifies as a medical facility or organization that provides direct mental or behavioral healthcare services to human patients.\\nA qualifying business must meet all of the following criteria:\\n\\nIt is a specialized healthcare facility or organization, such as a general hospital, mental health clinic, psychiatric hospital, counseling center, or behavioral health treatment center.  \\nIt provides direct services to human patients, in-person or online, including assessments, diagnoses, therapy (individual, group, or family), psychiatric evaluations, medication management, and/or crisis intervention.  \\nServices are delivered by licensed mental health professionals such as psychiatrists, psychologists, counselors, clinical social workers, or psychiatric nurse practitioners.\\n\\nExclude any business that falls into the following categories, even if they contribute to mental health solutions:\\n\\nPharmaceutical companies or biotechnology firms (e.g., developing medications or microbiome-based therapies)  \\nVeterinary care providers  \\nHealthcare staffing or management organizations  \\nInsurance providers  \\nLaboratories (e.g., for blood, genetic, or microbiome testing)\\nDigital health monitoring tools\\n\\nThese organizations do not qualify as mental health service providers because they do not directly deliver in-person or clinically supervised care to human patients. \\nOnly classify a business as a mental health provider if it clearly meets all inclusion criteria and none of the exclusion criteria.\\nOutput Format:\\nAlways respond using the exact standardized format shown below:\\nMental Health Services: [True/False]\\nExample:\\nHolobiome, a biotechnology company developing gut-brain axis-based probiotics for mental health.\\nOutput: Mental Health Services: False\\nThis company should be excluded. It does not directly provide mental health services to patients but develops therapeutic products.'}, {'role': 'user', 'content': 'The organization Purpose Healing Center is described as: Provider of alcohol and drug treatment centers intended for inpatient and outpatient programs. The company offers a variety of programs including medical detox, medication assisted treatment, and inpatient and outpatient rehab, patients, including dual diagnosis, mental health services, enabling patients to get a safe recovery environment away from drugs. \\nDoes this organization provide mental health healthcare services?'}]\n"
     ]
    }
   ],
   "source": [
    "messages = create_messages(system_prompt=system_prompt, user_prompt=user_prompt)\n",
    "print(messages)"
   ]
  },
  {
   "cell_type": "code",
   "execution_count": null,
   "id": "236b2faf-7800-45ec-a909-48e4f5232fe9",
   "metadata": {},
   "outputs": [],
   "source": [
    "# Create messages using the Prompt class\n"
   ]
  },
  {
   "cell_type": "code",
   "execution_count": 11,
   "id": "7f6f3bf9-64a3-48e8-8bfd-76603e587c49",
   "metadata": {},
   "outputs": [],
   "source": [
    "# client = create_client()\n",
    "om = Ollama()\n",
    "model = 'llama2:7b'\n",
    "temperature = 0\n",
    "client = om.create_client()\n",
    "\n",
    "response = client.chat(messages=messages,\n",
    "                       model=model,\n",
    "                       format=MentalHealth.model_json_schema(),\n",
    "                       options={'temperature': temperature})\n",
    "\n",
    "def response2message(response):\n",
    "    output = None\n",
    "    if response.get('done', None):\n",
    "        if response.get('done_reason', None) == 'stop':\n",
    "            output = response.message.content\n",
    "            # clean up the response message\n",
    "            output = output.\\\n",
    "                replace('\\n', '').\\\n",
    "                replace('\\t', '').\\\n",
    "                replace(' ','')\n",
    "    return output\n",
    "\n",
    "message = response2message(response)"
   ]
  },
  {
   "cell_type": "code",
   "execution_count": 12,
   "id": "9adcabfa-b832-4f8e-a639-595354d5e594",
   "metadata": {},
   "outputs": [
    {
     "name": "stdout",
     "output_type": "stream",
     "text": [
      "{\"pred_mh\":false,\"pred_mh_score\":0}\n"
     ]
    }
   ],
   "source": [
    "print(message)"
   ]
  },
  {
   "cell_type": "code",
   "execution_count": 24,
   "id": "a028dfb1-92d4-455d-aa9a-9a313ff86769",
   "metadata": {},
   "outputs": [
    {
     "name": "stdout",
     "output_type": "stream",
     "text": [
      "{\"pred_mh\":false,\"pred_mh_score\":0}\n",
      "{'pred_mh': False, 'pred_mh_score': 0.0, 'done': True, 'done_reason': 'stop'}\n"
     ]
    }
   ],
   "source": [
    "output = MentalHealth.model_validate_json(message)\n",
    "output = output.model_dump()\n",
    "\n",
    "response_dump = response.model_dump()\n",
    "\n",
    "output.update({'done': response_dump.get('done'),\n",
    "               'done_reason': response_dump.get('done_reason')})\n",
    "\n",
    "print(message)\n",
    "print(output)"
   ]
  },
  {
   "cell_type": "code",
   "execution_count": 34,
   "id": "ead2a1aa-5c4e-4b86-b5e7-6384a812fecb",
   "metadata": {},
   "outputs": [
    {
     "name": "stderr",
     "output_type": "stream",
     "text": [
      "Error sending messages: model \"mistral-small3.1:24b\" not found, try pulling it first (status code: 404)\n"
     ]
    },
    {
     "ename": "AttributeError",
     "evalue": "'NoneType' object has no attribute 'update'",
     "output_type": "error",
     "traceback": [
      "\u001b[31m---------------------------------------------------------------------------\u001b[39m",
      "\u001b[31mAttributeError\u001b[39m                            Traceback (most recent call last)",
      "\u001b[36mCell\u001b[39m\u001b[36m \u001b[39m\u001b[32mIn[34]\u001b[39m\u001b[32m, line 4\u001b[39m\n\u001b[32m      2\u001b[39m model = \u001b[33m'\u001b[39m\u001b[33mmistral-small3.1:24b\u001b[39m\u001b[33m'\u001b[39m\n\u001b[32m      3\u001b[39m temperature = \u001b[32m0\u001b[39m\n\u001b[32m----> \u001b[39m\u001b[32m4\u001b[39m mh = \u001b[43mOllamaModel\u001b[49m\u001b[43m(\u001b[49m\u001b[43mmodel\u001b[49m\u001b[43m=\u001b[49m\u001b[43mmodel\u001b[49m\u001b[43m)\u001b[49m\u001b[43m.\u001b[49m\u001b[43mpredict_mh\u001b[49m\u001b[43m(\u001b[49m\u001b[43mname\u001b[49m\u001b[43m=\u001b[49m\u001b[43mname\u001b[49m\u001b[43m,\u001b[49m\u001b[43m \u001b[49m\u001b[43mdescription\u001b[49m\u001b[43m=\u001b[49m\u001b[43mdescription\u001b[49m\u001b[43m,\u001b[49m\u001b[43m \u001b[49m\u001b[43mversion\u001b[49m\u001b[43m=\u001b[49m\u001b[32;43m3\u001b[39;49m\u001b[43m,\u001b[49m\u001b[43m \u001b[49m\u001b[43mtemperature\u001b[49m\u001b[43m=\u001b[49m\u001b[43mtemperature\u001b[49m\u001b[43m)\u001b[49m\n\u001b[32m      5\u001b[39m ip = OllamaModel(model=model).predict_ip(name=name, description=description, version=\u001b[32m1\u001b[39m, temperature=temperature)\n\u001b[32m      6\u001b[39m op = OllamaModel(model=model).predict_op(name=name, description=description, version=\u001b[32m1\u001b[39m, temperature=temperature)\n",
      "\u001b[36mFile \u001b[39m\u001b[32m~/src/llmt/ollamamodel.py:127\u001b[39m, in \u001b[36mOllamaModel.predict_mh\u001b[39m\u001b[34m(self, name, description, version, temperature)\u001b[39m\n\u001b[32m    121\u001b[39m messages = create_messages(system_prompt=system_prompt, user_prompt=user_prompt)\n\u001b[32m    122\u001b[39m output = \u001b[38;5;28mself\u001b[39m.send_messages(messages=messages,\n\u001b[32m    123\u001b[39m                             model=\u001b[38;5;28mself\u001b[39m.model,\n\u001b[32m    124\u001b[39m                             temperature=temperature,\n\u001b[32m    125\u001b[39m                             response_format=MentalHealth,\n\u001b[32m    126\u001b[39m                             client=\u001b[38;5;28mself\u001b[39m.client)\n\u001b[32m--> \u001b[39m\u001b[32m127\u001b[39m \u001b[43moutput\u001b[49m\u001b[43m.\u001b[49m\u001b[43mupdate\u001b[49m({pred_col: \u001b[32m1\u001b[39m \u001b[38;5;28;01mif\u001b[39;00m output.get(pred_col) == \u001b[38;5;28;01mTrue\u001b[39;00m \u001b[38;5;28;01melse\u001b[39;00m \u001b[32m0\u001b[39m})\n\u001b[32m    128\u001b[39m output = {pred_col: output.get(pred_col)}\n\u001b[32m    129\u001b[39m \u001b[38;5;28;01mreturn\u001b[39;00m output\n",
      "\u001b[31mAttributeError\u001b[39m: 'NoneType' object has no attribute 'update'"
     ]
    }
   ],
   "source": [
    "# Use the class methods\n",
    "model = 'mistral-small3.1:24b'\n",
    "temperature = 0\n",
    "mh = OllamaModel(model=model).predict_mh(name=name, description=description, version=3, temperature=temperature)\n",
    "ip = OllamaModel(model=model).predict_ip(name=name, description=description, version=1, temperature=temperature)\n",
    "op = OllamaModel(model=model).predict_op(name=name, description=description, version=1, temperature=temperature)\n",
    "\n",
    "print(user_prompt)\n",
    "print()\n",
    "print(mh)\n",
    "print(ip)\n",
    "print(op)"
   ]
  },
  {
   "cell_type": "code",
   "execution_count": 32,
   "id": "6ad98a42-80f6-42c5-a063-709aa650688c",
   "metadata": {},
   "outputs": [
    {
     "data": {
      "text/plain": [
       "['llama2:13b', 'llama2:7b']"
      ]
     },
     "execution_count": 32,
     "metadata": {},
     "output_type": "execute_result"
    }
   ],
   "source": [
    "OllamaModel().models"
   ]
  }
 ],
 "metadata": {
  "kernelspec": {
   "display_name": "Python 3 (ipykernel)",
   "language": "python",
   "name": "python3"
  },
  "language_info": {
   "codemirror_mode": {
    "name": "ipython",
    "version": 3
   },
   "file_extension": ".py",
   "mimetype": "text/x-python",
   "name": "python",
   "nbconvert_exporter": "python",
   "pygments_lexer": "ipython3",
   "version": "3.12.10"
  }
 },
 "nbformat": 4,
 "nbformat_minor": 5
}
