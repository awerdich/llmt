{
 "cells": [
  {
   "cell_type": "markdown",
   "id": "94c034dd-6222-4e73-bd30-6693f4fa62b9",
   "metadata": {},
   "source": [
    "### Configure Ollama with structured outputs ###"
   ]
  },
  {
   "cell_type": "code",
   "execution_count": 1,
   "id": "d855ae84-3c04-4677-a51d-63a91a96f37a",
   "metadata": {},
   "outputs": [],
   "source": [
    "import os\n",
    "import pandas as pd\n",
    "import numpy as np\n",
    "import logging\n",
    "import time\n",
    "from pathlib import Path\n",
    "\n",
    "logger = logging.getLogger(__name__)\n",
    "\n",
    "import ollama\n",
    "\n",
    "# Import this module with autoreload\n",
    "%load_ext autoreload\n",
    "%autoreload 2\n",
    "import llmt\n",
    "from llmt.llmtools import Prompt\n",
    "from llmt.llmtools import process_prompt\n",
    "from llmt.openai import OpenAIModel, OpenAI\n",
    "from llmt.openai import MentalHealth, OutpatientServices, InpatientServices, create_messages\n",
    "from llmt.performance import Performance"
   ]
  },
  {
   "cell_type": "code",
   "execution_count": 12,
   "id": "4ef46984-0f4a-49da-905f-a851154f5f5d",
   "metadata": {},
   "outputs": [
    {
     "name": "stdout",
     "output_type": "stream",
     "text": [
      "2.2.3\n"
     ]
    }
   ],
   "source": [
    "print(pd.__version__)"
   ]
  },
  {
   "cell_type": "code",
   "execution_count": 2,
   "id": "01e0f35f-552d-4aae-bd9c-d5ea2f0ee5fc",
   "metadata": {},
   "outputs": [
    {
     "data": {
      "text/plain": [
       "'host.docker.internal'"
      ]
     },
     "execution_count": 2,
     "metadata": {},
     "output_type": "execute_result"
    }
   ],
   "source": [
    "os.environ.get('OLLAMA_HOST')"
   ]
  },
  {
   "cell_type": "code",
   "execution_count": 4,
   "id": "2d105712-d051-4545-9a5d-62e33022512d",
   "metadata": {},
   "outputs": [],
   "source": [
    "from ollama import Client\n",
    "client = Client(\n",
    "  host='http://ollama:11434',\n",
    "  headers={'x-some-header': 'some-value'}\n",
    ")\n",
    "response = client.chat(model='gemma3:4b', messages=[\n",
    "  {\n",
    "    'role': 'user',\n",
    "    'content': 'Why is the sky blue?',\n",
    "  },\n",
    "])"
   ]
  },
  {
   "cell_type": "code",
   "execution_count": 5,
   "id": "85ddca1b-ea3c-4f82-bf0a-0e9d0f858f30",
   "metadata": {},
   "outputs": [
    {
     "data": {
      "text/plain": [
       "ChatResponse(model='gemma3:4b', created_at='2025-05-01T15:59:55.270374073Z', done=True, done_reason='stop', total_duration=16051026032, load_duration=1685567146, prompt_eval_count=15, prompt_eval_duration=110740112, eval_count=637, eval_duration=14251630904, message=Message(role='assistant', content=\"That's a fantastic question, and one that's fascinated people for centuries! The short answer is: **it's due to a phenomenon called Rayleigh scattering.** Here's a more detailed explanation:\\n\\n**1. Sunlight and Colors:**\\n\\n* Sunlight appears white, but it's actually made up of *all* the colors of the rainbow. Think of a prism splitting light – that's how sunlight is composed of red, orange, yellow, green, blue, and violet.\\n\\n**2. The Atmosphere and Tiny Particles:**\\n\\n* The Earth's atmosphere is filled with tiny particles – mostly nitrogen and oxygen molecules, but also dust, water droplets, and other small things.\\n\\n**3. Rayleigh Scattering:**\\n\\n* When sunlight enters the atmosphere, it bumps into these tiny particles. This is where Rayleigh scattering comes in.\\n* **Here’s the key:** Shorter wavelengths of light (blue and violet) are scattered *much* more strongly than longer wavelengths (red and orange).  It’s like throwing a small ball (blue light) versus a large ball (red light) – the small one is more easily deflected.\\n* **Think of it like this:** The air molecules act like little mirrors, bouncing blue light in all directions.\\n\\n**4. Why Blue, Not Violet?**\\n\\n* Violet light actually has the shortest wavelength and is scattered the *most*. However, there are a couple of reasons we see blue instead of violet:\\n    * **Sunlight contains less violet light to begin with.**\\n    * **Our eyes are more sensitive to blue than violet.**\\n\\n**5.  The Result: A Blue Sky!**\\n\\n* Because blue light is scattered so much throughout the atmosphere, it reaches our eyes from all directions. That’s why when we look up at a clear sky, we’re seeing this scattered blue light.\\n\\n\\n**What about sunsets?**\\n\\nAt sunset (and sunrise), the sunlight has to travel through *much* more of the atmosphere to reach our eyes. This longer path means that almost all of the blue light has been scattered away *before* it gets to us.  The longer wavelengths (red and orange) are less affected and can make it through, giving us those beautiful sunset colors.\\n\\n\\n\\n**Resources for Further Learning:**\\n\\n* **NASA - Why is the sky blue?** [https://science.nasa.gov/sky-observing/why-is-the-sky-blue/](https://science.nasa.gov/sky-observing/why-is-the-sky-blue/)\\n* **HowStuffWorks - Why is the Sky Blue?** [https://science.howstuffworks.com/why-is-the-sky-blue.htm](https://www.howstuffworks.com/why-is-the-sky-blue.htm)\\n\\n\\nDo you want me to explain anything in more detail, like:\\n\\n*   The science behind scattering?\\n*   How it relates to other colors?\\n*   Why the sky appears different on cloudy days?\", images=None, tool_calls=None))"
      ]
     },
     "execution_count": 5,
     "metadata": {},
     "output_type": "execute_result"
    }
   ],
   "source": [
    "response"
   ]
  },
  {
   "cell_type": "code",
   "execution_count": 2,
   "id": "958b1d27-85e6-465b-9d58-c7d5e79d93e1",
   "metadata": {},
   "outputs": [
    {
     "data": {
      "text/html": [
       "<div>\n",
       "<style scoped>\n",
       "    .dataframe tbody tr th:only-of-type {\n",
       "        vertical-align: middle;\n",
       "    }\n",
       "\n",
       "    .dataframe tbody tr th {\n",
       "        vertical-align: top;\n",
       "    }\n",
       "\n",
       "    .dataframe thead th {\n",
       "        text-align: right;\n",
       "    }\n",
       "</style>\n",
       "<table border=\"1\" class=\"dataframe\">\n",
       "  <thead>\n",
       "    <tr style=\"text-align: right;\">\n",
       "      <th></th>\n",
       "      <th>id</th>\n",
       "      <th>name</th>\n",
       "      <th>description</th>\n",
       "      <th>mental_health</th>\n",
       "      <th>inpatient</th>\n",
       "      <th>outpatient</th>\n",
       "      <th>dset</th>\n",
       "    </tr>\n",
       "  </thead>\n",
       "  <tbody>\n",
       "    <tr>\n",
       "      <th>0</th>\n",
       "      <td>431643-07</td>\n",
       "      <td>Actriv</td>\n",
       "      <td>Provider of healthcare staffing services based...</td>\n",
       "      <td>2</td>\n",
       "      <td>0</td>\n",
       "      <td>0</td>\n",
       "      <td>train</td>\n",
       "    </tr>\n",
       "    <tr>\n",
       "      <th>1</th>\n",
       "      <td>310749-31</td>\n",
       "      <td>Alima</td>\n",
       "      <td>Operator of a non-governmental organization in...</td>\n",
       "      <td>0</td>\n",
       "      <td>0</td>\n",
       "      <td>0</td>\n",
       "      <td>train</td>\n",
       "    </tr>\n",
       "    <tr>\n",
       "      <th>2</th>\n",
       "      <td>162054-28</td>\n",
       "      <td>Apothecare</td>\n",
       "      <td>Provider of pharmacy services intended to prov...</td>\n",
       "      <td>0</td>\n",
       "      <td>0</td>\n",
       "      <td>0</td>\n",
       "      <td>train</td>\n",
       "    </tr>\n",
       "    <tr>\n",
       "      <th>3</th>\n",
       "      <td>597285-28</td>\n",
       "      <td>April Health (Clinics/Outpatient Services)</td>\n",
       "      <td>Provider of mental health services intended to...</td>\n",
       "      <td>1</td>\n",
       "      <td>0</td>\n",
       "      <td>1</td>\n",
       "      <td>train</td>\n",
       "    </tr>\n",
       "    <tr>\n",
       "      <th>4</th>\n",
       "      <td>373978-90</td>\n",
       "      <td>Arise Child and Family Service</td>\n",
       "      <td>Operator of independent living centers caterin...</td>\n",
       "      <td>2</td>\n",
       "      <td>0</td>\n",
       "      <td>0</td>\n",
       "      <td>train</td>\n",
       "    </tr>\n",
       "  </tbody>\n",
       "</table>\n",
       "</div>"
      ],
      "text/plain": [
       "          id                                        name  \\\n",
       "0  431643-07                                      Actriv   \n",
       "1  310749-31                                       Alima   \n",
       "2  162054-28                                  Apothecare   \n",
       "3  597285-28  April Health (Clinics/Outpatient Services)   \n",
       "4  373978-90              Arise Child and Family Service   \n",
       "\n",
       "                                         description  mental_health  \\\n",
       "0  Provider of healthcare staffing services based...              2   \n",
       "1  Operator of a non-governmental organization in...              0   \n",
       "2  Provider of pharmacy services intended to prov...              0   \n",
       "3  Provider of mental health services intended to...              1   \n",
       "4  Operator of independent living centers caterin...              2   \n",
       "\n",
       "   inpatient  outpatient   dset  \n",
       "0          0           0  train  \n",
       "1          0           0  train  \n",
       "2          0           0  train  \n",
       "3          0           1  train  \n",
       "4          0           0  train  "
      ]
     },
     "metadata": {},
     "output_type": "display_data"
    },
    {
     "name": "stdout",
     "output_type": "stream",
     "text": [
      "(187, 7)\n"
     ]
    }
   ],
   "source": [
    "# Directories and files\n",
    "data_dir = os.path.join(os.environ.get('HOME'), 'home_data', 'hcp')\n",
    "\n",
    "test_file_name = 'hcp-alldata-250413.parquet'\n",
    "test_file = os.path.join(data_dir, test_file_name)\n",
    "df_all = pd.read_parquet(test_file)\n",
    "# Filter the labeled data\n",
    "df_train = df_all.loc[df_all['dset'] == 'train'].\\\n",
    "                reset_index(drop=True).\\\n",
    "                astype({'mental_health': int,\n",
    "                        'inpatient': int,\n",
    "                        'outpatient': int})\n",
    "display(df_train.head())\n",
    "print(df_train.shape)"
   ]
  },
  {
   "cell_type": "code",
   "execution_count": null,
   "id": "afc53c04-ad44-49c5-b53b-e70aaafd2978",
   "metadata": {},
   "outputs": [],
   "source": []
  }
 ],
 "metadata": {
  "kernelspec": {
   "display_name": "Python 3 (ipykernel)",
   "language": "python",
   "name": "python3"
  },
  "language_info": {
   "codemirror_mode": {
    "name": "ipython",
    "version": 3
   },
   "file_extension": ".py",
   "mimetype": "text/x-python",
   "name": "python",
   "nbconvert_exporter": "python",
   "pygments_lexer": "ipython3",
   "version": "3.12.10"
  }
 },
 "nbformat": 4,
 "nbformat_minor": 5
}
