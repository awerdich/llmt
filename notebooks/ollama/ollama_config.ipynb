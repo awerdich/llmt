{
 "cells": [
  {
   "cell_type": "markdown",
   "id": "94c034dd-6222-4e73-bd30-6693f4fa62b9",
   "metadata": {},
   "source": [
    "### Configure Ollama with structured outputs ###"
   ]
  },
  {
   "cell_type": "code",
   "execution_count": 4,
   "id": "d855ae84-3c04-4677-a51d-63a91a96f37a",
   "metadata": {},
   "outputs": [
    {
     "name": "stdout",
     "output_type": "stream",
     "text": [
      "The autoreload extension is already loaded. To reload it, use:\n",
      "  %reload_ext autoreload\n"
     ]
    },
    {
     "ename": "AttributeError",
     "evalue": "module 'llmt' has no attribute '__version__'",
     "output_type": "error",
     "traceback": [
      "\u001b[31m---------------------------------------------------------------------------\u001b[39m",
      "\u001b[31mAttributeError\u001b[39m                            Traceback (most recent call last)",
      "\u001b[36mCell\u001b[39m\u001b[36m \u001b[39m\u001b[32mIn[4]\u001b[39m\u001b[32m, line 22\u001b[39m\n\u001b[32m     19\u001b[39m \u001b[38;5;28;01mfrom\u001b[39;00m\u001b[38;5;250m \u001b[39m\u001b[34;01mllmt\u001b[39;00m\u001b[34;01m.\u001b[39;00m\u001b[34;01mopenai\u001b[39;00m\u001b[38;5;250m \u001b[39m\u001b[38;5;28;01mimport\u001b[39;00m MentalHealth, OutpatientServices, InpatientServices, create_messages\n\u001b[32m     20\u001b[39m \u001b[38;5;28;01mfrom\u001b[39;00m\u001b[38;5;250m \u001b[39m\u001b[34;01mllmt\u001b[39;00m\u001b[34;01m.\u001b[39;00m\u001b[34;01mperformance\u001b[39;00m\u001b[38;5;250m \u001b[39m\u001b[38;5;28;01mimport\u001b[39;00m Performance\n\u001b[32m---> \u001b[39m\u001b[32m22\u001b[39m \u001b[38;5;28mprint\u001b[39m(\u001b[43mllmt\u001b[49m\u001b[43m.\u001b[49m\u001b[43m__version__\u001b[49m)\n",
      "\u001b[31mAttributeError\u001b[39m: module 'llmt' has no attribute '__version__'"
     ]
    }
   ],
   "source": [
    "import os\n",
    "import pandas as pd\n",
    "import numpy as np\n",
    "import logging\n",
    "import time\n",
    "from pathlib import Path\n",
    "\n",
    "logger = logging.getLogger(__name__)\n",
    "\n",
    "import ollama\n",
    "\n",
    "# Import this module with autoreload\n",
    "%load_ext autoreload\n",
    "%autoreload 2\n",
    "import llmt\n",
    "from llmt.llmtools import Prompt\n",
    "from llmt.llmtools import process_prompt\n",
    "from llmt.openai import OpenAIModel, OpenAI\n",
    "from llmt.openai import MentalHealth, OutpatientServices, InpatientServices, create_messages\n",
    "from llmt.performance import Performance\n",
    "\n",
    "print(llmt.__version__)"
   ]
  },
  {
   "cell_type": "code",
   "execution_count": 8,
   "id": "2d105712-d051-4545-9a5d-62e33022512d",
   "metadata": {},
   "outputs": [],
   "source": [
    "from ollama import Client\n",
    "client = Client(\n",
    "  host='http://ollama:11434',\n",
    "  headers={'x-some-header': 'some-value'}\n",
    ")"
   ]
  },
  {
   "cell_type": "code",
   "execution_count": 37,
   "id": "be76069d-8c89-4a66-9b8e-2804ccc8f72a",
   "metadata": {},
   "outputs": [
    {
     "name": "stdout",
     "output_type": "stream",
     "text": [
      "['llama2:7b']\n"
     ]
    }
   ],
   "source": [
    "model = 'llama2:7b'\n",
    "client.pull(model)\n",
    "ollama_models = client.list().get('models')\n",
    "ollama_model_list = [model['model'] for model in ollama_models]\n",
    "print(ollama_model_list)"
   ]
  },
  {
   "cell_type": "code",
   "execution_count": 39,
   "id": "5412e68e-a6b8-41c8-a935-2e20fe155041",
   "metadata": {},
   "outputs": [
    {
     "name": "stdout",
     "output_type": "stream",
     "text": [
      "model='llama2:7b' created_at='2025-05-04T22:53:52.087127538Z' done=True done_reason='stop' total_duration=6026369351 load_duration=3555888 prompt_eval_count=26 prompt_eval_duration=27564515 eval_count=221 eval_duration=5994644443 message=Message(role='assistant', content=\"\\nThe sky appears blue because of a phenomenon called Rayleigh scattering. When sunlight enters Earth's atmosphere, it encounters tiny molecules of gases such as nitrogen and oxygen. These molecules scatter the light in all directions, but they scatter shorter (blue) wavelengths more than longer (red) wavelengths. This is known as Rayleigh scattering.\\n\\nAs a result of this scattering, the blue light is dispersed throughout the atmosphere, giving the sky its characteristic blue color. The blue light scatters in all directions, but it is most visible when the sun is at a low angle in the sky, such as during sunrise or sunset.\\n\\nOther factors can also affect the color of the sky, such as air pollution, dust, and water vapor. These can absorb or scatter light in different ways, altering the overall color of the sky. However, Rayleigh scattering is the primary cause of the blue color of the sky that we see.\", images=None, tool_calls=None)\n"
     ]
    }
   ],
   "source": [
    "response = client.chat(model=model, messages=[\n",
    "  {\n",
    "    'role': 'user',\n",
    "    'content': 'Why is the sky blue?',\n",
    "  },\n",
    "])\n",
    "print(response)"
   ]
  }
 ],
 "metadata": {
  "kernelspec": {
   "display_name": "Python 3 (ipykernel)",
   "language": "python",
   "name": "python3"
  },
  "language_info": {
   "codemirror_mode": {
    "name": "ipython",
    "version": 3
   },
   "file_extension": ".py",
   "mimetype": "text/x-python",
   "name": "python",
   "nbconvert_exporter": "python",
   "pygments_lexer": "ipython3",
   "version": "3.12.10"
  }
 },
 "nbformat": 4,
 "nbformat_minor": 5
}
