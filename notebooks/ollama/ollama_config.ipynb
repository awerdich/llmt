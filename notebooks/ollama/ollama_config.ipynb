{
 "cells": [
  {
   "cell_type": "markdown",
   "id": "94c034dd-6222-4e73-bd30-6693f4fa62b9",
   "metadata": {},
   "source": [
    "### Configure Ollama with structured outputs ###"
   ]
  },
  {
   "cell_type": "code",
   "execution_count": 1,
   "id": "d855ae84-3c04-4677-a51d-63a91a96f37a",
   "metadata": {},
   "outputs": [],
   "source": [
    "import os\n",
    "import pandas as pd\n",
    "import numpy as np\n",
    "import logging\n",
    "import time\n",
    "from pathlib import Path\n",
    "from pydantic import BaseModel\n",
    "\n",
    "logger = logging.getLogger(__name__)\n",
    "\n",
    "import ollama\n",
    "from ollama import Client\n",
    "\n",
    "# Import this module with autoreload\n",
    "%load_ext autoreload\n",
    "%autoreload 2\n",
    "import llmt\n",
    "from llmt.llmtools import Prompt\n",
    "from llmt.llmtools import process_prompt\n",
    "from llmt.openai import OpenAIModel, OpenAI\n",
    "from llmt.openai import MentalHealth, OutpatientServices, InpatientServices, create_messages\n",
    "from llmt.performance import Performance\n",
    "# print(llmt.__version__)"
   ]
  },
  {
   "cell_type": "markdown",
   "id": "fafa7ed3-11e3-4e46-bb51-041c73f76c73",
   "metadata": {},
   "source": [
    "### Custom Ollama Client ###"
   ]
  },
  {
   "cell_type": "code",
   "execution_count": 2,
   "id": "2d105712-d051-4545-9a5d-62e33022512d",
   "metadata": {},
   "outputs": [],
   "source": [
    "client = Client(\n",
    "  host='http://ollama:11434',\n",
    "  headers={'x-some-header': 'some-value'}\n",
    ")"
   ]
  },
  {
   "cell_type": "code",
   "execution_count": 3,
   "id": "be76069d-8c89-4a66-9b8e-2804ccc8f72a",
   "metadata": {},
   "outputs": [
    {
     "name": "stdout",
     "output_type": "stream",
     "text": [
      "['llama2:7b']\n"
     ]
    }
   ],
   "source": [
    "model = 'llama2:7b'\n",
    "client.pull(model)\n",
    "ollama_models = client.list().get('models')\n",
    "ollama_model_list = [model['model'] for model in ollama_models]\n",
    "print(ollama_model_list)"
   ]
  },
  {
   "cell_type": "code",
   "execution_count": 4,
   "id": "5412e68e-a6b8-41c8-a935-2e20fe155041",
   "metadata": {},
   "outputs": [
    {
     "name": "stdout",
     "output_type": "stream",
     "text": [
      "model='llama2:7b' created_at='2025-05-15T10:39:55.877211775Z' done=True done_reason='stop' total_duration=10568306692 load_duration=907580128 prompt_eval_count=26 prompt_eval_duration=222311995 eval_count=335 eval_duration=9436415952 message=Message(role='assistant', content=\"\\nThe sky appears blue because of a phenomenon called Rayleigh scattering, which occurs when sunlight travels through the Earth's atmosphere. The atmosphere contains small particles such as molecules of gases like nitrogen and oxygen, as well as tiny dust particles. When sunlight enters the atmosphere, it encounters these particles and is scattered in all directions.\\n\\nThe shortest wavelengths of light, such as violet and blue, are scattered more than longer wavelengths, such as red and orange. This is known as Rayleigh scattering, named after the British physicist Lord Rayleigh, who first described the phenomenon in the late 19th century.\\n\\nAs a result of this scattering, the blue light is distributed throughout the atmosphere, giving the sky its blue color. The reason why the sky appears blue rather than another color is due to the specific wavelengths of light that are scattered and the angle at which the light enters the atmosphere.\\n\\nIt's worth noting that the exact shade of blue can vary depending on the time of day, the amount of dust in the air, and other factors. For example, during sunrise and sunset, the sky may take on hues of red, orange, and pink due to the angle of the sunlight and the scattering of light by the atmosphere.\\n\\nIn summary, the sky appears blue because of Rayleigh scattering, which causes the shorter wavelengths of light to be scattered in all directions, giving the appearance of a blue sky.\", images=None, tool_calls=None)\n"
     ]
    }
   ],
   "source": [
    "response = client.chat(model=model, messages=[\n",
    "  {\n",
    "    'role': 'user',\n",
    "    'content': 'Why is the sky blue?',\n",
    "  },\n",
    "])\n",
    "print(response)"
   ]
  },
  {
   "cell_type": "markdown",
   "id": "ced749b2-f951-49ec-9e3a-106ad7004175",
   "metadata": {},
   "source": [
    "### Structured Outputs ###"
   ]
  },
  {
   "cell_type": "code",
   "execution_count": 5,
   "id": "f4a7d04f-cc65-4a2f-a30f-19ac09de9843",
   "metadata": {},
   "outputs": [],
   "source": [
    "class Country(BaseModel):\n",
    "  name: str\n",
    "  capital: str\n",
    "  languages: list[str]"
   ]
  },
  {
   "cell_type": "code",
   "execution_count": 6,
   "id": "cb9a850f-a988-40b3-aae4-07d1af760ba0",
   "metadata": {},
   "outputs": [],
   "source": [
    "response = client.chat(messages=[{'role': 'user',\n",
    "                                  'content': 'Tell me about Canada.'}],\n",
    "                       model=model,\n",
    "                       format=Country.model_json_schema())"
   ]
  },
  {
   "cell_type": "code",
   "execution_count": 7,
   "id": "4eaa2cb6-dee6-43e3-8f4f-fa5149692ff0",
   "metadata": {},
   "outputs": [
    {
     "name": "stdout",
     "output_type": "stream",
     "text": [
      "name='Canada' capital='Ottawa' languages=['English', 'French', 'Indigenous languages']\n"
     ]
    }
   ],
   "source": [
    "country = Country.model_validate_json(response.message.content)\n",
    "print(country)"
   ]
  }
 ],
 "metadata": {
  "kernelspec": {
   "display_name": "Python 3 (ipykernel)",
   "language": "python",
   "name": "python3"
  },
  "language_info": {
   "codemirror_mode": {
    "name": "ipython",
    "version": 3
   },
   "file_extension": ".py",
   "mimetype": "text/x-python",
   "name": "python",
   "nbconvert_exporter": "python",
   "pygments_lexer": "ipython3",
   "version": "3.12.10"
  }
 },
 "nbformat": 4,
 "nbformat_minor": 5
}
