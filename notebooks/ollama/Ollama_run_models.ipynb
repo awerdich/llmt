{
 "cells": [
  {
   "cell_type": "markdown",
   "id": "ad9c1d4c-45e2-48e3-93cf-9c61e46518da",
   "metadata": {},
   "source": [
    "### Run local modesl with data ###"
   ]
  },
  {
   "cell_type": "code",
   "execution_count": 36,
   "id": "30941ddf-a4b5-4ba4-8c4b-7a9ddd023bbd",
   "metadata": {},
   "outputs": [
    {
     "name": "stdout",
     "output_type": "stream",
     "text": [
      "The autoreload extension is already loaded. To reload it, use:\n",
      "  %reload_ext autoreload\n"
     ]
    }
   ],
   "source": [
    "import os\n",
    "import numpy as np\n",
    "import pandas as pd\n",
    "import logging\n",
    "import time\n",
    "\n",
    "logger = logging.getLogger(__name__)\n",
    "\n",
    "# Import this module with autoreload\n",
    "%load_ext autoreload\n",
    "%autoreload 2\n",
    "from llmt.filetools import FileOP\n",
    "from llmt.ollamamodel import Ollama, OllamaModel\n",
    "from llmt.llmtools import Prompt"
   ]
  },
  {
   "cell_type": "code",
   "execution_count": 34,
   "id": "23f698d5-1afa-4d75-b943-0dc6ffe93a01",
   "metadata": {},
   "outputs": [
    {
     "name": "stdout",
     "output_type": "stream",
     "text": [
      "Created .parquet file.\n"
     ]
    },
    {
     "data": {
      "text/html": [
       "<div>\n",
       "<style scoped>\n",
       "    .dataframe tbody tr th:only-of-type {\n",
       "        vertical-align: middle;\n",
       "    }\n",
       "\n",
       "    .dataframe tbody tr th {\n",
       "        vertical-align: top;\n",
       "    }\n",
       "\n",
       "    .dataframe thead th {\n",
       "        text-align: right;\n",
       "    }\n",
       "</style>\n",
       "<table border=\"1\" class=\"dataframe\">\n",
       "  <thead>\n",
       "    <tr style=\"text-align: right;\">\n",
       "      <th></th>\n",
       "      <th>id</th>\n",
       "      <th>name</th>\n",
       "      <th>description</th>\n",
       "      <th>mental_health</th>\n",
       "      <th>inpatient</th>\n",
       "      <th>outpatient</th>\n",
       "      <th>dset</th>\n",
       "    </tr>\n",
       "  </thead>\n",
       "  <tbody>\n",
       "    <tr>\n",
       "      <th>0</th>\n",
       "      <td>431643-07</td>\n",
       "      <td>Actriv</td>\n",
       "      <td>Provider of healthcare staffing services based...</td>\n",
       "      <td>2</td>\n",
       "      <td>0</td>\n",
       "      <td>0</td>\n",
       "      <td>train</td>\n",
       "    </tr>\n",
       "    <tr>\n",
       "      <th>1</th>\n",
       "      <td>310749-31</td>\n",
       "      <td>Alima</td>\n",
       "      <td>Operator of a non-governmental organization in...</td>\n",
       "      <td>0</td>\n",
       "      <td>0</td>\n",
       "      <td>0</td>\n",
       "      <td>train</td>\n",
       "    </tr>\n",
       "    <tr>\n",
       "      <th>2</th>\n",
       "      <td>162054-28</td>\n",
       "      <td>Apothecare</td>\n",
       "      <td>Provider of pharmacy services intended to prov...</td>\n",
       "      <td>0</td>\n",
       "      <td>0</td>\n",
       "      <td>0</td>\n",
       "      <td>train</td>\n",
       "    </tr>\n",
       "    <tr>\n",
       "      <th>3</th>\n",
       "      <td>597285-28</td>\n",
       "      <td>April Health (Clinics/Outpatient Services)</td>\n",
       "      <td>Provider of mental health services intended to...</td>\n",
       "      <td>1</td>\n",
       "      <td>0</td>\n",
       "      <td>1</td>\n",
       "      <td>train</td>\n",
       "    </tr>\n",
       "    <tr>\n",
       "      <th>4</th>\n",
       "      <td>373978-90</td>\n",
       "      <td>Arise Child and Family Service</td>\n",
       "      <td>Operator of independent living centers caterin...</td>\n",
       "      <td>2</td>\n",
       "      <td>0</td>\n",
       "      <td>0</td>\n",
       "      <td>train</td>\n",
       "    </tr>\n",
       "  </tbody>\n",
       "</table>\n",
       "</div>"
      ],
      "text/plain": [
       "          id                                        name  \\\n",
       "0  431643-07                                      Actriv   \n",
       "1  310749-31                                       Alima   \n",
       "2  162054-28                                  Apothecare   \n",
       "3  597285-28  April Health (Clinics/Outpatient Services)   \n",
       "4  373978-90              Arise Child and Family Service   \n",
       "\n",
       "                                         description  mental_health  \\\n",
       "0  Provider of healthcare staffing services based...              2   \n",
       "1  Operator of a non-governmental organization in...              0   \n",
       "2  Provider of pharmacy services intended to prov...              0   \n",
       "3  Provider of mental health services intended to...              1   \n",
       "4  Operator of independent living centers caterin...              2   \n",
       "\n",
       "   inpatient  outpatient   dset  \n",
       "0          0           0  train  \n",
       "1          0           0  train  \n",
       "2          0           0  train  \n",
       "3          0           1  train  \n",
       "4          0           0  train  "
      ]
     },
     "metadata": {},
     "output_type": "display_data"
    },
    {
     "name": "stdout",
     "output_type": "stream",
     "text": [
      "(187, 7)\n",
      "Number of unique companies: 187\n"
     ]
    }
   ],
   "source": [
    "# Load the data\n",
    "# Directories and files\n",
    "data_dir = os.path.join(os.environ.get('HOME'), 'home_data', 'hcp')\n",
    "test_file_name = 'hcp-alldata-250413.parquet'\n",
    "\n",
    "# Load the data from URL\n",
    "url = f'https://dsets.s3.us-east-1.amazonaws.com/{test_file_name}'\n",
    "test_file = FileOP().download_from_url(url=url, download_dir=data_dir)\n",
    "df = pd.read_parquet(test_file)\n",
    "\n",
    "# Filter the labeled data\n",
    "df = df.loc[df['dset'] == 'train'].\\\n",
    "                reset_index(drop=True).\\\n",
    "                astype({'mental_health': int,\n",
    "                        'inpatient': int,\n",
    "                        'outpatient': int})\n",
    "display(df.head())\n",
    "print(df.shape)\n",
    "\n",
    "company_id_list = list(df['id'].unique())\n",
    "print(f'Number of unique companies: {len(company_id_list)}')"
   ]
  },
  {
   "cell_type": "code",
   "execution_count": 9,
   "id": "533af081-601d-4826-ba31-e027f0fd218b",
   "metadata": {},
   "outputs": [
    {
     "name": "stdout",
     "output_type": "stream",
     "text": [
      "Found 62 company ids\n",
      "\n",
      "Purpose Healing Center\n",
      "\n",
      "Provider of alcohol and drug treatment centers intended for inpatient and outpatient programs. The company offers a variety of programs including medical detox, medication assisted treatment, and inpatient and outpatient rehab, patients, including dual diagnosis, mental health services, enabling patients to get a safe recovery environment away from drugs.\n"
     ]
    }
   ],
   "source": [
    "# Pick an example\n",
    "mental_health = 1\n",
    "inpatient = 1\n",
    "id_list = list(df.loc[(df['mental_health'] == mental_health) & (df['inpatient'] == inpatient), 'id'].unique())\n",
    "print(f'Found {len(id_list)} company ids')\n",
    "print()\n",
    "# Pick a company ID\n",
    "idx = 10\n",
    "company_id = id_list[idx]\n",
    "company_df = df.loc[df['id'] == company_id]\n",
    "name = company_df['name'].values[0]\n",
    "description = company_df['description'].values[0]\n",
    "print(name)\n",
    "print()\n",
    "print(description)"
   ]
  },
  {
   "cell_type": "code",
   "execution_count": 31,
   "id": "ac727b4c-28a6-40aa-8f85-538c287896b5",
   "metadata": {},
   "outputs": [
    {
     "name": "stdout",
     "output_type": "stream",
     "text": [
      "['mistral:7b', 'llama2:13b', 'llama2:7b']\n"
     ]
    }
   ],
   "source": [
    "model_list = Ollama().list_models()\n",
    "print(model_list)\n",
    "\n",
    "# Mental health messages\n",
    "messages = Prompt().create_mh_messages(name=name, description=description, version=3)"
   ]
  },
  {
   "cell_type": "code",
   "execution_count": 32,
   "id": "3e910477-9ab5-4f47-a51a-5de26837b937",
   "metadata": {},
   "outputs": [
    {
     "name": "stdout",
     "output_type": "stream",
     "text": [
      "[{'role': 'system', 'content': 'You are an AI system assisting a healthcare policy researcher in identifying whether a business qualifies as a medical facility or organization that provides direct mental or behavioral healthcare services to human patients.\\nA qualifying business must meet all of the following criteria:\\n\\nIt is a specialized healthcare facility or organization, such as a general hospital, mental health clinic, psychiatric hospital, counseling center, or behavioral health treatment center.  \\nIt provides direct services to human patients, in-person or online, including assessments, diagnoses, therapy (individual, group, or family), psychiatric evaluations, medication management, and/or crisis intervention.  \\nServices are delivered by licensed mental health professionals such as psychiatrists, psychologists, counselors, clinical social workers, or psychiatric nurse practitioners.\\n\\nExclude any business that falls into the following categories, even if they contribute to mental health solutions:\\n\\nPharmaceutical companies or biotechnology firms (e.g., developing medications or microbiome-based therapies)  \\nVeterinary care providers  \\nHealthcare staffing or management organizations  \\nInsurance providers  \\nLaboratories (e.g., for blood, genetic, or microbiome testing)\\nDigital health monitoring tools\\n\\nThese organizations do not qualify as mental health service providers because they do not directly deliver in-person or clinically supervised care to human patients. \\nOnly classify a business as a mental health provider if it clearly meets all inclusion criteria and none of the exclusion criteria.\\nOutput Format:\\nAlways respond using the exact standardized format shown below:\\nMental_Health_Services: [True/False]\\nExample:\\nHolobiome, a biotechnology company developing gut-brain axis-based probiotics for mental health.\\nOutput: Mental_Health_Services: False\\nThis company should be excluded. It does not directly provide mental health services to patients but develops therapeutic products.'}, {'role': 'user', 'content': 'The organization Purpose Healing Center is described as: Provider of alcohol and drug treatment centers intended for inpatient and outpatient programs. The company offers a variety of programs including medical detox, medication assisted treatment, and inpatient and outpatient rehab, patients, including dual diagnosis, mental health services, enabling patients to get a safe recovery environment away from drugs. \\nDoes this organization provide mental health or behavioral healthcare services?'}]\n"
     ]
    }
   ],
   "source": [
    "print(messages)"
   ]
  },
  {
   "cell_type": "code",
   "execution_count": 33,
   "id": "47fc56ca-8cba-4acc-b8aa-002c462e036c",
   "metadata": {},
   "outputs": [
    {
     "name": "stdout",
     "output_type": "stream",
     "text": [
      "{'pred_mh': 1}\n",
      "{'pred_ip': 1}\n",
      "{'pred_op': 1, 'verified_op': 1}\n"
     ]
    }
   ],
   "source": [
    "model = OllamaModel(model='mistral:7b')\n",
    "temperature = 0.5\n",
    "response_mh = model.predict_mh(name=name, description=description, version=3, temperature=temperature)\n",
    "print(response_mh)\n",
    "response_ip = model.predict_ip(name=name, description=description, version=1, temperature=temperature)\n",
    "print(response_ip)\n",
    "response_op = model.predict_op(name=name, description=description, version=1, temperature=temperature)\n",
    "print(response_op)"
   ]
  },
  {
   "cell_type": "code",
   "execution_count": null,
   "id": "6e50bdbe-7ac5-441d-9b00-9aa0152c7226",
   "metadata": {},
   "outputs": [],
   "source": [
    "# Run the entire data set and get some metrics on the results\n",
    "model_name_list = ['mistral:7b', 'llama2:7b']\n",
    "\n",
    "#for model_name in model_list:\n",
    "model_name = model_name_list[1]\n",
    "model = OllamaModel(model=model_name)\n",
    "start_time = time.perf_counter()\n",
    "execution_time_min = (time.perf_counter() - start_time) / 60\n",
    "print(f'Execution time: {execution_time_min:.2f} min')\n",
    "logger.info(f'Model {model_name}')\n",
    "\n",
    "# Create a new file for each model\n",
    "model_file_name = model_name.replace(':','_')\n",
    "results_model_file_name = f'testrun_{model_file_name}.parquet'\n",
    "results_run_df_list = []\n",
    "\n",
    "for c, company_id in enumerate(company_id_list):\n",
    "    if (c+1) % 20 == 0:\n",
    "        print(f'Sample {c+1}/{len(company_id_list)}')\n",
    "    company_df = df.loc[df['id'] == company_id]\n",
    "    name = company_df['name'].values[0]\n",
    "    description = company_df['description'].values[0]\n",
    "    response_mh = model.predict_mh(name=name, description=description, version=3, temperature=temperature)\n",
    "    response_ip = model.predict_ip(name=name, description=description, version=1, temperature=temperature)\n",
    "    response_op = model.predict_op(name=name, description=description, version=1, temperature=temperature)\n",
    "    company_df = company_df.assign(**response_mh)\n",
    "    company_df = company_df.assign(**response_ip)\n",
    "    company_df = company_df.assign(**response_op)\n",
    "    results_run_df_list.append(company_df)\n",
    "        \n",
    "results_run_df = pd.concat(results_run_df_list, axis=0, ignore_index=True)\n",
    "results_run_df = results_run_df.assign(temperature=temperature, model=model_file_name)\n",
    "results_run_df.to_parquet(os.path.join(output_dir, results_run_file_name))"
   ]
  }
 ],
 "metadata": {
  "kernelspec": {
   "display_name": "Python 3 (ipykernel)",
   "language": "python",
   "name": "python3"
  },
  "language_info": {
   "codemirror_mode": {
    "name": "ipython",
    "version": 3
   },
   "file_extension": ".py",
   "mimetype": "text/x-python",
   "name": "python",
   "nbconvert_exporter": "python",
   "pygments_lexer": "ipython3",
   "version": "3.12.10"
  }
 },
 "nbformat": 4,
 "nbformat_minor": 5
}
