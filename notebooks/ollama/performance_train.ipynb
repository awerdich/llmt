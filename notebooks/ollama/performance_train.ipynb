{
 "cells": [
  {
   "cell_type": "markdown",
   "id": "565fa044-df29-47f9-9e1e-01e1caf43185",
   "metadata": {},
   "source": [
    "### Multi-Model Performance Evaluation on the training set ###\n",
    "Use the manual labels as ground truth"
   ]
  },
  {
   "cell_type": "code",
   "execution_count": 61,
   "id": "70356e78-26a1-4e28-874a-874da18351bb",
   "metadata": {},
   "outputs": [
    {
     "name": "stdout",
     "output_type": "stream",
     "text": [
      "The autoreload extension is already loaded. To reload it, use:\n",
      "  %reload_ext autoreload\n"
     ]
    }
   ],
   "source": [
    "import os\n",
    "import copy\n",
    "import numpy as np\n",
    "import pandas as pd\n",
    "from typing import List\n",
    "import glob\n",
    "import logging\n",
    "\n",
    "logger = logging.getLogger(__name__)\n",
    "\n",
    "# Binary perfomance metrics\n",
    "from sklearn.metrics import confusion_matrix\n",
    "\n",
    "# Import this module with autoreload\n",
    "%load_ext autoreload\n",
    "%autoreload 2\n",
    "import llmt\n",
    "from llmt.performance import Performance, binary_performance"
   ]
  },
  {
   "cell_type": "code",
   "execution_count": 6,
   "id": "3804ea35-3aa5-42ce-a452-6aaa8ebf90a3",
   "metadata": {},
   "outputs": [
    {
     "name": "stdout",
     "output_type": "stream",
     "text": [
      "/app/data/hcp/models/hcp_predictions_ollama_20250520_deepseek-v3_671b.parquet\n",
      "/app/data/hcp/models/hcp_predictions_ollama_20250520_llama2_70b.parquet\n",
      "/app/data/hcp/models/hcp_predictions_ollama_20250520_llama3_70b.parquet\n",
      "/app/data/hcp/models/hcp_predictions_ollama_20250520_llama2_13b.parquet\n",
      "/app/data/hcp/models/hcp_predictions_ollama_20250520_llama3_8b.parquet\n",
      "/app/data/hcp/models/hcp_predictions_20250520_gpt-4o.parquet\n",
      "/app/data/hcp/models/hcp_predictions_ollama_20250520_llama4_maverick.parquet\n",
      "/app/data/hcp/models/hcp_predictions_ollama_20250520_llama2_7b.parquet\n"
     ]
    }
   ],
   "source": [
    "data_root = os.environ.get('DATA')\n",
    "data_dir = os.path.join(data_root, 'hcp')\n",
    "model_dir = os.path.join(data_dir, 'models')\n",
    "output_file_list = glob.glob(os.path.join(model_dir, 'hcp_predictions_*.parquet'))\n",
    "print(*output_file_list, sep='\\n')\n",
    "pred_col_list = ['pred_mh', 'pred_ip', 'pred_op']"
   ]
  },
  {
   "cell_type": "code",
   "execution_count": 7,
   "id": "3980aa25-d3a2-4ca3-bc6b-b1030c7cf159",
   "metadata": {},
   "outputs": [],
   "source": [
    "# Helper functions\n",
    "def flat_list(input_list: list) -> list:\n",
    "    flattened_list = [item for sublist in input_list for item in sublist]\n",
    "    return flattened_list "
   ]
  },
  {
   "cell_type": "code",
   "execution_count": 62,
   "id": "9048c65a-02da-4c91-8c85-efb1d78abe12",
   "metadata": {},
   "outputs": [
    {
     "data": {
      "text/html": [
       "<div>\n",
       "<style scoped>\n",
       "    .dataframe tbody tr th:only-of-type {\n",
       "        vertical-align: middle;\n",
       "    }\n",
       "\n",
       "    .dataframe tbody tr th {\n",
       "        vertical-align: top;\n",
       "    }\n",
       "\n",
       "    .dataframe thead th {\n",
       "        text-align: right;\n",
       "    }\n",
       "</style>\n",
       "<table border=\"1\" class=\"dataframe\">\n",
       "  <thead>\n",
       "    <tr style=\"text-align: right;\">\n",
       "      <th></th>\n",
       "      <th>id</th>\n",
       "      <th>name</th>\n",
       "      <th>description</th>\n",
       "      <th>mental_health</th>\n",
       "      <th>inpatient</th>\n",
       "      <th>outpatient</th>\n",
       "      <th>dset</th>\n",
       "      <th>pred_mh</th>\n",
       "      <th>pred_ip</th>\n",
       "      <th>pred_op</th>\n",
       "      <th>verified_op</th>\n",
       "      <th>temperature</th>\n",
       "    </tr>\n",
       "  </thead>\n",
       "  <tbody>\n",
       "    <tr>\n",
       "      <th>0</th>\n",
       "      <td>491639-77</td>\n",
       "      <td>144-Bed Hospital Facility Joint Venture in Den...</td>\n",
       "      <td>Provider of behavioral health services located...</td>\n",
       "      <td>1.0</td>\n",
       "      <td>1.0</td>\n",
       "      <td>1.0</td>\n",
       "      <td>train</td>\n",
       "      <td>1</td>\n",
       "      <td>1</td>\n",
       "      <td>1</td>\n",
       "      <td>1</td>\n",
       "      <td>0</td>\n",
       "    </tr>\n",
       "    <tr>\n",
       "      <th>1</th>\n",
       "      <td>10995-58</td>\n",
       "      <td>Acadia Healthcare (NAS: ACHC)</td>\n",
       "      <td>Acadia Healthcare Co Inc acquires and develops...</td>\n",
       "      <td>1.0</td>\n",
       "      <td>1.0</td>\n",
       "      <td>2.0</td>\n",
       "      <td>train</td>\n",
       "      <td>1</td>\n",
       "      <td>1</td>\n",
       "      <td>0</td>\n",
       "      <td>1</td>\n",
       "      <td>0</td>\n",
       "    </tr>\n",
       "  </tbody>\n",
       "</table>\n",
       "</div>"
      ],
      "text/plain": [
       "          id                                               name  \\\n",
       "0  491639-77  144-Bed Hospital Facility Joint Venture in Den...   \n",
       "1   10995-58                      Acadia Healthcare (NAS: ACHC)   \n",
       "\n",
       "                                         description  mental_health  \\\n",
       "0  Provider of behavioral health services located...            1.0   \n",
       "1  Acadia Healthcare Co Inc acquires and develops...            1.0   \n",
       "\n",
       "   inpatient  outpatient   dset  pred_mh  pred_ip  pred_op  verified_op  \\\n",
       "0        1.0         1.0  train        1        1        1            1   \n",
       "1        1.0         2.0  train        1        1        0            1   \n",
       "\n",
       "   temperature  \n",
       "0            0  \n",
       "1            0  "
      ]
     },
     "metadata": {},
     "output_type": "display_data"
    },
    {
     "name": "stdout",
     "output_type": "stream",
     "text": [
      "(687, 12)\n",
      "687\n",
      "(500, 12)\n",
      "(187, 12)\n"
     ]
    }
   ],
   "source": [
    "# Data set that we sent to the HCP team\n",
    "df_file_name = 'Predictions-2025-04-24.xlsx'\n",
    "df_file = os.path.join(data_dir, df_file_name)\n",
    "dfxl = pd.read_excel(df_file)\n",
    "# Train and test data\n",
    "df_train = dfxl.loc[dfxl['dset'] == 'train']\n",
    "df_test = dfxl.loc[dfxl['dset'] == 'test']\n",
    "display(df_train.head(2))\n",
    "print(dfxl.shape)\n",
    "print(len(dfxl['id'].unique()))\n",
    "print(df_test.shape)\n",
    "print(df_train.shape)"
   ]
  },
  {
   "cell_type": "code",
   "execution_count": 63,
   "id": "f5ebd0f7-8450-4de7-b3ed-18c608dd2a79",
   "metadata": {},
   "outputs": [
    {
     "data": {
      "text/plain": [
       "{'mental_health': 'pred_mh', 'inpatient': 'pred_ip', 'outpatient': 'pred_op'}"
      ]
     },
     "metadata": {},
     "output_type": "display_data"
    }
   ],
   "source": [
    "# Column names\n",
    "true_mh = 'mental_health'\n",
    "true_ip = 'inpatient'\n",
    "true_op = 'outpatient'\n",
    "\n",
    "pred_mh = 'pred_mh'\n",
    "pred_ip = 'pred_ip'\n",
    "pred_op = 'pred_op'\n",
    "\n",
    "# Dictionary with true:pred column names\n",
    "col_dict = {true_mh: pred_mh, true_ip:pred_ip, true_op:pred_op}\n",
    "display(col_dict)"
   ]
  },
  {
   "cell_type": "code",
   "execution_count": 85,
   "id": "7403b245-f846-48d6-8164-c8a7ffbf1ecb",
   "metadata": {},
   "outputs": [
    {
     "name": "stderr",
     "output_type": "stream",
     "text": [
      "21 rows removed from data!\n"
     ]
    }
   ],
   "source": [
    "# Calculate performance for training data\n",
    "perf = Performance(data=df_train)\n",
    "performance_df_list = []\n",
    "for c, (true_col, pred_col) in enumerate(col_dict.items()):\n",
    "    performance_dict = perf.binary_performance(true_col=true_col, pred_col=pred_col)\n",
    "    performance_df = pd.DataFrame(performance_dict, index=[c]).\\\n",
    "                    assign(category=true_col)\n",
    "    performance_df_list.append(performance_df)\n",
    "\n",
    "# Mental health and inpatient services\n",
    "true_combined = Performance(data=df_train).\\\n",
    "    combine_binary_columns(input_col_list=[true_mh, true_ip], output_col_name='true_mh_ip')\n",
    "pred_combined = Performance(data=df_train).\\\n",
    "    combine_binary_columns(input_col_list=[pred_mh, pred_ip], output_col_name='pred_mh_ip')\n",
    "df_mh_ip = true_combined.merge(pred_combined, on='id', how='left')\n",
    "performance_dict = Performance(data=df_mh_ip).binary_performance(true_col='true_mh_ip', \n",
    "                                                                 pred_col='pred_mh_ip')\n",
    "performance_df = pd.DataFrame(performance_dict, index=[0]).\\\n",
    "                assign(category='mental_health_inpatient')"
   ]
  },
  {
   "cell_type": "code",
   "execution_count": 86,
   "id": "f1cad3f8-36b0-41f8-9360-ddfb1de7b6d4",
   "metadata": {},
   "outputs": [
    {
     "data": {
      "text/html": [
       "<div>\n",
       "<style scoped>\n",
       "    .dataframe tbody tr th:only-of-type {\n",
       "        vertical-align: middle;\n",
       "    }\n",
       "\n",
       "    .dataframe tbody tr th {\n",
       "        vertical-align: top;\n",
       "    }\n",
       "\n",
       "    .dataframe thead th {\n",
       "        text-align: right;\n",
       "    }\n",
       "</style>\n",
       "<table border=\"1\" class=\"dataframe\">\n",
       "  <thead>\n",
       "    <tr style=\"text-align: right;\">\n",
       "      <th></th>\n",
       "      <th>p</th>\n",
       "      <th>n</th>\n",
       "      <th>tp</th>\n",
       "      <th>tn</th>\n",
       "      <th>fp</th>\n",
       "      <th>fn</th>\n",
       "      <th>recall</th>\n",
       "      <th>precision</th>\n",
       "      <th>min_precision</th>\n",
       "      <th>specificity</th>\n",
       "      <th>f_score</th>\n",
       "      <th>category</th>\n",
       "    </tr>\n",
       "  </thead>\n",
       "  <tbody>\n",
       "    <tr>\n",
       "      <th>0</th>\n",
       "      <td>62</td>\n",
       "      <td>104</td>\n",
       "      <td>58</td>\n",
       "      <td>92</td>\n",
       "      <td>12</td>\n",
       "      <td>4</td>\n",
       "      <td>0.9355</td>\n",
       "      <td>0.8286</td>\n",
       "      <td>0.3735</td>\n",
       "      <td>0.8846</td>\n",
       "      <td>0.8788</td>\n",
       "      <td>mental_health_inpatient</td>\n",
       "    </tr>\n",
       "  </tbody>\n",
       "</table>\n",
       "</div>"
      ],
      "text/plain": [
       "    p    n  tp  tn  fp  fn  recall  precision  min_precision  specificity  \\\n",
       "0  62  104  58  92  12   4  0.9355     0.8286         0.3735       0.8846   \n",
       "\n",
       "   f_score                 category  \n",
       "0   0.8788  mental_health_inpatient  "
      ]
     },
     "metadata": {},
     "output_type": "display_data"
    }
   ],
   "source": [
    "display(performance_df)"
   ]
  }
 ],
 "metadata": {
  "kernelspec": {
   "display_name": "Python 3 (ipykernel)",
   "language": "python",
   "name": "python3"
  },
  "language_info": {
   "codemirror_mode": {
    "name": "ipython",
    "version": 3
   },
   "file_extension": ".py",
   "mimetype": "text/x-python",
   "name": "python",
   "nbconvert_exporter": "python",
   "pygments_lexer": "ipython3",
   "version": "3.12.11"
  }
 },
 "nbformat": 4,
 "nbformat_minor": 5
}
