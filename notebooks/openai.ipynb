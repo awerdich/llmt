{
 "cells": [
  {
   "cell_type": "markdown",
   "id": "6bb778cb-e3f5-4ec1-b0d2-d8764cb90663",
   "metadata": {},
   "source": [
    "### Getting started with the AzureOpenAI library ###"
   ]
  },
  {
   "cell_type": "code",
   "execution_count": 1,
   "id": "0b68ce7a-d58b-49f7-b517-17fdae85ba35",
   "metadata": {},
   "outputs": [
    {
     "data": {
      "text/html": [
       "<style>.container { width:100% !important; }</style>"
      ],
      "text/plain": [
       "<IPython.core.display.HTML object>"
      ]
     },
     "metadata": {},
     "output_type": "display_data"
    }
   ],
   "source": [
    "import os\n",
    "import numpy as np\n",
    "import pandas as pd\n",
    "from dotenv import load_dotenv\n",
    "from textwrap import dedent\n",
    "\n",
    "# OpenAI libraries\n",
    "from openai import AzureOpenAI\n",
    "from pydantic import BaseModel\n",
    "\n",
    "# Appearance of the Notebook\n",
    "from IPython.display import display, HTML\n",
    "display(HTML(\"<style>.container { width:100% !important; }</style>\"))\n",
    "np.set_printoptions(linewidth=110)\n",
    "pd.set_option('display.max_rows', 500)\n",
    "pd.set_option('display.max_columns', 100)\n",
    "pd.set_option('display.width', 1000)\n",
    "\n",
    "\n",
    "# Import this module with autoreload\n",
    "%load_ext autoreload\n",
    "%autoreload 2\n",
    "import llmt\n",
    "# print(f'Package version: {llmt.__version__}')"
   ]
  },
  {
   "cell_type": "code",
   "execution_count": 7,
   "id": "0a2c2f1f-0342-40e5-8b4f-cc383804201f",
   "metadata": {},
   "outputs": [],
   "source": [
    "def create_message_list(system_message, user_message):\n",
    "    # Encode the image\n",
    "    system_dict = {'role': 'system',\n",
    "                   'content': dedent(system_message)}\n",
    "    user_dict = {'role': 'user',\n",
    "                 'content': [{'type': 'text', 'text': dedent(user_message)}]}\n",
    "    message_list = [system_dict, user_dict]\n",
    "    return message_list\n",
    "\n",
    "# Function to create the output message\n",
    "def send_messages(model, temperature, messages):\n",
    "    try:\n",
    "        output = client.chat.completions.create(model=model, \n",
    "                                                messages=messages, \n",
    "                                                temperature=temperature)\n",
    "    except Exception as e:\n",
    "        print(f'ERROR: {e}')\n",
    "        response = None\n",
    "    else:\n",
    "        response = output.choices[0].message.content\n",
    "    return response"
   ]
  },
  {
   "cell_type": "code",
   "execution_count": 16,
   "id": "187890b5-2392-45e8-a4d8-c13bed89cd66",
   "metadata": {},
   "outputs": [
    {
     "name": "stdout",
     "output_type": "stream",
     "text": [
      "2025-03-01-preview\n"
     ]
    }
   ],
   "source": [
    "# Load API key\n",
    "load_dotenv()\n",
    "api_version = '2025-03-01-preview'\n",
    "print(api_version)\n",
    "# Model name needs to be in the deployment for the endpoint\n",
    "model_name = 'gpt-4o'\n",
    "# Now, we can create the API client\n",
    "client = AzureOpenAI(api_key=api_key, \n",
    "                     azure_endpoint=api_endpoint,\n",
    "                     api_version=api_version)"
   ]
  },
  {
   "cell_type": "code",
   "execution_count": 14,
   "id": "e547947f-fa31-4295-8ded-d38914d8c876",
   "metadata": {},
   "outputs": [],
   "source": [
    "system_message = \"\"\"You are a powerful AI system.\"\"\"\n",
    "user_message = \"\"\"Define large language model.\"\"\"\n",
    "messages = create_message_list(system_message=system_message, user_message=user_message)\n",
    "\n",
    "# Send the messages\n",
    "model = 'gpt-4o'\n",
    "temperature = 0.5\n",
    "response = send_messages(model=model, temperature=temperature, messages=messages)"
   ]
  },
  {
   "cell_type": "code",
   "execution_count": 15,
   "id": "b7781213-9952-4874-99e0-e4c21ad343d2",
   "metadata": {},
   "outputs": [
    {
     "name": "stdout",
     "output_type": "stream",
     "text": [
      "A **large language model (LLM)** is a type of artificial intelligence (AI) system designed to understand, generate, and manipulate human-like text. These models are built using deep learning techniques, particularly a type of neural network known as a **transformer**, which allows them to process and generate text based on patterns learned from vast amounts of data.\n",
      "\n",
      "### Key Features of Large Language Models:\n",
      "1. **Scale and Size**:  \n",
      "   LLMs are characterized by their large number of parameters (often in the billions or even trillions), which are the internal values the model learns during training. The size of the model enables it to capture complex relationships and nuances in language.\n",
      "\n",
      "2. **Training Data**:  \n",
      "   LLMs are trained on massive datasets that include text from books, articles, websites, and other sources. This diverse training data helps them generalize across a wide range of topics and tasks.\n",
      "\n",
      "3. **Capabilities**:  \n",
      "   - **Text Generation**: They can generate coherent and contextually relevant text based on a given prompt.  \n",
      "   - **Language Understanding**: They can perform tasks like summarization, translation, sentiment analysis, and question answering.  \n",
      "   - **Few-shot and Zero-shot Learning**: LLMs can perform tasks with minimal examples or instructions, leveraging their pre-trained knowledge.  \n",
      "\n",
      "4. **Pretraining and Fine-tuning**:  \n",
      "   LLMs are typically pre-trained on large, general-purpose datasets and can be fine-tuned on specific datasets to specialize in particular tasks or domains.\n",
      "\n",
      "### Examples of Large Language Models:\n",
      "- **OpenAI's GPT (Generative Pre-trained Transformer)** series, including GPT-3 and GPT-4.\n",
      "- **Google's PaLM (Pathways Language Model)**.\n",
      "- **Meta's LLaMA (Large Language Model Meta AI)**.\n",
      "- **Anthropic's Claude**.\n",
      "- **Microsoft's Turing-NLG**.\n",
      "\n",
      "### Applications:\n",
      "LLMs are used in a variety of applications, including:\n",
      "- Chatbots and virtual assistants.\n",
      "- Content creation (e.g., writing articles, code, or poetry).\n",
      "- Language translation.\n",
      "- Sentiment analysis and customer feedback analysis.\n",
      "- Education and tutoring systems.\n",
      "\n",
      "While LLMs are powerful, they also come with challenges, such as high computational costs, biases in training data, and the potential for misuse. Ongoing research aims to address these limitations and improve their reliability, efficiency, and ethical use.\n"
     ]
    }
   ],
   "source": [
    "print(response)"
   ]
  }
 ],
 "metadata": {
  "kernelspec": {
   "display_name": "Python 3 (ipykernel)",
   "language": "python",
   "name": "python3"
  },
  "language_info": {
   "codemirror_mode": {
    "name": "ipython",
    "version": 3
   },
   "file_extension": ".py",
   "mimetype": "text/x-python",
   "name": "python",
   "nbconvert_exporter": "python",
   "pygments_lexer": "ipython3",
   "version": "3.12.10"
  }
 },
 "nbformat": 4,
 "nbformat_minor": 5
}
