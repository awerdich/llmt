{
 "cells": [
  {
   "cell_type": "markdown",
   "id": "94c034dd-6222-4e73-bd30-6693f4fa62b9",
   "metadata": {},
   "source": [
    "### Datasets updates July 29 2025 ###"
   ]
  },
  {
   "cell_type": "code",
   "execution_count": 1,
   "id": "d855ae84-3c04-4677-a51d-63a91a96f37a",
   "metadata": {},
   "outputs": [],
   "source": [
    "import os\n",
    "import pandas as pd\n",
    "import numpy as np\n",
    "import logging\n",
    "\n",
    "logger = logging.getLogger(__name__)\n",
    "\n",
    "# Import this module with autoreload\n",
    "%load_ext autoreload\n",
    "%autoreload 2\n",
    "import llmt"
   ]
  },
  {
   "cell_type": "code",
   "execution_count": 3,
   "id": "cf6c6586-619d-4c16-92af-427622ec8cb8",
   "metadata": {},
   "outputs": [],
   "source": [
    "# Files and directories\n",
    "data_dir = os.path.join(os.environ.get('DATA'), 'hcp', 'hcp_update_250729')\n",
    "\n",
    "# Updated training set\n",
    "trainset_file_name = 'outpatient_testing_set_5-29-2025.xlsx'\n",
    "\n",
    "# Load the new training data\n",
    "df_train_raw = pd.read_excel(os.path.join(data_dir, trainset_file_name))"
   ]
  },
  {
   "cell_type": "code",
   "execution_count": 9,
   "id": "f625cd5e-822e-4f5c-a8fe-1f5224a824fe",
   "metadata": {},
   "outputs": [
    {
     "data": {
      "text/html": [
       "<div>\n",
       "<style scoped>\n",
       "    .dataframe tbody tr th:only-of-type {\n",
       "        vertical-align: middle;\n",
       "    }\n",
       "\n",
       "    .dataframe tbody tr th {\n",
       "        vertical-align: top;\n",
       "    }\n",
       "\n",
       "    .dataframe thead th {\n",
       "        text-align: right;\n",
       "    }\n",
       "</style>\n",
       "<table border=\"1\" class=\"dataframe\">\n",
       "  <thead>\n",
       "    <tr style=\"text-align: right;\">\n",
       "      <th></th>\n",
       "      <th>Company ID</th>\n",
       "      <th>Companies</th>\n",
       "      <th>Description</th>\n",
       "      <th>Mental Health</th>\n",
       "      <th>Inpatient</th>\n",
       "      <th>Outpatient</th>\n",
       "      <th>Inpatient (including post-actute/residential)</th>\n",
       "    </tr>\n",
       "  </thead>\n",
       "  <tbody>\n",
       "    <tr>\n",
       "      <th>0</th>\n",
       "      <td>366943-51</td>\n",
       "      <td>Zumbro Valley Health Center</td>\n",
       "      <td>Provider of mental health and community-based ...</td>\n",
       "      <td>1</td>\n",
       "      <td>0</td>\n",
       "      <td>1</td>\n",
       "      <td>0</td>\n",
       "    </tr>\n",
       "    <tr>\n",
       "      <th>1</th>\n",
       "      <td>393514-66</td>\n",
       "      <td>Zufall Health Center</td>\n",
       "      <td>Provider of healthcare services. The organizat...</td>\n",
       "      <td>0</td>\n",
       "      <td>0</td>\n",
       "      <td>1</td>\n",
       "      <td>0</td>\n",
       "    </tr>\n",
       "  </tbody>\n",
       "</table>\n",
       "</div>"
      ],
      "text/plain": [
       "  Company ID                    Companies  \\\n",
       "0  366943-51  Zumbro Valley Health Center   \n",
       "1  393514-66         Zufall Health Center   \n",
       "\n",
       "                                         Description  Mental Health  \\\n",
       "0  Provider of mental health and community-based ...              1   \n",
       "1  Provider of healthcare services. The organizat...              0   \n",
       "\n",
       "   Inpatient  Outpatient  Inpatient (including post-actute/residential)  \n",
       "0          0           1                                              0  \n",
       "1          0           1                                              0  "
      ]
     },
     "metadata": {},
     "output_type": "display_data"
    },
    {
     "name": "stdout",
     "output_type": "stream",
     "text": [
      "(200, 7)\n",
      "Company ID\n",
      "Companies\n",
      "Description\n",
      "Mental Health\n",
      "Inpatient\n",
      "Outpatient\n",
      "Inpatient (including post-actute/residential)\n"
     ]
    }
   ],
   "source": [
    "display(df_train_raw.head(2))\n",
    "print(df_train_raw.shape)\n",
    "print(*list(df_train_raw.columns), sep='\\n')"
   ]
  },
  {
   "cell_type": "code",
   "execution_count": 12,
   "id": "8e70bb4b-99d7-4b7a-ab7a-80c63cae8c70",
   "metadata": {},
   "outputs": [
    {
     "data": {
      "text/html": [
       "<div>\n",
       "<style scoped>\n",
       "    .dataframe tbody tr th:only-of-type {\n",
       "        vertical-align: middle;\n",
       "    }\n",
       "\n",
       "    .dataframe tbody tr th {\n",
       "        vertical-align: top;\n",
       "    }\n",
       "\n",
       "    .dataframe thead th {\n",
       "        text-align: right;\n",
       "    }\n",
       "</style>\n",
       "<table border=\"1\" class=\"dataframe\">\n",
       "  <thead>\n",
       "    <tr style=\"text-align: right;\">\n",
       "      <th></th>\n",
       "      <th>id</th>\n",
       "      <th>name</th>\n",
       "      <th>description</th>\n",
       "      <th>mental_health</th>\n",
       "      <th>inpatient</th>\n",
       "      <th>outpatient</th>\n",
       "      <th>inpatient_post</th>\n",
       "    </tr>\n",
       "  </thead>\n",
       "  <tbody>\n",
       "    <tr>\n",
       "      <th>0</th>\n",
       "      <td>366943-51</td>\n",
       "      <td>Zumbro Valley Health Center</td>\n",
       "      <td>Provider of mental health and community-based ...</td>\n",
       "      <td>1</td>\n",
       "      <td>0</td>\n",
       "      <td>1</td>\n",
       "      <td>0</td>\n",
       "    </tr>\n",
       "    <tr>\n",
       "      <th>1</th>\n",
       "      <td>393514-66</td>\n",
       "      <td>Zufall Health Center</td>\n",
       "      <td>Provider of healthcare services. The organizat...</td>\n",
       "      <td>0</td>\n",
       "      <td>0</td>\n",
       "      <td>1</td>\n",
       "      <td>0</td>\n",
       "    </tr>\n",
       "    <tr>\n",
       "      <th>2</th>\n",
       "      <td>493425-19</td>\n",
       "      <td>Zocalo Health</td>\n",
       "      <td>Developer of a health-tech platform dedicated ...</td>\n",
       "      <td>1</td>\n",
       "      <td>0</td>\n",
       "      <td>1</td>\n",
       "      <td>0</td>\n",
       "    </tr>\n",
       "    <tr>\n",
       "      <th>3</th>\n",
       "      <td>509527-36</td>\n",
       "      <td>ZipDoctor</td>\n",
       "      <td>Operator of telemedicine platform intended to ...</td>\n",
       "      <td>1</td>\n",
       "      <td>0</td>\n",
       "      <td>1</td>\n",
       "      <td>0</td>\n",
       "    </tr>\n",
       "    <tr>\n",
       "      <th>4</th>\n",
       "      <td>526713-31</td>\n",
       "      <td>Zinnovate Health Solutions</td>\n",
       "      <td>Provider of healthcare services catering to it...</td>\n",
       "      <td>1</td>\n",
       "      <td>0</td>\n",
       "      <td>1</td>\n",
       "      <td>0</td>\n",
       "    </tr>\n",
       "  </tbody>\n",
       "</table>\n",
       "</div>"
      ],
      "text/plain": [
       "          id                         name  \\\n",
       "0  366943-51  Zumbro Valley Health Center   \n",
       "1  393514-66         Zufall Health Center   \n",
       "2  493425-19                Zocalo Health   \n",
       "3  509527-36                    ZipDoctor   \n",
       "4  526713-31   Zinnovate Health Solutions   \n",
       "\n",
       "                                         description  mental_health  \\\n",
       "0  Provider of mental health and community-based ...              1   \n",
       "1  Provider of healthcare services. The organizat...              0   \n",
       "2  Developer of a health-tech platform dedicated ...              1   \n",
       "3  Operator of telemedicine platform intended to ...              1   \n",
       "4  Provider of healthcare services catering to it...              1   \n",
       "\n",
       "   inpatient  outpatient  inpatient_post  \n",
       "0          0           1               0  \n",
       "1          0           1               0  \n",
       "2          0           1               0  \n",
       "3          0           1               0  \n",
       "4          0           1               0  "
      ]
     },
     "metadata": {},
     "output_type": "display_data"
    },
    {
     "name": "stdout",
     "output_type": "stream",
     "text": [
      "(200, 7)\n",
      "200\n"
     ]
    }
   ],
   "source": [
    "# Let's get rid of the old columns\n",
    "df_train = df_train_raw.\\\n",
    "    rename(columns={'Company ID': 'id',\n",
    "                    'Companies': 'name',\n",
    "                    'Description': 'description',\n",
    "                    'Mental Health': 'mental_health',\n",
    "                    'Inpatient': 'inpatient',\n",
    "                    'Outpatient': 'outpatient',\n",
    "                    'Inpatient (including post-actute/residential)': 'inpatient_post'})\n",
    "display(df_train.head())\n",
    "print(df_train.shape)\n",
    "print(len(df_train['id'].unique()))\n",
    "\n",
    "# Save the data frame\n",
    "dataset_name = 'outpatient_testing_set_5-29-2025.parquet'\n",
    "dataset_file = os.path.join(data_dir, dataset_name)\n",
    "df_train.to_parquet(dataset_file)"
   ]
  },
  {
   "cell_type": "code",
   "execution_count": 13,
   "id": "162e60b0-9f27-4fce-b7a7-dce5d1493704",
   "metadata": {},
   "outputs": [
    {
     "name": "stdout",
     "output_type": "stream",
     "text": [
      "MENTAL_HEALTH\n"
     ]
    },
    {
     "data": {
      "text/html": [
       "<div>\n",
       "<style scoped>\n",
       "    .dataframe tbody tr th:only-of-type {\n",
       "        vertical-align: middle;\n",
       "    }\n",
       "\n",
       "    .dataframe tbody tr th {\n",
       "        vertical-align: top;\n",
       "    }\n",
       "\n",
       "    .dataframe thead th {\n",
       "        text-align: right;\n",
       "    }\n",
       "</style>\n",
       "<table border=\"1\" class=\"dataframe\">\n",
       "  <thead>\n",
       "    <tr style=\"text-align: right;\">\n",
       "      <th></th>\n",
       "      <th>mental_health</th>\n",
       "      <th>count</th>\n",
       "    </tr>\n",
       "  </thead>\n",
       "  <tbody>\n",
       "    <tr>\n",
       "      <th>0</th>\n",
       "      <td>1</td>\n",
       "      <td>162</td>\n",
       "    </tr>\n",
       "    <tr>\n",
       "      <th>1</th>\n",
       "      <td>0</td>\n",
       "      <td>38</td>\n",
       "    </tr>\n",
       "  </tbody>\n",
       "</table>\n",
       "</div>"
      ],
      "text/plain": [
       "   mental_health  count\n",
       "0              1    162\n",
       "1              0     38"
      ]
     },
     "metadata": {},
     "output_type": "display_data"
    },
    {
     "name": "stdout",
     "output_type": "stream",
     "text": [
      "INPATIENT\n"
     ]
    },
    {
     "data": {
      "text/html": [
       "<div>\n",
       "<style scoped>\n",
       "    .dataframe tbody tr th:only-of-type {\n",
       "        vertical-align: middle;\n",
       "    }\n",
       "\n",
       "    .dataframe tbody tr th {\n",
       "        vertical-align: top;\n",
       "    }\n",
       "\n",
       "    .dataframe thead th {\n",
       "        text-align: right;\n",
       "    }\n",
       "</style>\n",
       "<table border=\"1\" class=\"dataframe\">\n",
       "  <thead>\n",
       "    <tr style=\"text-align: right;\">\n",
       "      <th></th>\n",
       "      <th>inpatient</th>\n",
       "      <th>count</th>\n",
       "    </tr>\n",
       "  </thead>\n",
       "  <tbody>\n",
       "    <tr>\n",
       "      <th>0</th>\n",
       "      <td>1</td>\n",
       "      <td>8</td>\n",
       "    </tr>\n",
       "    <tr>\n",
       "      <th>1</th>\n",
       "      <td>0</td>\n",
       "      <td>192</td>\n",
       "    </tr>\n",
       "  </tbody>\n",
       "</table>\n",
       "</div>"
      ],
      "text/plain": [
       "   inpatient  count\n",
       "0          1      8\n",
       "1          0    192"
      ]
     },
     "metadata": {},
     "output_type": "display_data"
    },
    {
     "name": "stdout",
     "output_type": "stream",
     "text": [
      "OUTPATIENT\n"
     ]
    },
    {
     "data": {
      "text/html": [
       "<div>\n",
       "<style scoped>\n",
       "    .dataframe tbody tr th:only-of-type {\n",
       "        vertical-align: middle;\n",
       "    }\n",
       "\n",
       "    .dataframe tbody tr th {\n",
       "        vertical-align: top;\n",
       "    }\n",
       "\n",
       "    .dataframe thead th {\n",
       "        text-align: right;\n",
       "    }\n",
       "</style>\n",
       "<table border=\"1\" class=\"dataframe\">\n",
       "  <thead>\n",
       "    <tr style=\"text-align: right;\">\n",
       "      <th></th>\n",
       "      <th>outpatient</th>\n",
       "      <th>count</th>\n",
       "    </tr>\n",
       "  </thead>\n",
       "  <tbody>\n",
       "    <tr>\n",
       "      <th>0</th>\n",
       "      <td>1</td>\n",
       "      <td>154</td>\n",
       "    </tr>\n",
       "    <tr>\n",
       "      <th>1</th>\n",
       "      <td>0</td>\n",
       "      <td>46</td>\n",
       "    </tr>\n",
       "  </tbody>\n",
       "</table>\n",
       "</div>"
      ],
      "text/plain": [
       "   outpatient  count\n",
       "0           1    154\n",
       "1           0     46"
      ]
     },
     "metadata": {},
     "output_type": "display_data"
    },
    {
     "name": "stdout",
     "output_type": "stream",
     "text": [
      "INPATIENT_POST\n"
     ]
    },
    {
     "data": {
      "text/html": [
       "<div>\n",
       "<style scoped>\n",
       "    .dataframe tbody tr th:only-of-type {\n",
       "        vertical-align: middle;\n",
       "    }\n",
       "\n",
       "    .dataframe tbody tr th {\n",
       "        vertical-align: top;\n",
       "    }\n",
       "\n",
       "    .dataframe thead th {\n",
       "        text-align: right;\n",
       "    }\n",
       "</style>\n",
       "<table border=\"1\" class=\"dataframe\">\n",
       "  <thead>\n",
       "    <tr style=\"text-align: right;\">\n",
       "      <th></th>\n",
       "      <th>inpatient_post</th>\n",
       "      <th>count</th>\n",
       "    </tr>\n",
       "  </thead>\n",
       "  <tbody>\n",
       "    <tr>\n",
       "      <th>0</th>\n",
       "      <td>1</td>\n",
       "      <td>48</td>\n",
       "    </tr>\n",
       "    <tr>\n",
       "      <th>1</th>\n",
       "      <td>0</td>\n",
       "      <td>152</td>\n",
       "    </tr>\n",
       "  </tbody>\n",
       "</table>\n",
       "</div>"
      ],
      "text/plain": [
       "   inpatient_post  count\n",
       "0               1     48\n",
       "1               0    152"
      ]
     },
     "metadata": {},
     "output_type": "display_data"
    }
   ],
   "source": [
    "# Count the labels\n",
    "label_list = ['mental_health', 'inpatient', 'outpatient', 'inpatient_post']\n",
    "for label in label_list:\n",
    "    print(label.upper())\n",
    "    df_label = df_train[label].\\\n",
    "                    value_counts().\\\n",
    "                    to_frame().\\\n",
    "                    reset_index(drop=False).\\\n",
    "                    sort_values(by=label, ascending=False).\\\n",
    "                    reset_index(drop=True)\n",
    "    display(df_label)"
   ]
  },
  {
   "cell_type": "code",
   "execution_count": null,
   "id": "d1775562-beaa-4fd2-b0d7-483fc4aa6334",
   "metadata": {},
   "outputs": [],
   "source": []
  }
 ],
 "metadata": {
  "kernelspec": {
   "display_name": "Python 3 (ipykernel)",
   "language": "python",
   "name": "python3"
  },
  "language_info": {
   "codemirror_mode": {
    "name": "ipython",
    "version": 3
   },
   "file_extension": ".py",
   "mimetype": "text/x-python",
   "name": "python",
   "nbconvert_exporter": "python",
   "pygments_lexer": "ipython3",
   "version": "3.12.11"
  }
 },
 "nbformat": 4,
 "nbformat_minor": 5
}
