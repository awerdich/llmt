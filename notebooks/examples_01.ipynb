{
 "cells": [
  {
   "cell_type": "markdown",
   "id": "a72ea5d9-e4c1-488f-b162-5741c6386a82",
   "metadata": {},
   "source": [
    "### Structured Outputs ###"
   ]
  },
  {
   "cell_type": "code",
   "execution_count": null,
   "id": "7bc25f91-213c-4e93-9deb-a1f85e3b37bf",
   "metadata": {},
   "outputs": [],
   "source": [
    "import os\n",
    "import copy\n",
    "import numpy as np\n",
    "import pandas as pd\n",
    "from dotenv import load_dotenv\n",
    "from textwrap import dedent\n",
    "import logging\n",
    "import datetime\n",
    "from pathlib import Path\n",
    "import json\n",
    "from enum import Enum\n",
    "\n",
    "# OpenAI libraries\n",
    "from openai import AzureOpenAI\n",
    "from pydantic import BaseModel, Field\n",
    "import openai\n",
    "\n",
    "# Appearance of the Notebook\n",
    "from IPython.display import display, HTML\n",
    "display(HTML(\"<style>.container { width:100% !important; }</style>\"))\n",
    "np.set_printoptions(linewidth=110)\n",
    "pd.set_option('display.max_rows', 500)\n",
    "pd.set_option('display.max_columns', 100)\n",
    "pd.set_option('display.width', 1000)\n",
    "\n",
    "# Import this module with autoreload\n",
    "%load_ext autoreload\n",
    "%autoreload 2\n",
    "import llmt\n",
    "# print(f'Package version: {llmt.__version__}')"
   ]
  },
  {
   "cell_type": "markdown",
   "id": "f87760c2-fe34-4601-b072-a14a55bb21ce",
   "metadata": {},
   "source": [
    "### JSON PROCESSING ###"
   ]
  },
  {
   "cell_type": "code",
   "execution_count": null,
   "id": "5b0db8ef-531a-4b44-b9d5-49be41b9c995",
   "metadata": {},
   "outputs": [],
   "source": [
    "def infer_type(df, col=None):\n",
    "    \"\"\"\n",
    "    Infer data type of pd.DataFrame column\n",
    "    :param df: pd.DataFrame\n",
    "    :param col: str column name\n",
    "    :return: dict: {column name: column type}\n",
    "    \"\"\"\n",
    "    col_name = col\n",
    "    df_types = pd.DataFrame(df.apply(pd.api.types.infer_dtype, axis=0)).reset_index().rename(\n",
    "        columns={'index': 'column', 0: 'type'})\n",
    "    loop_types = df_types.values.tolist()\n",
    "    for c, col in enumerate(loop_types):\n",
    "        col_element = df[col[0]].iloc[0]\n",
    "        if col[1] == 'mixed':\n",
    "            if isinstance(col_element, dict):\n",
    "                loop_types[c][1] = 'dict'\n",
    "            elif isinstance(col_element, list):\n",
    "                loop_types[c][1] = 'list'\n",
    "            elif type(col_element) in list(json_object_type_dict.keys()):\n",
    "                loop_types[c][1] = json_object_type_dict.get(type(col_element))\n",
    "            else:\n",
    "                loop_types[c][1] = 'not_implemented'\n",
    "    output = dict(loop_types)\n",
    "    if col_name is not None:\n",
    "        output = output.get(col_name, None)\n",
    "    if output is None:\n",
    "        print(f'Wrong column name.')\n",
    "    return output\n",
    "\n",
    "def dataframe_from_records_iter(df, col):\n",
    "    \"\"\"\n",
    "    Replace pd.DataFrame.from_records methods to iterate through rows.\n",
    "    This is much slower than the DataFrame.from_records methods.\n",
    "    \"\"\"\n",
    "    # Iterate through rows and save the expanded data frames in list\n",
    "    df_iter_list = []\n",
    "    idx_error_list = []\n",
    "    for row_idx, row_ser in df.iterrows():\n",
    "        row_val = row_ser[col]\n",
    "        if row_val is not None:\n",
    "            try:\n",
    "                df_iter_idx = pd.DataFrame.from_records(row_val, index=[row_idx])\n",
    "            except Exception as e:\n",
    "                idx_error_list.append(row_idx)\n",
    "            else:\n",
    "                df_iter_list.append(df_iter_idx)\n",
    "    if len(df_iter_list) > 0:\n",
    "        df_iter = pd.concat(df_iter_list, axis=0, ignore_index=False)\n",
    "        # Need to merge with original data frame, skipping rows that did not work\n",
    "        df_iter.columns = [f'{col}_{ncol}' for ncol in df_iter.columns]\n",
    "        df_col = df.merge(df_iter, how='inner', left_index=True, right_index=True).drop(col, axis=1)\n",
    "    else:\n",
    "        df_col = df.copy()\n",
    "    return idx_error_list, df_col\n",
    "\n",
    "def expand_dict_col(df, col):\n",
    "        \"\"\"\n",
    "        Create new rows for list items and new columns with dict items\n",
    "        :param df: pd.DataFrame\n",
    "        :param col: str column name\n",
    "        :return: copy of df with list and dict items in new rows and columns\n",
    "        \"\"\"\n",
    "        col_type = infer_type(df=df, col=col)\n",
    "        df_col = df.copy()\n",
    "        if col_type is not None:\n",
    "            if col_type == 'list':\n",
    "                df_col = df.explode(col).reset_index(drop=True)\n",
    "                col_type = infer_type(df=df_col, col=col)\n",
    "            if col_type == 'dict':\n",
    "                try:\n",
    "                    df_dict = pd.DataFrame.from_records(df_col[col])\n",
    "                except Exception as e:\n",
    "                    logger.error(f'Inconsistent rows. Checking row-by-row.')\n",
    "                    # Slower: iterate through every row\n",
    "                    _, df_col = dataframe_from_records_iter(df=df_col, col=col)\n",
    "                else:\n",
    "                    df_dict.columns = [f'{col}_{ncol}' for ncol in df_dict.columns]\n",
    "                    df_col = df_col.merge(df_dict, how='inner', left_index=True, right_index=True). \\\n",
    "                        drop(col, axis=1). \\\n",
    "                        reset_index(drop=True)\n",
    "            else:\n",
    "                pass\n",
    "        return df_col"
   ]
  },
  {
   "cell_type": "markdown",
   "id": "5a2f12cd-08d1-4ee3-a0a7-e3365c6f37af",
   "metadata": {},
   "source": [
    "### API Credentials and model ###"
   ]
  },
  {
   "cell_type": "code",
   "execution_count": null,
   "id": "0e69d609-7b9f-402f-8beb-936b20782274",
   "metadata": {},
   "outputs": [],
   "source": [
    "# Load API key\n",
    "load_dotenv()\n",
    "api_dict = {'api_version': '2025-03-01-preview',\n",
    "            'azure_endpoint': os.environ.get('API_ENDPOINT'),\n",
    "            'api_key': os.environ.get('API_KEY')}\n",
    "display(api_dict)\n",
    "api_project = os.environ.get('API_PROJECT')\n",
    "print(api_project)\n",
    "# Model name needs to be in the deployment for the endpoint\n",
    "model_name = 'gpt-4o'\n",
    "# Now, we can create the API client\n",
    "client = AzureOpenAI(**api_dict)"
   ]
  },
  {
   "cell_type": "code",
   "execution_count": null,
   "id": "c15ae6f8-b057-4b3f-be64-6c07cc324d5e",
   "metadata": {},
   "outputs": [],
   "source": [
    "def proc_prompt(prompt: str):\n",
    "    output = dedent(prompt.replace('\\n', ''))\n",
    "    return output\n",
    "\n",
    "def create_message_list(system_prompt: str, user_prompt: str):\n",
    "    # Process the prompts\n",
    "    system_dict = {'role': 'system',\n",
    "                   'content': proc_prompt(system_prompt)}\n",
    "    user_dict = {'role': 'user',\n",
    "                 'content': [{'type': 'text', 'text': proc_prompt(user_prompt)}]}\n",
    "    message_list = [system_dict, user_dict]\n",
    "    return message_list"
   ]
  },
  {
   "cell_type": "markdown",
   "id": "3cb1abc4-2898-4872-8000-31acf86f7ec3",
   "metadata": {},
   "source": [
    "### Prompts ###"
   ]
  },
  {
   "cell_type": "code",
   "execution_count": null,
   "id": "403dea8a-103c-431b-bea0-9982d1bcd779",
   "metadata": {},
   "outputs": [],
   "source": [
    "# Prompts\n",
    "system_prompt = \"\"\"\n",
    "You are an AI customer care assistant. You will be provided with a customer inquiry,\n",
    "and your goal is to respond with a structured solution, including the steps taken to resolve\n",
    "the issue and the final resolution. For each step, provide a description and the reaction taken.\n",
    "\"\"\"\n",
    "\n",
    "query = \"\"\"\n",
    "Hi, I'm having trouble with my recent order. I received the wrong item and need to return\n",
    "it for a refund. Can you help me with the return process and let me know when I can expect my refund?\n",
    "\"\"\""
   ]
  },
  {
   "cell_type": "markdown",
   "id": "37ddced1-f94a-4b01-9864-b9b9784f65f4",
   "metadata": {},
   "source": [
    "### Inference ###"
   ]
  },
  {
   "cell_type": "code",
   "execution_count": null,
   "id": "3de660a4-e8a2-4994-80a4-820a29250f06",
   "metadata": {},
   "outputs": [],
   "source": [
    "class TicketResolution(BaseModel):\n",
    "    class Step(BaseModel):\n",
    "        description: str = Field(description='Description of the step taken.')\n",
    "        action: str = Field(description='Action taken to resolve this issue.')\n",
    "    \n",
    "    steps: list[Step]\n",
    "    final_resolution: str = Field(description='The final message that will be sent to the cusomer.')\n",
    "    confidence: float = Field(description='Confidence in the resolution (0-100)')"
   ]
  },
  {
   "cell_type": "code",
   "execution_count": null,
   "id": "c46fb4bc-583b-4f02-8f2e-ab38ff5c6234",
   "metadata": {},
   "outputs": [],
   "source": [
    "messages = create_message_list(system_prompt=system_prompt, user_prompt=query)\n",
    "model = 'gpt-4o'\n",
    "# Send the data to the model\n",
    "completion = client.beta.chat.completions.parse(model=model, \n",
    "                                                messages=messages, \n",
    "                                                response_format=TicketResolution)"
   ]
  },
  {
   "cell_type": "code",
   "execution_count": null,
   "id": "562ca3a4-d4df-407b-b23a-f8875b8c0e7b",
   "metadata": {},
   "outputs": [],
   "source": [
    "# Process the output\n",
    "completion_parsed = completion.choices[0].message.parsed\n",
    "output_df = pd.DataFrame(completion_parsed.model_dump())\n",
    "output_df = expand_dict_col(df=output_df, col='steps')\n",
    "display(output_df)"
   ]
  },
  {
   "cell_type": "markdown",
   "id": "15f0d327-2f23-44e1-9a0e-313d016e9746",
   "metadata": {},
   "source": [
    "### Example with Enums ###"
   ]
  },
  {
   "cell_type": "code",
   "execution_count": null,
   "id": "b700a207-6ba9-4866-9c82-1419ed7368e5",
   "metadata": {},
   "outputs": [],
   "source": [
    "class TicketCategory(str, Enum):\n",
    "    \"\"\" Enumeration of categories for incoming tickets.\"\"\"\n",
    "    GENERAL = 'general'\n",
    "    ORDER = 'order'\n",
    "    BILLING = 'billing'\n",
    "\n",
    "class Reply(BaseModel):\n",
    "    content: str = Field(description='Your reply that we send to the customer.')\n",
    "    category: TicketCategory\n",
    "    confidence: float = Field(description='Confidence in the category prediction.')"
   ]
  },
  {
   "cell_type": "code",
   "execution_count": null,
   "id": "69d477b2-bf70-442c-b16f-9a924511328b",
   "metadata": {},
   "outputs": [],
   "source": [
    "# Send the data to the model\n",
    "completion = client.beta.chat.completions.parse(model=model, \n",
    "                                                messages=messages, \n",
    "                                                response_format=Reply)"
   ]
  },
  {
   "cell_type": "code",
   "execution_count": null,
   "id": "e015a26a-587e-4e26-a881-ae49ea68b805",
   "metadata": {},
   "outputs": [],
   "source": [
    "# Process the output\n",
    "completion_parsed = completion.choices[0].message.parsed\n",
    "output = completion_parsed.model_dump()\n",
    "output = pd.DataFrame(output, index=[0])\n",
    "display(output)"
   ]
  }
 ],
 "metadata": {
  "language_info": {
   "name": "python"
  }
 },
 "nbformat": 4,
 "nbformat_minor": 5
}
