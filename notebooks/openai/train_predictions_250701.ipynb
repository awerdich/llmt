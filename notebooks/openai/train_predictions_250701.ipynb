{
 "cells": [
  {
   "cell_type": "markdown",
   "id": "f9011b95-db54-41fa-b6be-46269f647e5c",
   "metadata": {},
   "source": [
    "### OpenAI predictions and performance for updated training set ###"
   ]
  },
  {
   "cell_type": "code",
   "execution_count": 4,
   "id": "85fc71de-7ac3-4cf0-a297-a790fea5980b",
   "metadata": {},
   "outputs": [
    {
     "data": {
      "text/html": [
       "<style>.container { width:100% !important; }</style>"
      ],
      "text/plain": [
       "<IPython.core.display.HTML object>"
      ]
     },
     "metadata": {},
     "output_type": "display_data"
    },
    {
     "name": "stdout",
     "output_type": "stream",
     "text": [
      "The autoreload extension is already loaded. To reload it, use:\n",
      "  %reload_ext autoreload\n"
     ]
    }
   ],
   "source": [
    "import os\n",
    "import copy\n",
    "import numpy as np\n",
    "import pandas as pd\n",
    "import time\n",
    "\n",
    "# Appearance of the Notebook\n",
    "from IPython.display import display, HTML\n",
    "display(HTML(\"<style>.container { width:100% !important; }</style>\"))\n",
    "np.set_printoptions(linewidth=110)\n",
    "pd.set_option('display.max_rows', 500)\n",
    "pd.set_option('display.max_columns', 100)\n",
    "pd.set_option('display.width', 1000)\n",
    "\n",
    "# Import this module with autoreload\n",
    "%load_ext autoreload\n",
    "%autoreload 2\n",
    "from llmt.openaimodel import OpenAIModel"
   ]
  },
  {
   "cell_type": "code",
   "execution_count": 5,
   "id": "15273192-4dcf-4d99-b8f9-88d092d26075",
   "metadata": {},
   "outputs": [
    {
     "name": "stdout",
     "output_type": "stream",
     "text": [
      "/app/data/hcp\n",
      "/app/data/hcp/hcp-train-250701.parquet\n",
      "(187, 7)\n",
      "187\n"
     ]
    },
    {
     "data": {
      "text/html": [
       "<div>\n",
       "<style scoped>\n",
       "    .dataframe tbody tr th:only-of-type {\n",
       "        vertical-align: middle;\n",
       "    }\n",
       "\n",
       "    .dataframe tbody tr th {\n",
       "        vertical-align: top;\n",
       "    }\n",
       "\n",
       "    .dataframe thead th {\n",
       "        text-align: right;\n",
       "    }\n",
       "</style>\n",
       "<table border=\"1\" class=\"dataframe\">\n",
       "  <thead>\n",
       "    <tr style=\"text-align: right;\">\n",
       "      <th></th>\n",
       "      <th>id</th>\n",
       "      <th>name</th>\n",
       "      <th>description</th>\n",
       "      <th>mental_health</th>\n",
       "      <th>inpatient</th>\n",
       "      <th>outpatient</th>\n",
       "      <th>dset</th>\n",
       "    </tr>\n",
       "  </thead>\n",
       "  <tbody>\n",
       "    <tr>\n",
       "      <th>0</th>\n",
       "      <td>491639-77</td>\n",
       "      <td>144-Bed Hospital Facility Joint Venture in Den...</td>\n",
       "      <td>Provider of behavioral health services located...</td>\n",
       "      <td>1</td>\n",
       "      <td>1</td>\n",
       "      <td>1</td>\n",
       "      <td>train</td>\n",
       "    </tr>\n",
       "    <tr>\n",
       "      <th>1</th>\n",
       "      <td>10995-58</td>\n",
       "      <td>Acadia Healthcare (NAS: ACHC)</td>\n",
       "      <td>Acadia Healthcare Co Inc acquires and develops...</td>\n",
       "      <td>1</td>\n",
       "      <td>1</td>\n",
       "      <td>1</td>\n",
       "      <td>train</td>\n",
       "    </tr>\n",
       "  </tbody>\n",
       "</table>\n",
       "</div>"
      ],
      "text/plain": [
       "          id                                               name                                        description  mental_health  inpatient  outpatient   dset\n",
       "0  491639-77  144-Bed Hospital Facility Joint Venture in Den...  Provider of behavioral health services located...              1          1           1  train\n",
       "1   10995-58                      Acadia Healthcare (NAS: ACHC)  Acadia Healthcare Co Inc acquires and develops...              1          1           1  train"
      ]
     },
     "metadata": {},
     "output_type": "display_data"
    },
    {
     "name": "stdout",
     "output_type": "stream",
     "text": [
      "187\n"
     ]
    }
   ],
   "source": [
    "data_dir = os.path.join(os.environ.get('DATA'), 'hcp')\n",
    "print(data_dir)\n",
    "train_file_name = 'hcp-train-250701.parquet'\n",
    "train_file = os.path.join(data_dir, train_file_name)\n",
    "print(train_file)\n",
    "train_df = pd.read_parquet(train_file)\n",
    "print(train_df.shape)\n",
    "print(len(train_df['id'].unique()))\n",
    "display(train_df.head(2))\n",
    "company_id_list = list(train_df['id'].unique())\n",
    "print(len(company_id_list))"
   ]
  },
  {
   "cell_type": "code",
   "execution_count": 18,
   "id": "4c30e6da-5c22-4c1b-bfef-a12f8a900429",
   "metadata": {},
   "outputs": [],
   "source": [
    "# Define the names of the true and predicted columns\n",
    "# We need to define these names somewhere to combine the correct columns\n",
    "true_col_dict = {'true_mh_col': 'mental_health',\n",
    "                 'true_ip_col': 'inpatient',\n",
    "                 'true_op_col': 'outpatient',\n",
    "                 'true_mh_ip_col': 'mh_ip',\n",
    "                 'true_mh_op_col': 'mh_op'}\n",
    "\n",
    "pred_col_dict = {'pred_mh_col': 'pred_mh',\n",
    "                 'pred_ip_col': 'pred_ip',\n",
    "                 'pred_op_col': 'pred_op',\n",
    "                 'pred_mh_ip_col': 'pred_mh_ip',\n",
    "                 'pred_mh_op_col': 'pred_mh_op'}\n",
    "\n",
    "col_dict = true_col_dict\n",
    "col_dict.update(pred_col_dict)"
   ]
  },
  {
   "cell_type": "markdown",
   "id": "48dcca21-791a-4da0-8757-b192cf538bb4",
   "metadata": {},
   "source": [
    "### Functions ###"
   ]
  },
  {
   "cell_type": "code",
   "execution_count": 20,
   "id": "b9c12a2a-a15f-4f54-8650-3dfa5c4203e0",
   "metadata": {},
   "outputs": [],
   "source": [
    "# Run the prediction functions for a specific model\n",
    "def predict_classes(model, name, description, temperature, version_dict=None):\n",
    "    if version_dict is None:\n",
    "        version_dict = {'mh': 3, 'ip': 1, 'op': 1}\n",
    "    response_list = []\n",
    "    response_mh = model.predict_mh(name=name, \n",
    "                                   description=description, \n",
    "                                   temperature=temperature, \n",
    "                                   version=prompt_dict.get('mh'))\n",
    "    response_list.append(response_mh)\n",
    "    response_ip = model.predict_ip(name=name, \n",
    "                                   description=description, \n",
    "                                   temperature=temperature, \n",
    "                                   version=prompt_dict.get('ip'))\n",
    "    response_list.append(response_ip)\n",
    "    response_op = model.predict_op(name=name, \n",
    "                                   description=description, \n",
    "                                   temperature=temperature, \n",
    "                                   version=prompt_dict.get('op'))\n",
    "    response_list.append(response_op)\n",
    "    assert len(response_list) == 3\n",
    "    return response_list\n",
    "\n",
    "# Combine mental health with inpatient/outpatient columns\n",
    "def combine_mental_health_columns(data, **col_dict):\n",
    "    ''' Combine mental health with inpatient/outpatient services columns '''\n",
    "    data_ip = combine_columns(data=data, \n",
    "                              true_col_list=[col_dict.get('true_mh_col'), col_dict.get('true_ip_col')], \n",
    "                              pred_col_list=[col_dict.get('pred_mh_col'), col_dict.get('pred_ip_col')])\n",
    "    \n",
    "    data_op = combine_columns(data=data_ip, \n",
    "                              true_col_list=[col_dict.get('true_mh_col'), col_dict.get('true_op_col')], \n",
    "                              pred_col_list=[col_dict.get('pred_mh_col'), col_dict.get('pred_op_col')])\n",
    "    output = data_op.\\\n",
    "        rename(columns={f'{col_dict.get('true_mh_col')}_{col_dict.get('true_ip_col')}': col_dict.get('true_mh_ip_col'),\n",
    "                        f'{col_dict.get('true_mh_col')}_{col_dict.get('true_op_col')}': col_dict.get('true_mh_op_col'),\n",
    "                        f'{col_dict.get('pred_mh_col')}_{col_dict.get('pred_ip_col')}': col_dict.get('pred_mh_ip_col'),\n",
    "                        f'{col_dict.get('pred_mh_col')}_{col_dict.get('pred_op_col')}': col_dict.get('pred_mh_op_col')})\n",
    "    return output"
   ]
  },
  {
   "cell_type": "markdown",
   "id": "cecf9f86-4807-408d-a30a-6f39f7c8bb75",
   "metadata": {},
   "source": [
    "### Run the models on the test data ###"
   ]
  },
  {
   "cell_type": "code",
   "execution_count": 21,
   "id": "beb632e2-5468-4a05-bb70-aa4aec9f3608",
   "metadata": {},
   "outputs": [
    {
     "name": "stdout",
     "output_type": "stream",
     "text": [
      "Running predictions for id 20 / 187:  0.40 minutes\n"
     ]
    }
   ],
   "source": [
    "df = copy.deepcopy(train_df)\n",
    "temperature = 0\n",
    "output_base_name = 'pred_train_250704'\n",
    "model_file_name = f'{output_base_name}.parquet'\n",
    "start_time = time.perf_counter()\n",
    "\n",
    "# LOOP OVER THE MODELS\n",
    "deployment_id = 'gpt-4o-1120'\n",
    "model = OpenAIModel(model=deployment_id)\n",
    "\n",
    "# LOOP OVER THE PROMPT VERSIONS\n",
    "version_dict = {'mh': 3, 'ip': 1, 'op': 1}\n",
    "\n",
    "# LOOP OVER THE COMPANY IDs\n",
    "results_df_list = []\n",
    "for c, company_id in enumerate(company_id_list[:20]):\n",
    "    if (c +1) % 20 == 0:\n",
    "        dt = (time.perf_counter() - start_time) / 60\n",
    "        print(f'Running predictions for id {c + 1} / {len(company_id_list)}: {dt: .2f} minutes')\n",
    "    \n",
    "    company_df = df.loc[df['id'] == company_id]\n",
    "    name = company_df['name'].to_list()[0]\n",
    "    description = company_df['description'].to_list()[0]\n",
    "\n",
    "    response_list = predict_classes(model=model, name=name, description=description, \n",
    "                                    temperature=temperature, version_dict=version_dict)\n",
    "    for response in response_list:\n",
    "        company_df = company_df.assign(**response)\n",
    "    \n",
    "    \n",
    "    results_df_list.append(company_df)\n",
    "    \n",
    "# Assemble the data complete data frame with predictions\n",
    "results_df = pd.concat(results_df_list, axis=0, ignore_index=True).\\\n",
    "    assign(model=deployment_id)"
   ]
  },
  {
   "cell_type": "code",
   "execution_count": 22,
   "id": "658b260d-06e2-4221-8513-7cadf0c001aa",
   "metadata": {},
   "outputs": [
    {
     "data": {
      "text/html": [
       "<div>\n",
       "<style scoped>\n",
       "    .dataframe tbody tr th:only-of-type {\n",
       "        vertical-align: middle;\n",
       "    }\n",
       "\n",
       "    .dataframe tbody tr th {\n",
       "        vertical-align: top;\n",
       "    }\n",
       "\n",
       "    .dataframe thead th {\n",
       "        text-align: right;\n",
       "    }\n",
       "</style>\n",
       "<table border=\"1\" class=\"dataframe\">\n",
       "  <thead>\n",
       "    <tr style=\"text-align: right;\">\n",
       "      <th></th>\n",
       "      <th>id</th>\n",
       "      <th>name</th>\n",
       "      <th>description</th>\n",
       "      <th>mental_health</th>\n",
       "      <th>inpatient</th>\n",
       "      <th>outpatient</th>\n",
       "      <th>dset</th>\n",
       "      <th>pred_mh</th>\n",
       "      <th>pred_ip</th>\n",
       "      <th>pred_op</th>\n",
       "      <th>verified_op</th>\n",
       "      <th>model</th>\n",
       "    </tr>\n",
       "  </thead>\n",
       "  <tbody>\n",
       "    <tr>\n",
       "      <th>0</th>\n",
       "      <td>491639-77</td>\n",
       "      <td>144-Bed Hospital Facility Joint Venture in Den...</td>\n",
       "      <td>Provider of behavioral health services located...</td>\n",
       "      <td>1</td>\n",
       "      <td>1</td>\n",
       "      <td>1</td>\n",
       "      <td>train</td>\n",
       "      <td>1</td>\n",
       "      <td>1</td>\n",
       "      <td>1</td>\n",
       "      <td>1</td>\n",
       "      <td>gpt-4o-1120</td>\n",
       "    </tr>\n",
       "    <tr>\n",
       "      <th>1</th>\n",
       "      <td>10995-58</td>\n",
       "      <td>Acadia Healthcare (NAS: ACHC)</td>\n",
       "      <td>Acadia Healthcare Co Inc acquires and develops...</td>\n",
       "      <td>1</td>\n",
       "      <td>1</td>\n",
       "      <td>1</td>\n",
       "      <td>train</td>\n",
       "      <td>1</td>\n",
       "      <td>1</td>\n",
       "      <td>0</td>\n",
       "      <td>1</td>\n",
       "      <td>gpt-4o-1120</td>\n",
       "    </tr>\n",
       "    <tr>\n",
       "      <th>2</th>\n",
       "      <td>431643-07</td>\n",
       "      <td>Actriv</td>\n",
       "      <td>Provider of healthcare staffing services based...</td>\n",
       "      <td>1</td>\n",
       "      <td>0</td>\n",
       "      <td>0</td>\n",
       "      <td>train</td>\n",
       "      <td>0</td>\n",
       "      <td>0</td>\n",
       "      <td>0</td>\n",
       "      <td>1</td>\n",
       "      <td>gpt-4o-1120</td>\n",
       "    </tr>\n",
       "    <tr>\n",
       "      <th>3</th>\n",
       "      <td>310749-31</td>\n",
       "      <td>Alima</td>\n",
       "      <td>Operator of a non-governmental organization in...</td>\n",
       "      <td>0</td>\n",
       "      <td>0</td>\n",
       "      <td>0</td>\n",
       "      <td>train</td>\n",
       "      <td>1</td>\n",
       "      <td>1</td>\n",
       "      <td>1</td>\n",
       "      <td>1</td>\n",
       "      <td>gpt-4o-1120</td>\n",
       "    </tr>\n",
       "    <tr>\n",
       "      <th>4</th>\n",
       "      <td>107240-50</td>\n",
       "      <td>Alvarado Parkway Institute</td>\n",
       "      <td>Operator of a psychiatric health care facility...</td>\n",
       "      <td>1</td>\n",
       "      <td>1</td>\n",
       "      <td>1</td>\n",
       "      <td>train</td>\n",
       "      <td>1</td>\n",
       "      <td>1</td>\n",
       "      <td>1</td>\n",
       "      <td>1</td>\n",
       "      <td>gpt-4o-1120</td>\n",
       "    </tr>\n",
       "  </tbody>\n",
       "</table>\n",
       "</div>"
      ],
      "text/plain": [
       "          id                                               name                                        description  mental_health  inpatient  outpatient   dset  pred_mh  pred_ip  pred_op  verified_op        model\n",
       "0  491639-77  144-Bed Hospital Facility Joint Venture in Den...  Provider of behavioral health services located...              1          1           1  train        1        1        1            1  gpt-4o-1120\n",
       "1   10995-58                      Acadia Healthcare (NAS: ACHC)  Acadia Healthcare Co Inc acquires and develops...              1          1           1  train        1        1        0            1  gpt-4o-1120\n",
       "2  431643-07                                             Actriv  Provider of healthcare staffing services based...              1          0           0  train        0        0        0            1  gpt-4o-1120\n",
       "3  310749-31                                              Alima  Operator of a non-governmental organization in...              0          0           0  train        1        1        1            1  gpt-4o-1120\n",
       "4  107240-50                         Alvarado Parkway Institute  Operator of a psychiatric health care facility...              1          1           1  train        1        1        1            1  gpt-4o-1120"
      ]
     },
     "metadata": {},
     "output_type": "display_data"
    }
   ],
   "source": [
    "display(results_df.head())"
   ]
  }
 ],
 "metadata": {
  "kernelspec": {
   "display_name": "Python 3 (ipykernel)",
   "language": "python",
   "name": "python3"
  },
  "language_info": {
   "codemirror_mode": {
    "name": "ipython",
    "version": 3
   },
   "file_extension": ".py",
   "mimetype": "text/x-python",
   "name": "python",
   "nbconvert_exporter": "python",
   "pygments_lexer": "ipython3",
   "version": "3.12.11"
  }
 },
 "nbformat": 4,
 "nbformat_minor": 5
}
