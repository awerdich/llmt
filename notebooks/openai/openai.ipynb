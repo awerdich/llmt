{
 "cells": [
  {
   "cell_type": "markdown",
   "id": "6bb778cb-e3f5-4ec1-b0d2-d8764cb90663",
   "metadata": {},
   "source": [
    "### Getting started with the AzureOpenAI library ###"
   ]
  },
  {
   "cell_type": "code",
   "execution_count": null,
   "id": "0b68ce7a-d58b-49f7-b517-17fdae85ba35",
   "metadata": {},
   "outputs": [],
   "source": [
    "import os\n",
    "import numpy as np\n",
    "import pandas as pd\n",
    "from dotenv import load_dotenv\n",
    "from textwrap import dedent\n",
    "\n",
    "# OpenAI libraries\n",
    "import openai\n",
    "from openai import AzureOpenAI\n",
    "from pydantic import BaseModel\n",
    "\n",
    "# Appearance of the Notebook\n",
    "from IPython.display import display, HTML\n",
    "display(HTML(\"<style>.container { width:100% !important; }</style>\"))\n",
    "np.set_printoptions(linewidth=110)\n",
    "pd.set_option('display.max_rows', 500)\n",
    "pd.set_option('display.max_columns', 100)\n",
    "pd.set_option('display.width', 1000)\n",
    "\n",
    "\n",
    "# Import this module with autoreload\n",
    "%load_ext autoreload\n",
    "%autoreload 2\n",
    "import llmt\n",
    "# print(f'Package version: {llmt.__version__}')"
   ]
  },
  {
   "cell_type": "code",
   "execution_count": null,
   "id": "0a2c2f1f-0342-40e5-8b4f-cc383804201f",
   "metadata": {},
   "outputs": [],
   "source": [
    "def create_message_list(system_message, user_message):\n",
    "    # Encode the image\n",
    "    system_dict = {'role': 'system',\n",
    "                   'content': dedent(system_message)}\n",
    "    user_dict = {'role': 'user',\n",
    "                 'content': [{'type': 'text', 'text': dedent(user_message)}]}\n",
    "    message_list = [system_dict, user_dict]\n",
    "    return message_list\n",
    "\n",
    "# Function to create the output message\n",
    "def send_messages(model, temperature, messages):\n",
    "    try:\n",
    "        output = client.chat.completions.create(model=model, \n",
    "                                                messages=messages, \n",
    "                                                temperature=temperature)\n",
    "    except Exception as e:\n",
    "        print(f'ERROR: {e}')\n",
    "        response = None\n",
    "    else:\n",
    "        response = output.choices[0].message.content\n",
    "    return response"
   ]
  },
  {
   "cell_type": "code",
   "execution_count": null,
   "id": "187890b5-2392-45e8-a4d8-c13bed89cd66",
   "metadata": {},
   "outputs": [],
   "source": [
    "# API Credentials\n",
    "# Load API key\n",
    "load_dotenv()\n",
    "\n",
    "# api_version = '2024-10-21'\n",
    "api_version = os.environ.get('OPENAI_API_VERSION')\n",
    "print(f'api_version: {api_version}')\n",
    "\n",
    "azure_endpoint = 'https://azure-ai-dev.hms.edu/openai'\n",
    "# azure_endpoint = os.environ.get('OPENAI_API_ENDPOINT')\n",
    "print(f'azure_endpoint: {azure_endpoint}')\n",
    "\n",
    "api_key = os.environ.get('OPENAI_API_KEY')\n",
    "\n",
    "api_dict = {'api_version': api_version,\n",
    "            'azure_endpoint': azure_endpoint,\n",
    "            'api_key': api_key}\n",
    "api_project = os.environ.get('OPENAI_API_PROJECT')\n",
    "print(api_project)\n",
    "# Model name needs to be in the deployment for the endpoint\n",
    "model_name = 'gpt-4o'"
   ]
  },
  {
   "cell_type": "code",
   "execution_count": null,
   "id": "ca182676-a920-4394-ace3-12c3aa62e84c",
   "metadata": {},
   "outputs": [],
   "source": [
    "# Now, we can create the API client\n",
    "client = AzureOpenAI(**api_dict)\n",
    "\n",
    "system_message = \"\"\"You are a powerful AI system.\"\"\"\n",
    "user_message = \"\"\"Define large language model.\"\"\"\n",
    "messages = create_message_list(system_message=system_message, user_message=user_message)\n",
    "\n",
    "# Send the messages\n",
    "model = 'gpt-4o'\n",
    "temperature = 0.5\n",
    "output = client.chat.completions.create(model=model, \n",
    "                                        messages=messages,\n",
    "                                        temperature=temperature, timeout=30)\n",
    "print(output)"
   ]
  }
 ],
 "metadata": {
  "kernelspec": {
   "display_name": "Python 3 (ipykernel)",
   "language": "python",
   "name": "python3"
  },
  "language_info": {
   "codemirror_mode": {
    "name": "ipython",
    "version": 3
   },
   "file_extension": ".py",
   "mimetype": "text/x-python",
   "name": "python",
   "nbconvert_exporter": "python",
   "pygments_lexer": "ipython3",
   "version": "3.12.11"
  }
 },
 "nbformat": 4,
 "nbformat_minor": 5
}
