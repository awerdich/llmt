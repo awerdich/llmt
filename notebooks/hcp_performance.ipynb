{
 "cells": [
  {
   "cell_type": "markdown",
   "id": "565fa044-df29-47f9-9e1e-01e1caf43185",
   "metadata": {},
   "source": [
    "### HCP Performance Evaluation ###"
   ]
  },
  {
   "cell_type": "code",
   "execution_count": null,
   "id": "70356e78-26a1-4e28-874a-874da18351bb",
   "metadata": {},
   "outputs": [],
   "source": [
    "import os\n",
    "import numpy as np\n",
    "import pandas as pd\n",
    "from typing import List\n",
    "\n",
    "# Binary perfomance metrics\n",
    "from sklearn.metrics import confusion_matrix\n",
    "\n",
    "# Import this module with autoreload\n",
    "%load_ext autoreload\n",
    "%autoreload 2\n",
    "import llmt\n",
    "from llmt.performance import Performance, binary_performance"
   ]
  },
  {
   "cell_type": "code",
   "execution_count": null,
   "id": "3804ea35-3aa5-42ce-a452-6aaa8ebf90a3",
   "metadata": {},
   "outputs": [],
   "source": [
    "data_dir = os.path.join(os.environ.get('HOME'), 'home_data', 'hcp')\n",
    "results_file_name = 'mh_prompt_01_250418.parquet'\n",
    "results_file = os.path.join(data_dir, results_file_name)\n",
    "df = pd.read_parquet(results_file)\n",
    "display(df.head(2))"
   ]
  },
  {
   "cell_type": "code",
   "execution_count": null,
   "id": "4abc1386-6d90-4b95-a6ad-5d7bba08ddaa",
   "metadata": {},
   "outputs": [],
   "source": [
    "true_col = 'mental_health'\n",
    "pred_col = 'pred_mh'\n",
    "\n",
    "data = df[[true_col, pred_col]].dropna(axis=0)\n",
    "data = data.loc[data[true_col].isin([0, 1])]\n",
    "\n",
    "y_true = list(data[true_col].values)\n",
    "y_pred = list(data[pred_col].values)\n",
    "y_true = [int(y) for y in y_true]\n",
    "y_pred = [int(y) for y in y_pred]\n",
    "\n",
    "# Original performance\n",
    "performance_dict = binary_performance(y_true=y_true, y_pred=y_pred)\n",
    "display(performance_dict)\n",
    "# Performance if we set all prediction to 1 \n",
    "print()\n",
    "performance_dict_1 = binary_performance(y_true=y_true, y_pred=np.ones(len(y_pred)))\n",
    "display(performance_dict_1)"
   ]
  },
  {
   "cell_type": "code",
   "execution_count": null,
   "id": "6e9964d0-6946-49cd-bba8-876817bda1cf",
   "metadata": {},
   "outputs": [],
   "source": [
    "display(Performance(data=df.copy()).binary_performance(true_col='mental_health', \n",
    "                                                       pred_col='pred_mh'))"
   ]
  },
  {
   "cell_type": "markdown",
   "id": "9118ba1f-5322-49bc-b34a-9ae575d6b951",
   "metadata": {},
   "source": [
    "### Evaluate false positives ###"
   ]
  },
  {
   "cell_type": "code",
   "execution_count": null,
   "id": "c726c573-ec03-43dd-b32a-f1db6bc9de6a",
   "metadata": {},
   "outputs": [],
   "source": [
    "fp_idx = [idx for idx in range(len(y_true)) if (y_true[idx] == 0) & (y_pred[idx] == 1)]\n",
    "fp_id = df_var.loc[df_var.index.isin(fp_idx), 'id'].values\n",
    "\n",
    "print(fp_idx)\n",
    "\n",
    "for company_id in fp_id:\n",
    "    df_company = df_var.loc[df_var['id'] == company_id]\n",
    "    display(df_company)\n",
    "    print(df_company['name'].values[0])\n",
    "    print(df_company['description'].values[0])\n",
    "    print()"
   ]
  }
 ],
 "metadata": {
  "kernelspec": {
   "display_name": "Python 3 (ipykernel)",
   "language": "python",
   "name": "python3"
  },
  "language_info": {
   "codemirror_mode": {
    "name": "ipython",
    "version": 3
   },
   "file_extension": ".py",
   "mimetype": "text/x-python",
   "name": "python",
   "nbconvert_exporter": "python",
   "pygments_lexer": "ipython3",
   "version": "3.12.11"
  }
 },
 "nbformat": 4,
 "nbformat_minor": 5
}
