{
 "cells": [
  {
   "cell_type": "markdown",
   "id": "94c034dd-6222-4e73-bd30-6693f4fa62b9",
   "metadata": {},
   "source": [
    "### Prompt Engineering OUTPATIENT HEALTHCARE + VERIFICATION ###\n",
    "Add another output to confirm if the prediction can be verified from the information given"
   ]
  },
  {
   "cell_type": "code",
   "execution_count": null,
   "id": "d855ae84-3c04-4677-a51d-63a91a96f37a",
   "metadata": {},
   "outputs": [],
   "source": [
    "import os\n",
    "import pandas as pd\n",
    "import numpy as np\n",
    "import logging\n",
    "\n",
    "logger = logging.getLogger(__name__)\n",
    "\n",
    "# Import this module with autoreload\n",
    "%load_ext autoreload\n",
    "%autoreload 2\n",
    "import llmt\n",
    "from llmt.llmtools import Prompt\n",
    "from llmt.llmtools import MentalHealth, OutpatientServices\n",
    "from llmt.llmtools import process_prompt\n",
    "from llmt.openai import OpenAI, create_messages\n",
    "from llmt.performance import Performance"
   ]
  },
  {
   "cell_type": "code",
   "execution_count": null,
   "id": "958b1d27-85e6-465b-9d58-c7d5e79d93e1",
   "metadata": {},
   "outputs": [],
   "source": [
    "# Parameters\n",
    "model = 'gpt-4o'\n",
    "temperature = 0\n",
    "\n",
    "# Directories and files\n",
    "data_dir = os.path.join(os.environ.get('HOME'), 'home_data', 'hcp')\n",
    "test_file_name = 'hcp-alldata-250413.parquet'\n",
    "test_file = os.path.join(data_dir, test_file_name)\n",
    "df = pd.read_parquet(test_file)\n",
    "# Filter the labeled data\n",
    "df = df.loc[df['dset'] == 'train'].\\\n",
    "                reset_index(drop=True).\\\n",
    "                astype({'mental_health': int,\n",
    "                        'inpatient': int,\n",
    "                        'outpatient': int})\n",
    "display(df.head())\n",
    "print(df.shape)"
   ]
  },
  {
   "cell_type": "markdown",
   "id": "6211b276-d64a-4f3f-b664-bf77ef00b02e",
   "metadata": {},
   "source": [
    "### Prompt development ###"
   ]
  },
  {
   "cell_type": "code",
   "execution_count": null,
   "id": "c9232230-9c6a-4e3b-98ce-793532a7be1b",
   "metadata": {},
   "outputs": [],
   "source": [
    "# Pick an example of a company that provides mental health services\n",
    "mental_health = 1\n",
    "outpatient = 1\n",
    "id_list = list(df.loc[(df['mental_health'] == mental_health) & (df['outpatient'] == outpatient), 'id'].unique())\n",
    "print(f'Found {len(id_list)} company ids')\n",
    "\n",
    "# Pick a company ID\n",
    "idx = 5\n",
    "company_id = id_list[idx]\n",
    "# company_id = '135432-64'\n",
    "\n",
    "ser_id = df.loc[df['id'] == company_id].iloc[0]\n",
    "display(ser_id)\n",
    "name = ser_id['name']\n",
    "description = ser_id['description']\n",
    "print()\n",
    "print(name)\n",
    "print(description)"
   ]
  },
  {
   "cell_type": "code",
   "execution_count": null,
   "id": "f071114e-7d23-474b-a783-12317fe94d4b",
   "metadata": {},
   "outputs": [],
   "source": [
    "variable = 'outpatient'\n",
    "prompt_version = 1\n",
    "prompt_name = f'{variable}_system_{str(prompt_version).zfill(2)}'\n",
    "system_prompt = Prompt().load(prompt_name=prompt_name)\n",
    "\n",
    "# For the user prompt, we want to include the name of the business and the description\n",
    "def create_user_prompt(name: str, description: str, variable: str):\n",
    "    user_prompt = f\"\"\"\n",
    "        The organization {name} is described as: {description} \n",
    "        Does this organization provide {variable} healthcare services?\n",
    "        \"\"\"\n",
    "    return process_prompt(user_prompt)\n",
    "\n",
    "user_prompt = create_user_prompt(name=name, description=description, variable=variable)\n",
    "messages = create_messages(system_prompt=system_prompt, user_prompt=user_prompt)"
   ]
  },
  {
   "cell_type": "code",
   "execution_count": null,
   "id": "53c7e01b-fe43-4e24-946e-0b65a40db56a",
   "metadata": {},
   "outputs": [],
   "source": [
    "print(system_prompt)\n",
    "print()\n",
    "print(user_prompt)"
   ]
  },
  {
   "cell_type": "code",
   "execution_count": null,
   "id": "e3cc178a-d90f-4c19-bacd-51d7cd2bbaf3",
   "metadata": {},
   "outputs": [],
   "source": [
    "# Send prompt to model\n",
    "model = 'gpt-4o'\n",
    "temperature = 0\n",
    "response_format = OutpatientServices\n",
    "client = OpenAI().create_client()\n",
    "\n",
    "output = OpenAI().send_messages(messages=messages, \n",
    "                                model=model, \n",
    "                                response_format=response_format,\n",
    "                                temperature=0,\n",
    "                                client=client)\n",
    "print(output)\n",
    "# Replace the boolean with binary outcome prediction\n",
    "key_list = ['pred_op', 'verified_op']\n",
    "output.update({key: 1 if output.get(key) == True else 0 for key in key_list})\n",
    "print(output)"
   ]
  },
  {
   "cell_type": "code",
   "execution_count": null,
   "id": "678bab62-3c3b-46f0-9675-cd65b0a11046",
   "metadata": {},
   "outputs": [],
   "source": [
    "# Run the prompt on all data\n",
    "company_id_list = sorted(list(df['id'].unique()))\n",
    "results_df_list = []\n",
    "\n",
    "for c, company_id in enumerate(company_id_list):\n",
    "    if (c + 1) % 20 == 0:\n",
    "        print(f'Sending description {c + 1} / {len(company_id_list)} to the model')\n",
    "    df_id = df.loc[df['id'] == company_id]\n",
    "    user_prompt_id = create_user_prompt(name=df_id['name'].values[0], \n",
    "                                        description=df_id['description'].values[0],\n",
    "                                        variable=variable)\n",
    "    messages = create_messages(system_prompt=system_prompt, user_prompt=user_prompt_id)\n",
    "    output = OpenAI().send_messages(messages=messages,\n",
    "                                    model=model,\n",
    "                                    temperature=temperature,\n",
    "                                    response_format=response_format,\n",
    "                                    client=client)\n",
    "    \n",
    "   # Replace the boolean with binary outcome prediction\n",
    "    key_list = ['pred_op', 'verified_op']\n",
    "    output.update({key: 1 if output.get(key) == True else 0 for key in key_list})\n",
    "    results_df_list.append(df_id.assign(**output))\n",
    "\n",
    "results_df = pd.concat(results_df_list, axis=0, ignore_index=True)\n",
    "# Save the results\n",
    "results_file_name = f'{variable}_{str(prompt_version).zfill(2)}_results.parquet'\n",
    "results_file = os.path.join(data_dir, results_file_name)\n",
    "results_df.to_parquet(results_file)\n",
    "print(results_file)"
   ]
  },
  {
   "cell_type": "code",
   "execution_count": null,
   "id": "50e4b797-2477-4ffe-aec6-d9c0934b9e91",
   "metadata": {},
   "outputs": [],
   "source": [
    "display(Performance(data=results_df).\\\n",
    "        binary_performance(true_col='outpatient', pred_col='pred_op'))"
   ]
  }
 ],
 "metadata": {
  "language_info": {
   "name": "python"
  }
 },
 "nbformat": 4,
 "nbformat_minor": 5
}
