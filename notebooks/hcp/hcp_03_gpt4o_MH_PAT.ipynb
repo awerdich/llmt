{
 "cells": [
  {
   "cell_type": "markdown",
   "id": "94c034dd-6222-4e73-bd30-6693f4fa62b9",
   "metadata": {},
   "source": [
    "### GPT4o classifications of mental health and inpatient/outpatient ###"
   ]
  },
  {
   "cell_type": "code",
   "execution_count": null,
   "id": "d855ae84-3c04-4677-a51d-63a91a96f37a",
   "metadata": {},
   "outputs": [],
   "source": [
    "import os\n",
    "import pandas as pd\n",
    "import numpy as np\n",
    "\n",
    "# Import this module with autoreload\n",
    "%load_ext autoreload\n",
    "%autoreload 2\n",
    "import llmt\n",
    "from llmt.llmtools import Prompt, MentalHealth\n",
    "from llmt.llmtools import process_prompt\n",
    "from llmt.openai import OpenAI, create_messages"
   ]
  },
  {
   "cell_type": "code",
   "execution_count": null,
   "id": "958b1d27-85e6-465b-9d58-c7d5e79d93e1",
   "metadata": {},
   "outputs": [],
   "source": [
    "# Parameters\n",
    "model = 'gpt-4o'\n",
    "temperature = 0\n",
    "\n",
    "# Directories and files\n",
    "data_dir = os.path.join(os.environ.get('HOME'), 'home_data', 'hcp')\n",
    "test_file_name = 'hcp-alldata-250413.parquet'\n",
    "test_file = os.path.join(data_dir, test_file_name)\n",
    "df = pd.read_parquet(test_file)\n",
    "# Filter the labeled data\n",
    "df = df.loc[df['dset'] == 'train'].\\\n",
    "                reset_index(drop=True).\\\n",
    "                astype({'mental_health': int,\n",
    "                        'inpatient': int,\n",
    "                        'outpatient': int})\n",
    "\n",
    "\n",
    "display(df.head())\n",
    "print(df.shape)"
   ]
  },
  {
   "cell_type": "markdown",
   "id": "6211b276-d64a-4f3f-b664-bf77ef00b02e",
   "metadata": {},
   "source": [
    "### Prompt development ###"
   ]
  },
  {
   "cell_type": "code",
   "execution_count": null,
   "id": "c9232230-9c6a-4e3b-98ce-793532a7be1b",
   "metadata": {},
   "outputs": [],
   "source": [
    "# Pick an example of a company that provides mental health services\n",
    "idx = 10\n",
    "company_id = df.loc[df['mental_health'] == 1, 'id'].values[10]\n",
    "ser_id = df.loc[df['id'] == company_id].iloc[0]\n",
    "display(ser_id)"
   ]
  },
  {
   "cell_type": "markdown",
   "id": "62bd3f94-25a2-438b-99c0-8dda647ae55d",
   "metadata": {},
   "source": [
    "### Mental health services prompt ###"
   ]
  },
  {
   "cell_type": "code",
   "execution_count": null,
   "id": "c938a535-cf77-4b41-80f7-410016f2b5ff",
   "metadata": {},
   "outputs": [],
   "source": [
    "mental_health_business_definition = Prompt().load(prompt_name='mental_health_definition')\n",
    "system_prompt = Prompt().load(prompt_name='mental_health_system_prompt')\n",
    "\n",
    "system_prompt += f' according to the following definition: {mental_health_business_definition}'\n",
    "\n",
    "# For the user prompt, we want to include the name of the business and the description\n",
    "def create_user_prompt(name: str, description: str):\n",
    "    user_prompt = f\"\"\"\n",
    "        The business or provider {name} is described as: {description} \n",
    "        Does the business provide mental or behavioral health care services?\n",
    "        \"\"\"\n",
    "    return process_prompt(user_prompt)"
   ]
  },
  {
   "cell_type": "code",
   "execution_count": null,
   "id": "fbbd9693-da64-408c-b876-7ab2bbc738d2",
   "metadata": {},
   "outputs": [],
   "source": [
    "# Run the model for the selected company\n",
    "user_prompt = create_user_prompt(name=ser_id['name'], description=ser_id['description'])\n",
    "messages = create_messages(system_prompt=system_prompt, user_prompt=user_prompt)\n",
    "output = OpenAI().send_messages(messages=messages,\n",
    "                                model=model,\n",
    "                                temperature=temperature,\n",
    "                                response_format=MentalHealth)\n",
    "print()\n",
    "print(output)"
   ]
  },
  {
   "cell_type": "markdown",
   "id": "72847d04-44e7-4504-b537-9dad91114208",
   "metadata": {},
   "source": [
    "### In-Patient mental health services prompt ###"
   ]
  },
  {
   "cell_type": "code",
   "execution_count": null,
   "id": "8aa37d0f-b75e-4f22-b74c-f965ea129d8f",
   "metadata": {},
   "outputs": [],
   "source": []
  }
 ],
 "metadata": {
  "language_info": {
   "name": "python"
  }
 },
 "nbformat": 4,
 "nbformat_minor": 5
}
