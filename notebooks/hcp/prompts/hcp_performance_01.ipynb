{
 "cells": [
  {
   "cell_type": "markdown",
   "id": "565fa044-df29-47f9-9e1e-01e1caf43185",
   "metadata": {},
   "source": [
    "### HCP Performance Evaluation ###"
   ]
  },
  {
   "cell_type": "code",
   "execution_count": 1,
   "id": "70356e78-26a1-4e28-874a-874da18351bb",
   "metadata": {},
   "outputs": [],
   "source": [
    "import os\n",
    "import numpy as np\n",
    "import pandas as pd\n",
    "from typing import List\n",
    "\n",
    "# Binary perfomance metrics\n",
    "from sklearn.metrics import confusion_matrix\n",
    "\n",
    "# Import this module with autoreload\n",
    "%load_ext autoreload\n",
    "%autoreload 2\n",
    "import llmt\n",
    "from llmt.performance import Performance, binary_performance"
   ]
  },
  {
   "cell_type": "code",
   "execution_count": 2,
   "id": "3804ea35-3aa5-42ce-a452-6aaa8ebf90a3",
   "metadata": {},
   "outputs": [
    {
     "data": {
      "text/html": [
       "<div>\n",
       "<style scoped>\n",
       "    .dataframe tbody tr th:only-of-type {\n",
       "        vertical-align: middle;\n",
       "    }\n",
       "\n",
       "    .dataframe tbody tr th {\n",
       "        vertical-align: top;\n",
       "    }\n",
       "\n",
       "    .dataframe thead th {\n",
       "        text-align: right;\n",
       "    }\n",
       "</style>\n",
       "<table border=\"1\" class=\"dataframe\">\n",
       "  <thead>\n",
       "    <tr style=\"text-align: right;\">\n",
       "      <th></th>\n",
       "      <th>id</th>\n",
       "      <th>name</th>\n",
       "      <th>description</th>\n",
       "      <th>mental_health</th>\n",
       "      <th>inpatient</th>\n",
       "      <th>outpatient</th>\n",
       "      <th>dset</th>\n",
       "      <th>pred_mh</th>\n",
       "      <th>pred_mh_score</th>\n",
       "      <th>refusal</th>\n",
       "    </tr>\n",
       "  </thead>\n",
       "  <tbody>\n",
       "    <tr>\n",
       "      <th>0</th>\n",
       "      <td>100363-69</td>\n",
       "      <td>Chilton Hospital</td>\n",
       "      <td>Operator of inpatient hospital center. The com...</td>\n",
       "      <td>1</td>\n",
       "      <td>1</td>\n",
       "      <td>1</td>\n",
       "      <td>train</td>\n",
       "      <td>1</td>\n",
       "      <td>0.95</td>\n",
       "      <td>None</td>\n",
       "    </tr>\n",
       "    <tr>\n",
       "      <th>1</th>\n",
       "      <td>10127-62</td>\n",
       "      <td>Quest Diagnostics (NYS: DGX)</td>\n",
       "      <td>Quest Diagnostics is a leading independent pro...</td>\n",
       "      <td>1</td>\n",
       "      <td>0</td>\n",
       "      <td>0</td>\n",
       "      <td>train</td>\n",
       "      <td>0</td>\n",
       "      <td>0.20</td>\n",
       "      <td>None</td>\n",
       "    </tr>\n",
       "  </tbody>\n",
       "</table>\n",
       "</div>"
      ],
      "text/plain": [
       "          id                          name  \\\n",
       "0  100363-69              Chilton Hospital   \n",
       "1   10127-62  Quest Diagnostics (NYS: DGX)   \n",
       "\n",
       "                                         description  mental_health  \\\n",
       "0  Operator of inpatient hospital center. The com...              1   \n",
       "1  Quest Diagnostics is a leading independent pro...              1   \n",
       "\n",
       "   inpatient  outpatient   dset  pred_mh  pred_mh_score refusal  \n",
       "0          1           1  train        1           0.95    None  \n",
       "1          0           0  train        0           0.20    None  "
      ]
     },
     "metadata": {},
     "output_type": "display_data"
    }
   ],
   "source": [
    "data_dir = os.path.join(os.environ.get('HOME'), 'home_data', 'hcp')\n",
    "results_file_name = 'mh_prompt_01_250418.parquet'\n",
    "results_file = os.path.join(data_dir, results_file_name)\n",
    "df = pd.read_parquet(results_file)\n",
    "display(df.head(2))"
   ]
  },
  {
   "cell_type": "code",
   "execution_count": 3,
   "id": "4abc1386-6d90-4b95-a6ad-5d7bba08ddaa",
   "metadata": {},
   "outputs": [
    {
     "data": {
      "text/plain": [
       "{'p': 136,\n",
       " 'n': 35,\n",
       " 'tp': 126,\n",
       " 'tn': 19,\n",
       " 'fp': 16,\n",
       " 'fn': 10,\n",
       " 'recall': 0.9265,\n",
       " 'precision': 0.8873,\n",
       " 'min_precision': 0.7953,\n",
       " 'specificity': 0.5429,\n",
       " 'f_score': 0.9065}"
      ]
     },
     "metadata": {},
     "output_type": "display_data"
    },
    {
     "name": "stdout",
     "output_type": "stream",
     "text": [
      "\n"
     ]
    },
    {
     "data": {
      "text/plain": [
       "{'p': 136,\n",
       " 'n': 35,\n",
       " 'tp': 136,\n",
       " 'tn': 0,\n",
       " 'fp': 35,\n",
       " 'fn': 0,\n",
       " 'recall': 1.0,\n",
       " 'precision': 0.7953,\n",
       " 'min_precision': 0.7953,\n",
       " 'specificity': 0.0,\n",
       " 'f_score': 0.886}"
      ]
     },
     "metadata": {},
     "output_type": "display_data"
    }
   ],
   "source": [
    "true_col = 'mental_health'\n",
    "pred_col = 'pred_mh'\n",
    "\n",
    "data = df[[true_col, pred_col]].dropna(axis=0)\n",
    "data = data.loc[data[true_col].isin([0, 1])]\n",
    "\n",
    "y_true = list(data[true_col].values)\n",
    "y_pred = list(data[pred_col].values)\n",
    "y_true = [int(y) for y in y_true]\n",
    "y_pred = [int(y) for y in y_pred]\n",
    "\n",
    "# Original performance\n",
    "performance_dict = binary_performance(y_true=y_true, y_pred=y_pred)\n",
    "display(performance_dict)\n",
    "# Performance if we set all prediction to 1 \n",
    "print()\n",
    "performance_dict_1 = binary_performance(y_true=y_true, y_pred=np.ones(len(y_pred)))\n",
    "display(performance_dict_1)"
   ]
  },
  {
   "cell_type": "code",
   "execution_count": 4,
   "id": "6e9964d0-6946-49cd-bba8-876817bda1cf",
   "metadata": {},
   "outputs": [
    {
     "data": {
      "text/plain": [
       "{'p': 136,\n",
       " 'n': 35,\n",
       " 'tp': 126,\n",
       " 'tn': 19,\n",
       " 'fp': 16,\n",
       " 'fn': 10,\n",
       " 'recall': 0.9265,\n",
       " 'precision': 0.8873,\n",
       " 'min_precision': 0.7953,\n",
       " 'specificity': 0.5429,\n",
       " 'f_score': 0.9065}"
      ]
     },
     "metadata": {},
     "output_type": "display_data"
    }
   ],
   "source": [
    "display(Performance(data=df.copy()).binary_performance(true_col='mental_health', \n",
    "                                                       pred_col='pred_mh'))"
   ]
  },
  {
   "cell_type": "markdown",
   "id": "9118ba1f-5322-49bc-b34a-9ae575d6b951",
   "metadata": {},
   "source": [
    "### Evaluate false positives ###"
   ]
  },
  {
   "cell_type": "code",
   "execution_count": 5,
   "id": "c726c573-ec03-43dd-b32a-f1db6bc9de6a",
   "metadata": {},
   "outputs": [
    {
     "name": "stdout",
     "output_type": "stream",
     "text": [
      "[12, 17, 19, 21, 23, 26, 28, 50, 62, 81, 83, 86, 93, 98, 150, 169, 170]\n"
     ]
    },
    {
     "data": {
      "text/html": [
       "<div>\n",
       "<style scoped>\n",
       "    .dataframe tbody tr th:only-of-type {\n",
       "        vertical-align: middle;\n",
       "    }\n",
       "\n",
       "    .dataframe tbody tr th {\n",
       "        vertical-align: top;\n",
       "    }\n",
       "\n",
       "    .dataframe thead th {\n",
       "        text-align: right;\n",
       "    }\n",
       "</style>\n",
       "<table border=\"1\" class=\"dataframe\">\n",
       "  <thead>\n",
       "    <tr style=\"text-align: right;\">\n",
       "      <th></th>\n",
       "      <th>id</th>\n",
       "      <th>name</th>\n",
       "      <th>description</th>\n",
       "      <th>mental_health</th>\n",
       "      <th>predict_mh</th>\n",
       "      <th>predict_mh_score</th>\n",
       "    </tr>\n",
       "  </thead>\n",
       "  <tbody>\n",
       "    <tr>\n",
       "      <th>12</th>\n",
       "      <td>114978-88</td>\n",
       "      <td>Ascellus</td>\n",
       "      <td>Operator of trauma prevention and treatment cl...</td>\n",
       "      <td>0</td>\n",
       "      <td>True</td>\n",
       "      <td>0.9</td>\n",
       "    </tr>\n",
       "  </tbody>\n",
       "</table>\n",
       "</div>"
      ],
      "text/plain": [
       "           id      name                                        description  \\\n",
       "12  114978-88  Ascellus  Operator of trauma prevention and treatment cl...   \n",
       "\n",
       "    mental_health  predict_mh  predict_mh_score  \n",
       "12              0        True               0.9  "
      ]
     },
     "metadata": {},
     "output_type": "display_data"
    },
    {
     "name": "stdout",
     "output_type": "stream",
     "text": [
      "Ascellus\n",
      "Operator of trauma prevention and treatment clinics intended to treat employees suffering from chronic pain. The company's clinics deliver customized treatment options, reduce compensation claims costs, and empower injured workers to return to work sooner, enabling doctors and practitioners to restore their physical and emotional well-being.\n",
      "\n"
     ]
    },
    {
     "data": {
      "text/html": [
       "<div>\n",
       "<style scoped>\n",
       "    .dataframe tbody tr th:only-of-type {\n",
       "        vertical-align: middle;\n",
       "    }\n",
       "\n",
       "    .dataframe tbody tr th {\n",
       "        vertical-align: top;\n",
       "    }\n",
       "\n",
       "    .dataframe thead th {\n",
       "        text-align: right;\n",
       "    }\n",
       "</style>\n",
       "<table border=\"1\" class=\"dataframe\">\n",
       "  <thead>\n",
       "    <tr style=\"text-align: right;\">\n",
       "      <th></th>\n",
       "      <th>id</th>\n",
       "      <th>name</th>\n",
       "      <th>description</th>\n",
       "      <th>mental_health</th>\n",
       "      <th>predict_mh</th>\n",
       "      <th>predict_mh_score</th>\n",
       "    </tr>\n",
       "  </thead>\n",
       "  <tbody>\n",
       "    <tr>\n",
       "      <th>17</th>\n",
       "      <td>124869-43</td>\n",
       "      <td>Holobiome</td>\n",
       "      <td>Operator of a biotechnology company intended t...</td>\n",
       "      <td>0</td>\n",
       "      <td>True</td>\n",
       "      <td>0.85</td>\n",
       "    </tr>\n",
       "  </tbody>\n",
       "</table>\n",
       "</div>"
      ],
      "text/plain": [
       "           id       name                                        description  \\\n",
       "17  124869-43  Holobiome  Operator of a biotechnology company intended t...   \n",
       "\n",
       "    mental_health  predict_mh  predict_mh_score  \n",
       "17              0        True              0.85  "
      ]
     },
     "metadata": {},
     "output_type": "display_data"
    },
    {
     "name": "stdout",
     "output_type": "stream",
     "text": [
      "Holobiome\n",
      "Operator of a biotechnology company intended to solve the complexities of the human gut microbiome. The company offers mental health therapies that are driven by mapping and manipulating the gut-brain axis via next-generation probiotics through microbiome interventions, enabling healthcare providers to treat diseases related to the nervous system.\n",
      "\n"
     ]
    },
    {
     "data": {
      "text/html": [
       "<div>\n",
       "<style scoped>\n",
       "    .dataframe tbody tr th:only-of-type {\n",
       "        vertical-align: middle;\n",
       "    }\n",
       "\n",
       "    .dataframe tbody tr th {\n",
       "        vertical-align: top;\n",
       "    }\n",
       "\n",
       "    .dataframe thead th {\n",
       "        text-align: right;\n",
       "    }\n",
       "</style>\n",
       "<table border=\"1\" class=\"dataframe\">\n",
       "  <thead>\n",
       "    <tr style=\"text-align: right;\">\n",
       "      <th></th>\n",
       "      <th>id</th>\n",
       "      <th>name</th>\n",
       "      <th>description</th>\n",
       "      <th>mental_health</th>\n",
       "      <th>predict_mh</th>\n",
       "      <th>predict_mh_score</th>\n",
       "    </tr>\n",
       "  </thead>\n",
       "  <tbody>\n",
       "    <tr>\n",
       "      <th>19</th>\n",
       "      <td>127477-00</td>\n",
       "      <td>Curry Health District</td>\n",
       "      <td>Operator of a healthcare network in Southern O...</td>\n",
       "      <td>0</td>\n",
       "      <td>True</td>\n",
       "      <td>0.85</td>\n",
       "    </tr>\n",
       "  </tbody>\n",
       "</table>\n",
       "</div>"
      ],
      "text/plain": [
       "           id                   name  \\\n",
       "19  127477-00  Curry Health District   \n",
       "\n",
       "                                          description  mental_health  \\\n",
       "19  Operator of a healthcare network in Southern O...              0   \n",
       "\n",
       "    predict_mh  predict_mh_score  \n",
       "19        True              0.85  "
      ]
     },
     "metadata": {},
     "output_type": "display_data"
    },
    {
     "name": "stdout",
     "output_type": "stream",
     "text": [
      "Curry Health District\n",
      "Operator of a healthcare network in Southern Oregon, consisting of a hospital and multiple medical clinics. The entity offers emergency care, surgery, and other medical services, and provides a patient portal for easy access to medical records and billing information. Governed by a board of directors.\n",
      "\n"
     ]
    },
    {
     "data": {
      "text/html": [
       "<div>\n",
       "<style scoped>\n",
       "    .dataframe tbody tr th:only-of-type {\n",
       "        vertical-align: middle;\n",
       "    }\n",
       "\n",
       "    .dataframe tbody tr th {\n",
       "        vertical-align: top;\n",
       "    }\n",
       "\n",
       "    .dataframe thead th {\n",
       "        text-align: right;\n",
       "    }\n",
       "</style>\n",
       "<table border=\"1\" class=\"dataframe\">\n",
       "  <thead>\n",
       "    <tr style=\"text-align: right;\">\n",
       "      <th></th>\n",
       "      <th>id</th>\n",
       "      <th>name</th>\n",
       "      <th>description</th>\n",
       "      <th>mental_health</th>\n",
       "      <th>predict_mh</th>\n",
       "      <th>predict_mh_score</th>\n",
       "    </tr>\n",
       "  </thead>\n",
       "  <tbody>\n",
       "    <tr>\n",
       "      <th>21</th>\n",
       "      <td>129513-07</td>\n",
       "      <td>Coastal Clinical and Management Services</td>\n",
       "      <td>Provider of healthcare staffing and management...</td>\n",
       "      <td>0</td>\n",
       "      <td>True</td>\n",
       "      <td>0.95</td>\n",
       "    </tr>\n",
       "  </tbody>\n",
       "</table>\n",
       "</div>"
      ],
      "text/plain": [
       "           id                                      name  \\\n",
       "21  129513-07  Coastal Clinical and Management Services   \n",
       "\n",
       "                                          description  mental_health  \\\n",
       "21  Provider of healthcare staffing and management...              0   \n",
       "\n",
       "    predict_mh  predict_mh_score  \n",
       "21        True              0.95  "
      ]
     },
     "metadata": {},
     "output_type": "display_data"
    },
    {
     "name": "stdout",
     "output_type": "stream",
     "text": [
      "Coastal Clinical and Management Services\n",
      "Provider of healthcare staffing and management services intends to serve military and federal facilities across the country. The company employs physicians, registered nurses, pharmacists, nurse practitioners physician assistants, medical record reviewers, technicians and technologists, medical assistants, dental and lab personnel, counseling and behavioral health personnel, and pharmacy staff\n",
      "\n"
     ]
    },
    {
     "data": {
      "text/html": [
       "<div>\n",
       "<style scoped>\n",
       "    .dataframe tbody tr th:only-of-type {\n",
       "        vertical-align: middle;\n",
       "    }\n",
       "\n",
       "    .dataframe tbody tr th {\n",
       "        vertical-align: top;\n",
       "    }\n",
       "\n",
       "    .dataframe thead th {\n",
       "        text-align: right;\n",
       "    }\n",
       "</style>\n",
       "<table border=\"1\" class=\"dataframe\">\n",
       "  <thead>\n",
       "    <tr style=\"text-align: right;\">\n",
       "      <th></th>\n",
       "      <th>id</th>\n",
       "      <th>name</th>\n",
       "      <th>description</th>\n",
       "      <th>mental_health</th>\n",
       "      <th>predict_mh</th>\n",
       "      <th>predict_mh_score</th>\n",
       "    </tr>\n",
       "  </thead>\n",
       "  <tbody>\n",
       "    <tr>\n",
       "      <th>23</th>\n",
       "      <td>130635-73</td>\n",
       "      <td>Carisk Partners</td>\n",
       "      <td>Operator of a risk transfer and care coordinat...</td>\n",
       "      <td>0</td>\n",
       "      <td>True</td>\n",
       "      <td>0.85</td>\n",
       "    </tr>\n",
       "  </tbody>\n",
       "</table>\n",
       "</div>"
      ],
      "text/plain": [
       "           id             name  \\\n",
       "23  130635-73  Carisk Partners   \n",
       "\n",
       "                                          description  mental_health  \\\n",
       "23  Operator of a risk transfer and care coordinat...              0   \n",
       "\n",
       "    predict_mh  predict_mh_score  \n",
       "23        True              0.85  "
      ]
     },
     "metadata": {},
     "output_type": "display_data"
    },
    {
     "name": "stdout",
     "output_type": "stream",
     "text": [
      "Carisk Partners\n",
      "Operator of a risk transfer and care coordination company intended to focus on the workers' compensation market. The company's offerings include risk-transfer and care coordination of delayed recovery and complex, catastrophic cases by leveraging its biopsychosocial methods, extensive networks of quality providers and proprietary technologies, enabling clients to get access to end-to-end remedies to improve outcomes and reduce the long-term cost of care for their clients.\n",
      "\n"
     ]
    },
    {
     "data": {
      "text/html": [
       "<div>\n",
       "<style scoped>\n",
       "    .dataframe tbody tr th:only-of-type {\n",
       "        vertical-align: middle;\n",
       "    }\n",
       "\n",
       "    .dataframe tbody tr th {\n",
       "        vertical-align: top;\n",
       "    }\n",
       "\n",
       "    .dataframe thead th {\n",
       "        text-align: right;\n",
       "    }\n",
       "</style>\n",
       "<table border=\"1\" class=\"dataframe\">\n",
       "  <thead>\n",
       "    <tr style=\"text-align: right;\">\n",
       "      <th></th>\n",
       "      <th>id</th>\n",
       "      <th>name</th>\n",
       "      <th>description</th>\n",
       "      <th>mental_health</th>\n",
       "      <th>predict_mh</th>\n",
       "      <th>predict_mh_score</th>\n",
       "    </tr>\n",
       "  </thead>\n",
       "  <tbody>\n",
       "    <tr>\n",
       "      <th>26</th>\n",
       "      <td>135432-64</td>\n",
       "      <td>Chicago House And Social Service Agency</td>\n",
       "      <td>Non-profit organization offering housing, heal...</td>\n",
       "      <td>0</td>\n",
       "      <td>True</td>\n",
       "      <td>0.85</td>\n",
       "    </tr>\n",
       "  </tbody>\n",
       "</table>\n",
       "</div>"
      ],
      "text/plain": [
       "           id                                     name  \\\n",
       "26  135432-64  Chicago House And Social Service Agency   \n",
       "\n",
       "                                          description  mental_health  \\\n",
       "26  Non-profit organization offering housing, heal...              0   \n",
       "\n",
       "    predict_mh  predict_mh_score  \n",
       "26        True              0.85  "
      ]
     },
     "metadata": {},
     "output_type": "display_data"
    },
    {
     "name": "stdout",
     "output_type": "stream",
     "text": [
      "Chicago House And Social Service Agency\n",
      "Non-profit organization offering housing, health, and employment support to those impacted by HIV/AIDS and the LGBTQ+ community. Services include TransLife Care, HIV testing, case management, and free rapid screenings for HIV, syphilis, and Hepatitis-C. The agency also provides essential health services to vulnerable individuals.\n",
      "\n"
     ]
    },
    {
     "data": {
      "text/html": [
       "<div>\n",
       "<style scoped>\n",
       "    .dataframe tbody tr th:only-of-type {\n",
       "        vertical-align: middle;\n",
       "    }\n",
       "\n",
       "    .dataframe tbody tr th {\n",
       "        vertical-align: top;\n",
       "    }\n",
       "\n",
       "    .dataframe thead th {\n",
       "        text-align: right;\n",
       "    }\n",
       "</style>\n",
       "<table border=\"1\" class=\"dataframe\">\n",
       "  <thead>\n",
       "    <tr style=\"text-align: right;\">\n",
       "      <th></th>\n",
       "      <th>id</th>\n",
       "      <th>name</th>\n",
       "      <th>description</th>\n",
       "      <th>mental_health</th>\n",
       "      <th>predict_mh</th>\n",
       "      <th>predict_mh_score</th>\n",
       "    </tr>\n",
       "  </thead>\n",
       "  <tbody>\n",
       "    <tr>\n",
       "      <th>28</th>\n",
       "      <td>144253-45</td>\n",
       "      <td>Bon Secours Baltimore Hospital</td>\n",
       "      <td>Operator of a full-service hospital in Baltimo...</td>\n",
       "      <td>0</td>\n",
       "      <td>True</td>\n",
       "      <td>0.9</td>\n",
       "    </tr>\n",
       "  </tbody>\n",
       "</table>\n",
       "</div>"
      ],
      "text/plain": [
       "           id                            name  \\\n",
       "28  144253-45  Bon Secours Baltimore Hospital   \n",
       "\n",
       "                                          description  mental_health  \\\n",
       "28  Operator of a full-service hospital in Baltimo...              0   \n",
       "\n",
       "    predict_mh  predict_mh_score  \n",
       "28        True               0.9  "
      ]
     },
     "metadata": {},
     "output_type": "display_data"
    },
    {
     "name": "stdout",
     "output_type": "stream",
     "text": [
      "Bon Secours Baltimore Hospital\n",
      "Operator of a full-service hospital in Baltimore, Maryland. The company provides primary and emergency care, as well as a host of other services, providing patients with a comprehensive and enhanced plan for all levels of health care services\n",
      "\n"
     ]
    },
    {
     "data": {
      "text/html": [
       "<div>\n",
       "<style scoped>\n",
       "    .dataframe tbody tr th:only-of-type {\n",
       "        vertical-align: middle;\n",
       "    }\n",
       "\n",
       "    .dataframe tbody tr th {\n",
       "        vertical-align: top;\n",
       "    }\n",
       "\n",
       "    .dataframe thead th {\n",
       "        text-align: right;\n",
       "    }\n",
       "</style>\n",
       "<table border=\"1\" class=\"dataframe\">\n",
       "  <thead>\n",
       "    <tr style=\"text-align: right;\">\n",
       "      <th></th>\n",
       "      <th>id</th>\n",
       "      <th>name</th>\n",
       "      <th>description</th>\n",
       "      <th>mental_health</th>\n",
       "      <th>predict_mh</th>\n",
       "      <th>predict_mh_score</th>\n",
       "    </tr>\n",
       "  </thead>\n",
       "  <tbody>\n",
       "    <tr>\n",
       "      <th>50</th>\n",
       "      <td>182457-55</td>\n",
       "      <td>Synchronous Health</td>\n",
       "      <td>Developer of an artificial intelligence platfo...</td>\n",
       "      <td>0</td>\n",
       "      <td>True</td>\n",
       "      <td>0.95</td>\n",
       "    </tr>\n",
       "  </tbody>\n",
       "</table>\n",
       "</div>"
      ],
      "text/plain": [
       "           id                name  \\\n",
       "50  182457-55  Synchronous Health   \n",
       "\n",
       "                                          description  mental_health  \\\n",
       "50  Developer of an artificial intelligence platfo...              0   \n",
       "\n",
       "    predict_mh  predict_mh_score  \n",
       "50        True              0.95  "
      ]
     },
     "metadata": {},
     "output_type": "display_data"
    },
    {
     "name": "stdout",
     "output_type": "stream",
     "text": [
      "Synchronous Health\n",
      "Developer of an artificial intelligence platform designed to reinvent behavioral health care. The company platform uses data analysis and predictive analytics tools that bring together unrelated or inconsequential data and data exhaust to provide real-time insights to identify different patterns of individual behaviors, enabling professionals to predict the client's needs as per their requirements.\n",
      "\n"
     ]
    },
    {
     "data": {
      "text/html": [
       "<div>\n",
       "<style scoped>\n",
       "    .dataframe tbody tr th:only-of-type {\n",
       "        vertical-align: middle;\n",
       "    }\n",
       "\n",
       "    .dataframe tbody tr th {\n",
       "        vertical-align: top;\n",
       "    }\n",
       "\n",
       "    .dataframe thead th {\n",
       "        text-align: right;\n",
       "    }\n",
       "</style>\n",
       "<table border=\"1\" class=\"dataframe\">\n",
       "  <thead>\n",
       "    <tr style=\"text-align: right;\">\n",
       "      <th></th>\n",
       "      <th>id</th>\n",
       "      <th>name</th>\n",
       "      <th>description</th>\n",
       "      <th>mental_health</th>\n",
       "      <th>predict_mh</th>\n",
       "      <th>predict_mh_score</th>\n",
       "    </tr>\n",
       "  </thead>\n",
       "  <tbody>\n",
       "    <tr>\n",
       "      <th>62</th>\n",
       "      <td>245887-93</td>\n",
       "      <td>Newbeginningslakecharles</td>\n",
       "      <td>The company primarily operates in the Healthca...</td>\n",
       "      <td>0</td>\n",
       "      <td>True</td>\n",
       "      <td>0.85</td>\n",
       "    </tr>\n",
       "  </tbody>\n",
       "</table>\n",
       "</div>"
      ],
      "text/plain": [
       "           id                      name  \\\n",
       "62  245887-93  Newbeginningslakecharles   \n",
       "\n",
       "                                          description  mental_health  \\\n",
       "62  The company primarily operates in the Healthca...              0   \n",
       "\n",
       "    predict_mh  predict_mh_score  \n",
       "62        True              0.85  "
      ]
     },
     "metadata": {},
     "output_type": "display_data"
    },
    {
     "name": "stdout",
     "output_type": "stream",
     "text": [
      "Newbeginningslakecharles\n",
      "The company primarily operates in the Healthcare Services industry. Newbeginningslakecharles was founded in 2008 and is headquartered in Lake Charles, LA.\n",
      "\n"
     ]
    },
    {
     "data": {
      "text/html": [
       "<div>\n",
       "<style scoped>\n",
       "    .dataframe tbody tr th:only-of-type {\n",
       "        vertical-align: middle;\n",
       "    }\n",
       "\n",
       "    .dataframe tbody tr th {\n",
       "        vertical-align: top;\n",
       "    }\n",
       "\n",
       "    .dataframe thead th {\n",
       "        text-align: right;\n",
       "    }\n",
       "</style>\n",
       "<table border=\"1\" class=\"dataframe\">\n",
       "  <thead>\n",
       "    <tr style=\"text-align: right;\">\n",
       "      <th></th>\n",
       "      <th>id</th>\n",
       "      <th>name</th>\n",
       "      <th>description</th>\n",
       "      <th>mental_health</th>\n",
       "      <th>predict_mh</th>\n",
       "      <th>predict_mh_score</th>\n",
       "    </tr>\n",
       "  </thead>\n",
       "  <tbody>\n",
       "    <tr>\n",
       "      <th>81</th>\n",
       "      <td>310749-31</td>\n",
       "      <td>Alima</td>\n",
       "      <td>Operator of a non-governmental organization in...</td>\n",
       "      <td>0</td>\n",
       "      <td>True</td>\n",
       "      <td>0.95</td>\n",
       "    </tr>\n",
       "  </tbody>\n",
       "</table>\n",
       "</div>"
      ],
      "text/plain": [
       "           id   name                                        description  \\\n",
       "81  310749-31  Alima  Operator of a non-governmental organization in...   \n",
       "\n",
       "    mental_health  predict_mh  predict_mh_score  \n",
       "81              0        True              0.95  "
      ]
     },
     "metadata": {},
     "output_type": "display_data"
    },
    {
     "name": "stdout",
     "output_type": "stream",
     "text": [
      "Alima\n",
      "Operator of a non-governmental organization intended to provide medical care in humanitarian emergency regions. The company specializes in rapid deployment and emergency medical interventions in response to crises such as natural disasters, epidemics, and conflicts and offers primary healthcare, maternal and child services, surgery, nutrition programs, and mental support, enabling vulnerable and underserved populations with clinical care and improving health outcomes.\n",
      "\n"
     ]
    },
    {
     "data": {
      "text/html": [
       "<div>\n",
       "<style scoped>\n",
       "    .dataframe tbody tr th:only-of-type {\n",
       "        vertical-align: middle;\n",
       "    }\n",
       "\n",
       "    .dataframe tbody tr th {\n",
       "        vertical-align: top;\n",
       "    }\n",
       "\n",
       "    .dataframe thead th {\n",
       "        text-align: right;\n",
       "    }\n",
       "</style>\n",
       "<table border=\"1\" class=\"dataframe\">\n",
       "  <thead>\n",
       "    <tr style=\"text-align: right;\">\n",
       "      <th></th>\n",
       "      <th>id</th>\n",
       "      <th>name</th>\n",
       "      <th>description</th>\n",
       "      <th>mental_health</th>\n",
       "      <th>predict_mh</th>\n",
       "      <th>predict_mh_score</th>\n",
       "    </tr>\n",
       "  </thead>\n",
       "  <tbody>\n",
       "    <tr>\n",
       "      <th>83</th>\n",
       "      <td>314933-95</td>\n",
       "      <td>Bradford Recovery Center</td>\n",
       "      <td>Provider of addiction recovery treatment commi...</td>\n",
       "      <td>0</td>\n",
       "      <td>True</td>\n",
       "      <td>0.95</td>\n",
       "    </tr>\n",
       "  </tbody>\n",
       "</table>\n",
       "</div>"
      ],
      "text/plain": [
       "           id                      name  \\\n",
       "83  314933-95  Bradford Recovery Center   \n",
       "\n",
       "                                          description  mental_health  \\\n",
       "83  Provider of addiction recovery treatment commi...              0   \n",
       "\n",
       "    predict_mh  predict_mh_score  \n",
       "83        True              0.95  "
      ]
     },
     "metadata": {},
     "output_type": "display_data"
    },
    {
     "name": "stdout",
     "output_type": "stream",
     "text": [
      "Bradford Recovery Center\n",
      "Provider of addiction recovery treatment committed to relieving patients of their substance addiction. The hospital focuses on offering specialized treatment solutions relating to various addictions including alcohol, opioids, cocaine, heroin, disorders and depression while also imparting residential treatment services to patients.\n",
      "\n"
     ]
    },
    {
     "data": {
      "text/html": [
       "<div>\n",
       "<style scoped>\n",
       "    .dataframe tbody tr th:only-of-type {\n",
       "        vertical-align: middle;\n",
       "    }\n",
       "\n",
       "    .dataframe tbody tr th {\n",
       "        vertical-align: top;\n",
       "    }\n",
       "\n",
       "    .dataframe thead th {\n",
       "        text-align: right;\n",
       "    }\n",
       "</style>\n",
       "<table border=\"1\" class=\"dataframe\">\n",
       "  <thead>\n",
       "    <tr style=\"text-align: right;\">\n",
       "      <th></th>\n",
       "      <th>id</th>\n",
       "      <th>name</th>\n",
       "      <th>description</th>\n",
       "      <th>mental_health</th>\n",
       "      <th>predict_mh</th>\n",
       "      <th>predict_mh_score</th>\n",
       "    </tr>\n",
       "  </thead>\n",
       "  <tbody>\n",
       "    <tr>\n",
       "      <th>86</th>\n",
       "      <td>317430-46</td>\n",
       "      <td>allen county drug and alcohol consortium inc</td>\n",
       "      <td>Advocate for queer youth and substance abuse p...</td>\n",
       "      <td>0</td>\n",
       "      <td>True</td>\n",
       "      <td>0.85</td>\n",
       "    </tr>\n",
       "  </tbody>\n",
       "</table>\n",
       "</div>"
      ],
      "text/plain": [
       "           id                                          name  \\\n",
       "86  317430-46  allen county drug and alcohol consortium inc   \n",
       "\n",
       "                                          description  mental_health  \\\n",
       "86  Advocate for queer youth and substance abuse p...              0   \n",
       "\n",
       "    predict_mh  predict_mh_score  \n",
       "86        True              0.85  "
      ]
     },
     "metadata": {},
     "output_type": "display_data"
    },
    {
     "name": "stdout",
     "output_type": "stream",
     "text": [
      "allen county drug and alcohol consortium inc\n",
      "Advocate for queer youth and substance abuse prevention in Allen County. The organization offers resources, trainings, and support for those affected by substance abuse, as well as programs like Handle with Care and Trauma-Informed Communities, the BRAVE alliance, and Mission: Motherhood. Headquartered in Fort Wayne, Indiana.\n",
      "\n"
     ]
    },
    {
     "data": {
      "text/html": [
       "<div>\n",
       "<style scoped>\n",
       "    .dataframe tbody tr th:only-of-type {\n",
       "        vertical-align: middle;\n",
       "    }\n",
       "\n",
       "    .dataframe tbody tr th {\n",
       "        vertical-align: top;\n",
       "    }\n",
       "\n",
       "    .dataframe thead th {\n",
       "        text-align: right;\n",
       "    }\n",
       "</style>\n",
       "<table border=\"1\" class=\"dataframe\">\n",
       "  <thead>\n",
       "    <tr style=\"text-align: right;\">\n",
       "      <th></th>\n",
       "      <th>id</th>\n",
       "      <th>name</th>\n",
       "      <th>description</th>\n",
       "      <th>mental_health</th>\n",
       "      <th>predict_mh</th>\n",
       "      <th>predict_mh_score</th>\n",
       "    </tr>\n",
       "  </thead>\n",
       "  <tbody>\n",
       "    <tr>\n",
       "      <th>93</th>\n",
       "      <td>370892-71</td>\n",
       "      <td>Central Jersey Behavioral Health Associates</td>\n",
       "      <td>Central Jersey Behavioral Health Associates is...</td>\n",
       "      <td>0</td>\n",
       "      <td>True</td>\n",
       "      <td>0.95</td>\n",
       "    </tr>\n",
       "  </tbody>\n",
       "</table>\n",
       "</div>"
      ],
      "text/plain": [
       "           id                                         name  \\\n",
       "93  370892-71  Central Jersey Behavioral Health Associates   \n",
       "\n",
       "                                          description  mental_health  \\\n",
       "93  Central Jersey Behavioral Health Associates is...              0   \n",
       "\n",
       "    predict_mh  predict_mh_score  \n",
       "93        True              0.95  "
      ]
     },
     "metadata": {},
     "output_type": "display_data"
    },
    {
     "name": "stdout",
     "output_type": "stream",
     "text": [
      "Central Jersey Behavioral Health Associates\n",
      "Central Jersey Behavioral Health Associates is a Toms River, NJ based private company whose line of business is General hospital\n",
      "\n"
     ]
    },
    {
     "data": {
      "text/html": [
       "<div>\n",
       "<style scoped>\n",
       "    .dataframe tbody tr th:only-of-type {\n",
       "        vertical-align: middle;\n",
       "    }\n",
       "\n",
       "    .dataframe tbody tr th {\n",
       "        vertical-align: top;\n",
       "    }\n",
       "\n",
       "    .dataframe thead th {\n",
       "        text-align: right;\n",
       "    }\n",
       "</style>\n",
       "<table border=\"1\" class=\"dataframe\">\n",
       "  <thead>\n",
       "    <tr style=\"text-align: right;\">\n",
       "      <th></th>\n",
       "      <th>id</th>\n",
       "      <th>name</th>\n",
       "      <th>description</th>\n",
       "      <th>mental_health</th>\n",
       "      <th>predict_mh</th>\n",
       "      <th>predict_mh_score</th>\n",
       "    </tr>\n",
       "  </thead>\n",
       "  <tbody>\n",
       "    <tr>\n",
       "      <th>98</th>\n",
       "      <td>401330-26</td>\n",
       "      <td>Colorado Plains Medical Center</td>\n",
       "      <td>Operator of an acute-care hospital based in Fo...</td>\n",
       "      <td>0</td>\n",
       "      <td>True</td>\n",
       "      <td>0.95</td>\n",
       "    </tr>\n",
       "  </tbody>\n",
       "</table>\n",
       "</div>"
      ],
      "text/plain": [
       "           id                            name  \\\n",
       "98  401330-26  Colorado Plains Medical Center   \n",
       "\n",
       "                                          description  mental_health  \\\n",
       "98  Operator of an acute-care hospital based in Fo...              0   \n",
       "\n",
       "    predict_mh  predict_mh_score  \n",
       "98        True              0.95  "
      ]
     },
     "metadata": {},
     "output_type": "display_data"
    },
    {
     "name": "stdout",
     "output_type": "stream",
     "text": [
      "Colorado Plains Medical Center\n",
      "Operator of an acute-care hospital based in Fort Morgan, Colorado. The company's range of diagnostic imaging, rehabilitation and behavioral services includes nuclear medicine, radiography, mammography, general surgery, cardiopulmonary, women care and home health.\n",
      "\n"
     ]
    },
    {
     "data": {
      "text/html": [
       "<div>\n",
       "<style scoped>\n",
       "    .dataframe tbody tr th:only-of-type {\n",
       "        vertical-align: middle;\n",
       "    }\n",
       "\n",
       "    .dataframe tbody tr th {\n",
       "        vertical-align: top;\n",
       "    }\n",
       "\n",
       "    .dataframe thead th {\n",
       "        text-align: right;\n",
       "    }\n",
       "</style>\n",
       "<table border=\"1\" class=\"dataframe\">\n",
       "  <thead>\n",
       "    <tr style=\"text-align: right;\">\n",
       "      <th></th>\n",
       "      <th>id</th>\n",
       "      <th>name</th>\n",
       "      <th>description</th>\n",
       "      <th>mental_health</th>\n",
       "      <th>predict_mh</th>\n",
       "      <th>predict_mh_score</th>\n",
       "    </tr>\n",
       "  </thead>\n",
       "  <tbody>\n",
       "    <tr>\n",
       "      <th>150</th>\n",
       "      <td>62322-22</td>\n",
       "      <td>Genomind</td>\n",
       "      <td>Operator of a mental health biotechnology comp...</td>\n",
       "      <td>0</td>\n",
       "      <td>True</td>\n",
       "      <td>0.95</td>\n",
       "    </tr>\n",
       "  </tbody>\n",
       "</table>\n",
       "</div>"
      ],
      "text/plain": [
       "           id      name                                        description  \\\n",
       "150  62322-22  Genomind  Operator of a mental health biotechnology comp...   \n",
       "\n",
       "     mental_health  predict_mh  predict_mh_score  \n",
       "150              0        True              0.95  "
      ]
     },
     "metadata": {},
     "output_type": "display_data"
    },
    {
     "name": "stdout",
     "output_type": "stream",
     "text": [
      "Genomind\n",
      "Operator of a mental health biotechnology company intended to provide personalized mental healthcare and wellness through genetic testing. The company provides a prescription pharmacogenetic test that equips mental health professionals with the tools they need to identify a personalized treatment plan for their patients and offers comprehensive genetic guidance and accurate state-of-the-art digital tools, enabling clinicians to help diagnose or treat psychiatric illnesses.\n",
      "\n"
     ]
    },
    {
     "data": {
      "text/html": [
       "<div>\n",
       "<style scoped>\n",
       "    .dataframe tbody tr th:only-of-type {\n",
       "        vertical-align: middle;\n",
       "    }\n",
       "\n",
       "    .dataframe tbody tr th {\n",
       "        vertical-align: top;\n",
       "    }\n",
       "\n",
       "    .dataframe thead th {\n",
       "        text-align: right;\n",
       "    }\n",
       "</style>\n",
       "<table border=\"1\" class=\"dataframe\">\n",
       "  <thead>\n",
       "    <tr style=\"text-align: right;\">\n",
       "      <th></th>\n",
       "      <th>id</th>\n",
       "      <th>name</th>\n",
       "      <th>description</th>\n",
       "      <th>mental_health</th>\n",
       "      <th>predict_mh</th>\n",
       "      <th>predict_mh_score</th>\n",
       "    </tr>\n",
       "  </thead>\n",
       "  <tbody>\n",
       "    <tr>\n",
       "      <th>169</th>\n",
       "      <td>97356-34</td>\n",
       "      <td>Referral Solutions Group</td>\n",
       "      <td>Developer of an online platform designed to he...</td>\n",
       "      <td>0</td>\n",
       "      <td>True</td>\n",
       "      <td>0.85</td>\n",
       "    </tr>\n",
       "  </tbody>\n",
       "</table>\n",
       "</div>"
      ],
      "text/plain": [
       "           id                      name  \\\n",
       "169  97356-34  Referral Solutions Group   \n",
       "\n",
       "                                           description  mental_health  \\\n",
       "169  Developer of an online platform designed to he...              0   \n",
       "\n",
       "     predict_mh  predict_mh_score  \n",
       "169        True              0.85  "
      ]
     },
     "metadata": {},
     "output_type": "display_data"
    },
    {
     "name": "stdout",
     "output_type": "stream",
     "text": [
      "Referral Solutions Group\n",
      "Developer of an online platform designed to help substance abuse treatment providers promote their services. The company's platform offers comprehensive online resources for those seeking addiction treatment, providing them with the tools they need to make informed decisions and directly access treatment facilities nationwide within their budget.\n",
      "\n"
     ]
    },
    {
     "data": {
      "text/html": [
       "<div>\n",
       "<style scoped>\n",
       "    .dataframe tbody tr th:only-of-type {\n",
       "        vertical-align: middle;\n",
       "    }\n",
       "\n",
       "    .dataframe tbody tr th {\n",
       "        vertical-align: top;\n",
       "    }\n",
       "\n",
       "    .dataframe thead th {\n",
       "        text-align: right;\n",
       "    }\n",
       "</style>\n",
       "<table border=\"1\" class=\"dataframe\">\n",
       "  <thead>\n",
       "    <tr style=\"text-align: right;\">\n",
       "      <th></th>\n",
       "      <th>id</th>\n",
       "      <th>name</th>\n",
       "      <th>description</th>\n",
       "      <th>mental_health</th>\n",
       "      <th>predict_mh</th>\n",
       "      <th>predict_mh_score</th>\n",
       "    </tr>\n",
       "  </thead>\n",
       "  <tbody>\n",
       "    <tr>\n",
       "      <th>170</th>\n",
       "      <td>97840-81</td>\n",
       "      <td>Vheda Health</td>\n",
       "      <td>Developer of an integrated healthcare platform...</td>\n",
       "      <td>0</td>\n",
       "      <td>True</td>\n",
       "      <td>0.85</td>\n",
       "    </tr>\n",
       "  </tbody>\n",
       "</table>\n",
       "</div>"
      ],
      "text/plain": [
       "           id          name  \\\n",
       "170  97840-81  Vheda Health   \n",
       "\n",
       "                                           description  mental_health  \\\n",
       "170  Developer of an integrated healthcare platform...              0   \n",
       "\n",
       "     predict_mh  predict_mh_score  \n",
       "170        True              0.85  "
      ]
     },
     "metadata": {},
     "output_type": "display_data"
    },
    {
     "name": "stdout",
     "output_type": "stream",
     "text": [
      "Vheda Health\n",
      "Developer of an integrated healthcare platform designed to manage risk related to chronic conditions through remote monitoring and live outreach. The company's platform uses smartphone-based intensive intervention that combines life and video visits with a care team, remote monitoring from biometrics, and behavior change modification, enabling patients to fight chronic conditions to live their best lives.\n",
      "\n"
     ]
    }
   ],
   "source": [
    "fp_idx = [idx for idx in range(len(y_true)) if (y_true[idx] == 0) & (y_pred[idx] == 1)]\n",
    "fp_id = df_var.loc[df_var.index.isin(fp_idx), 'id'].values\n",
    "\n",
    "print(fp_idx)\n",
    "\n",
    "for company_id in fp_id:\n",
    "    df_company = df_var.loc[df_var['id'] == company_id]\n",
    "    display(df_company)\n",
    "    print(df_company['name'].values[0])\n",
    "    print(df_company['description'].values[0])\n",
    "    print()"
   ]
  }
 ],
 "metadata": {
  "kernelspec": {
   "display_name": "Python 3 (ipykernel)",
   "language": "python",
   "name": "python3"
  },
  "language_info": {
   "codemirror_mode": {
    "name": "ipython",
    "version": 3
   },
   "file_extension": ".py",
   "mimetype": "text/x-python",
   "name": "python",
   "nbconvert_exporter": "python",
   "pygments_lexer": "ipython3",
   "version": "3.12.10"
  }
 },
 "nbformat": 4,
 "nbformat_minor": 5
}
