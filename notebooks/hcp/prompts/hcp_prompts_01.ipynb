{
 "cells": [
  {
   "cell_type": "markdown",
   "id": "94c034dd-6222-4e73-bd30-6693f4fa62b9",
   "metadata": {},
   "source": [
    "### Prompt Engineering 01 MENTAL HEALTH ###"
   ]
  },
  {
   "cell_type": "code",
   "execution_count": 28,
   "id": "d855ae84-3c04-4677-a51d-63a91a96f37a",
   "metadata": {},
   "outputs": [
    {
     "name": "stdout",
     "output_type": "stream",
     "text": [
      "The autoreload extension is already loaded. To reload it, use:\n",
      "  %reload_ext autoreload\n"
     ]
    }
   ],
   "source": [
    "import os\n",
    "import pandas as pd\n",
    "import numpy as np\n",
    "\n",
    "# Import this module with autoreload\n",
    "%load_ext autoreload\n",
    "%autoreload 2\n",
    "import llmt\n",
    "from llmt.llmtools import Prompt, MentalHealth\n",
    "from llmt.llmtools import process_prompt\n",
    "from llmt.openai import OpenAI, create_messages\n",
    "from llmt.performance import Performance"
   ]
  },
  {
   "cell_type": "code",
   "execution_count": 2,
   "id": "958b1d27-85e6-465b-9d58-c7d5e79d93e1",
   "metadata": {},
   "outputs": [
    {
     "data": {
      "text/html": [
       "<div>\n",
       "<style scoped>\n",
       "    .dataframe tbody tr th:only-of-type {\n",
       "        vertical-align: middle;\n",
       "    }\n",
       "\n",
       "    .dataframe tbody tr th {\n",
       "        vertical-align: top;\n",
       "    }\n",
       "\n",
       "    .dataframe thead th {\n",
       "        text-align: right;\n",
       "    }\n",
       "</style>\n",
       "<table border=\"1\" class=\"dataframe\">\n",
       "  <thead>\n",
       "    <tr style=\"text-align: right;\">\n",
       "      <th></th>\n",
       "      <th>id</th>\n",
       "      <th>name</th>\n",
       "      <th>description</th>\n",
       "      <th>mental_health</th>\n",
       "      <th>inpatient</th>\n",
       "      <th>outpatient</th>\n",
       "      <th>dset</th>\n",
       "    </tr>\n",
       "  </thead>\n",
       "  <tbody>\n",
       "    <tr>\n",
       "      <th>0</th>\n",
       "      <td>431643-07</td>\n",
       "      <td>Actriv</td>\n",
       "      <td>Provider of healthcare staffing services based...</td>\n",
       "      <td>2</td>\n",
       "      <td>0</td>\n",
       "      <td>0</td>\n",
       "      <td>train</td>\n",
       "    </tr>\n",
       "    <tr>\n",
       "      <th>1</th>\n",
       "      <td>310749-31</td>\n",
       "      <td>Alima</td>\n",
       "      <td>Operator of a non-governmental organization in...</td>\n",
       "      <td>0</td>\n",
       "      <td>0</td>\n",
       "      <td>0</td>\n",
       "      <td>train</td>\n",
       "    </tr>\n",
       "    <tr>\n",
       "      <th>2</th>\n",
       "      <td>162054-28</td>\n",
       "      <td>Apothecare</td>\n",
       "      <td>Provider of pharmacy services intended to prov...</td>\n",
       "      <td>0</td>\n",
       "      <td>0</td>\n",
       "      <td>0</td>\n",
       "      <td>train</td>\n",
       "    </tr>\n",
       "    <tr>\n",
       "      <th>3</th>\n",
       "      <td>597285-28</td>\n",
       "      <td>April Health (Clinics/Outpatient Services)</td>\n",
       "      <td>Provider of mental health services intended to...</td>\n",
       "      <td>1</td>\n",
       "      <td>0</td>\n",
       "      <td>1</td>\n",
       "      <td>train</td>\n",
       "    </tr>\n",
       "    <tr>\n",
       "      <th>4</th>\n",
       "      <td>373978-90</td>\n",
       "      <td>Arise Child and Family Service</td>\n",
       "      <td>Operator of independent living centers caterin...</td>\n",
       "      <td>2</td>\n",
       "      <td>0</td>\n",
       "      <td>0</td>\n",
       "      <td>train</td>\n",
       "    </tr>\n",
       "  </tbody>\n",
       "</table>\n",
       "</div>"
      ],
      "text/plain": [
       "          id                                        name  \\\n",
       "0  431643-07                                      Actriv   \n",
       "1  310749-31                                       Alima   \n",
       "2  162054-28                                  Apothecare   \n",
       "3  597285-28  April Health (Clinics/Outpatient Services)   \n",
       "4  373978-90              Arise Child and Family Service   \n",
       "\n",
       "                                         description  mental_health  \\\n",
       "0  Provider of healthcare staffing services based...              2   \n",
       "1  Operator of a non-governmental organization in...              0   \n",
       "2  Provider of pharmacy services intended to prov...              0   \n",
       "3  Provider of mental health services intended to...              1   \n",
       "4  Operator of independent living centers caterin...              2   \n",
       "\n",
       "   inpatient  outpatient   dset  \n",
       "0          0           0  train  \n",
       "1          0           0  train  \n",
       "2          0           0  train  \n",
       "3          0           1  train  \n",
       "4          0           0  train  "
      ]
     },
     "metadata": {},
     "output_type": "display_data"
    },
    {
     "name": "stdout",
     "output_type": "stream",
     "text": [
      "(187, 7)\n"
     ]
    }
   ],
   "source": [
    "# Directories and files\n",
    "data_dir = os.path.join(os.environ.get('HOME'), 'home_data', 'hcp')\n",
    "test_file_name = 'hcp-alldata-250413.parquet'\n",
    "test_file = os.path.join(data_dir, test_file_name)\n",
    "df = pd.read_parquet(test_file)\n",
    "# Filter the labeled data\n",
    "df = df.loc[df['dset'] == 'train'].\\\n",
    "                astype({'mental_health': int,\n",
    "                        'inpatient': int,\n",
    "                        'outpatient': int})\n",
    "\n",
    "\n",
    "display(df.head())\n",
    "print(df.shape)"
   ]
  },
  {
   "cell_type": "markdown",
   "id": "830762b6-228e-4616-b5d8-dfc897e74b4e",
   "metadata": {},
   "source": [
    "### Define the prompts and the response format ###"
   ]
  },
  {
   "cell_type": "code",
   "execution_count": 10,
   "id": "a3395a45-96a6-4452-b864-d7a1f37e17d5",
   "metadata": {},
   "outputs": [],
   "source": [
    "mental_health_business_definition = Prompt().load(prompt_name='mental_health_definition')\n",
    "system_prompt = Prompt().load(prompt_name='mental_health_system_01')\n",
    "\n",
    "system_prompt += f' according to the following definition: {mental_health_business_definition}'\n",
    "\n",
    "# For the user prompt, we want to include the name of the business and the description\n",
    "def create_user_prompt(name: str, description: str):\n",
    "    user_prompt = f\"\"\"\n",
    "        The business or provider {name} is described as: {description} \n",
    "        Does the business provide mental or behavioral health care services?\n",
    "        \"\"\"\n",
    "    return process_prompt(user_prompt)"
   ]
  },
  {
   "cell_type": "code",
   "execution_count": 21,
   "id": "10622b5a-c797-4c6d-a41f-11a976c82e60",
   "metadata": {},
   "outputs": [
    {
     "data": {
      "text/plain": [
       "id                                                       162054-28\n",
       "name                                                    Apothecare\n",
       "description      Provider of pharmacy services intended to prov...\n",
       "mental_health                                                    0\n",
       "inpatient                                                        0\n",
       "outpatient                                                       0\n",
       "dset                                                         train\n",
       "Name: 2, dtype: object"
      ]
     },
     "metadata": {},
     "output_type": "display_data"
    },
    {
     "name": "stdout",
     "output_type": "stream",
     "text": [
      "{'role': 'system', 'content': 'You are an advanced AI system designed to assist a healthcare policy researcher \\nin determining whether a business qualifies as a medical facility, \\nsuch as a hospital or clinic, that provides mental or behavioral \\nhealthcare services for human patients according to the following definition: A healthcare business that provides mental and behavioral health care services to \\nhuman patients is typically a specialized facility or organization, \\nsuch as a mental health clinic, psychiatric hospital, or counseling center, \\nthat offers assessments, diagnoses, and evidence-based treatments for various \\nmental health and behavioral disorders. \\nThese services may include individual and group therapy, \\npsychiatric evaluations, medication management, and crisis intervention, \\ndelivered by a team of professionals such as psychiatrists, psychologists, \\nlicensed counselors, and social workers. \\nThe aim of such a business is to support patients in managing their conditions, \\nimproving their mental health and overall well-being, and fostering resilience and recovery \\nin a compassionate and confidential environment.'}\n",
      "\n",
      "{'role': 'user', 'content': \"The business or provider Apothecare is described as: Provider of pharmacy services intended to provide care facilities for patients with intellectual and developmental disabilities assisted living communities and hospices. The company's dispensing technologies support automated cycle filling and compliance packaging solutions, it acts as a fulfillment pharmacy for telehealth providers, and it offers daily delivery and on-site training for clients' staff, enabling individuals with intellectual and developmental disabilities to receive care while taking care of complex medication requirements. \\nDoes the business provide mental or behavioral health care services?\"}\n"
     ]
    }
   ],
   "source": [
    "# Create an example for messages to be sent\n",
    "idx = 2\n",
    "df_idx = df.iloc[idx]\n",
    "display(df_idx)\n",
    "user_prompt = create_user_prompt(name=df_idx['name'], description=df_idx['description'])\n",
    "messages = create_messages(system_prompt=system_prompt, user_prompt=user_prompt)\n",
    "print(*messages, sep='\\n\\n')"
   ]
  },
  {
   "cell_type": "markdown",
   "id": "803ea460-1d73-40d2-b328-df733c07fc54",
   "metadata": {},
   "source": [
    "### Send messages to the model ###"
   ]
  },
  {
   "cell_type": "code",
   "execution_count": 22,
   "id": "4cd3e51a-d94e-4c8f-8234-375ee7cc015d",
   "metadata": {},
   "outputs": [],
   "source": [
    "model = 'gpt-4o'\n",
    "temperature = 0\n",
    "response_format = MentalHealth\n",
    "messages = create_messages(system_prompt=system_prompt, user_prompt=user_prompt)\n",
    "client = OpenAI().create_client()\n",
    "output = OpenAI().send_messages(messages=messages,\n",
    "                                model=model,\n",
    "                                temperature=temperature,\n",
    "                                response_format=response_format,\n",
    "                                client=client)\n",
    "# key = 'pred_mh'\n",
    "# output.update({key: 1 if output.get(key) == True else 0})"
   ]
  },
  {
   "cell_type": "code",
   "execution_count": 23,
   "id": "6bc6a069-d112-41db-a972-976d9c3c15e3",
   "metadata": {},
   "outputs": [
    {
     "name": "stdout",
     "output_type": "stream",
     "text": [
      "{'pred_mh': False, 'pred_mh_score': 0.2, 'refusal': None}\n"
     ]
    }
   ],
   "source": [
    "print(output)"
   ]
  },
  {
   "cell_type": "markdown",
   "id": "50f584f6-c0a9-4764-8b0e-f6426324e0b1",
   "metadata": {},
   "source": [
    "#### Process predictions for all samples ###"
   ]
  },
  {
   "cell_type": "code",
   "execution_count": 24,
   "id": "df96efa9-c92c-4a01-81af-251202183fc8",
   "metadata": {},
   "outputs": [],
   "source": [
    "model = 'gpt-4o'\n",
    "temperature = 0\n",
    "response_format = MentalHealth\n",
    "client = OpenAI().create_client()"
   ]
  },
  {
   "cell_type": "code",
   "execution_count": 25,
   "id": "e97af20b-b377-4370-877d-ff9ab694a346",
   "metadata": {},
   "outputs": [
    {
     "name": "stdout",
     "output_type": "stream",
     "text": [
      "Sending description 20 / 187 to the model\n",
      "Sending description 40 / 187 to the model\n",
      "Sending description 60 / 187 to the model\n",
      "Sending description 80 / 187 to the model\n",
      "Sending description 100 / 187 to the model\n",
      "Sending description 120 / 187 to the model\n",
      "Sending description 140 / 187 to the model\n",
      "Sending description 160 / 187 to the model\n",
      "Sending description 180 / 187 to the model\n"
     ]
    }
   ],
   "source": [
    "company_id_list = sorted(list(df['id'].unique()))\n",
    "results_df_list = []\n",
    "for c, company_id in enumerate(company_id_list):\n",
    "    if (c + 1) % 20 == 0:\n",
    "        print(f'Sending description {c + 1} / {len(company_id_list)} to the model')\n",
    "    df_id = df.loc[df['id'] == company_id]\n",
    "    user_prompt_id = create_user_prompt(name=df_id['name'].values[0], \n",
    "                                        description=df_id['description'].values[0])\n",
    "    messages = create_messages(system_prompt=system_prompt, user_prompt=user_prompt_id)\n",
    "    output = OpenAI().send_messages(messages=messages,\n",
    "                                    model=model,\n",
    "                                    temperature=temperature,\n",
    "                                    response_format=response_format,\n",
    "                                    client=client)\n",
    "    # Replace the boolean with binary outcome prediction\n",
    "    key = 'pred_mh'\n",
    "    output.update({key: 1 if output.get(key) == True else 0})\n",
    "    results_df_list.append(df_id.assign(**output))\n",
    "results_df = pd.concat(results_df_list, axis=0, ignore_index=True)\n",
    "# Save the results\n",
    "results_file_name = 'mh_prompt_01_250418.parquet'\n",
    "results_file = os.path.join(data_dir, results_file_name)\n",
    "results_df.to_parquet(results_file)"
   ]
  },
  {
   "cell_type": "code",
   "execution_count": 26,
   "id": "79418501-27dd-4ca8-a529-c3902eb1a4b9",
   "metadata": {},
   "outputs": [
    {
     "data": {
      "text/html": [
       "<div>\n",
       "<style scoped>\n",
       "    .dataframe tbody tr th:only-of-type {\n",
       "        vertical-align: middle;\n",
       "    }\n",
       "\n",
       "    .dataframe tbody tr th {\n",
       "        vertical-align: top;\n",
       "    }\n",
       "\n",
       "    .dataframe thead th {\n",
       "        text-align: right;\n",
       "    }\n",
       "</style>\n",
       "<table border=\"1\" class=\"dataframe\">\n",
       "  <thead>\n",
       "    <tr style=\"text-align: right;\">\n",
       "      <th></th>\n",
       "      <th>id</th>\n",
       "      <th>name</th>\n",
       "      <th>description</th>\n",
       "      <th>mental_health</th>\n",
       "      <th>inpatient</th>\n",
       "      <th>outpatient</th>\n",
       "      <th>dset</th>\n",
       "      <th>pred_mh</th>\n",
       "      <th>pred_mh_score</th>\n",
       "      <th>refusal</th>\n",
       "    </tr>\n",
       "  </thead>\n",
       "  <tbody>\n",
       "    <tr>\n",
       "      <th>0</th>\n",
       "      <td>100363-69</td>\n",
       "      <td>Chilton Hospital</td>\n",
       "      <td>Operator of inpatient hospital center. The com...</td>\n",
       "      <td>1</td>\n",
       "      <td>1</td>\n",
       "      <td>1</td>\n",
       "      <td>train</td>\n",
       "      <td>1</td>\n",
       "      <td>0.95</td>\n",
       "      <td>None</td>\n",
       "    </tr>\n",
       "    <tr>\n",
       "      <th>1</th>\n",
       "      <td>10127-62</td>\n",
       "      <td>Quest Diagnostics (NYS: DGX)</td>\n",
       "      <td>Quest Diagnostics is a leading independent pro...</td>\n",
       "      <td>1</td>\n",
       "      <td>0</td>\n",
       "      <td>0</td>\n",
       "      <td>train</td>\n",
       "      <td>0</td>\n",
       "      <td>0.20</td>\n",
       "      <td>None</td>\n",
       "    </tr>\n",
       "    <tr>\n",
       "      <th>2</th>\n",
       "      <td>10195-21</td>\n",
       "      <td>IASIS Healthcare</td>\n",
       "      <td>Owner and operator of medium-sized acute care ...</td>\n",
       "      <td>1</td>\n",
       "      <td>1</td>\n",
       "      <td>1</td>\n",
       "      <td>train</td>\n",
       "      <td>1</td>\n",
       "      <td>0.80</td>\n",
       "      <td>None</td>\n",
       "    </tr>\n",
       "    <tr>\n",
       "      <th>3</th>\n",
       "      <td>10468-27</td>\n",
       "      <td>Behavioral Centers of America</td>\n",
       "      <td>Provider of psychiatric healthcare services. T...</td>\n",
       "      <td>1</td>\n",
       "      <td>1</td>\n",
       "      <td>1</td>\n",
       "      <td>train</td>\n",
       "      <td>1</td>\n",
       "      <td>0.99</td>\n",
       "      <td>None</td>\n",
       "    </tr>\n",
       "    <tr>\n",
       "      <th>4</th>\n",
       "      <td>107240-50</td>\n",
       "      <td>Alvarado Parkway Institute</td>\n",
       "      <td>Operator of a psychiatric health care facility...</td>\n",
       "      <td>1</td>\n",
       "      <td>1</td>\n",
       "      <td>1</td>\n",
       "      <td>train</td>\n",
       "      <td>1</td>\n",
       "      <td>0.99</td>\n",
       "      <td>None</td>\n",
       "    </tr>\n",
       "  </tbody>\n",
       "</table>\n",
       "</div>"
      ],
      "text/plain": [
       "          id                           name  \\\n",
       "0  100363-69               Chilton Hospital   \n",
       "1   10127-62   Quest Diagnostics (NYS: DGX)   \n",
       "2   10195-21               IASIS Healthcare   \n",
       "3   10468-27  Behavioral Centers of America   \n",
       "4  107240-50     Alvarado Parkway Institute   \n",
       "\n",
       "                                         description  mental_health  \\\n",
       "0  Operator of inpatient hospital center. The com...              1   \n",
       "1  Quest Diagnostics is a leading independent pro...              1   \n",
       "2  Owner and operator of medium-sized acute care ...              1   \n",
       "3  Provider of psychiatric healthcare services. T...              1   \n",
       "4  Operator of a psychiatric health care facility...              1   \n",
       "\n",
       "   inpatient  outpatient   dset  pred_mh  pred_mh_score refusal  \n",
       "0          1           1  train        1           0.95    None  \n",
       "1          0           0  train        0           0.20    None  \n",
       "2          1           1  train        1           0.80    None  \n",
       "3          1           1  train        1           0.99    None  \n",
       "4          1           1  train        1           0.99    None  "
      ]
     },
     "execution_count": 26,
     "metadata": {},
     "output_type": "execute_result"
    }
   ],
   "source": [
    "results_df.head()"
   ]
  },
  {
   "cell_type": "code",
   "execution_count": 29,
   "id": "4b2cf137-7e30-417a-8e66-e6fb86f2d070",
   "metadata": {},
   "outputs": [
    {
     "data": {
      "text/plain": [
       "{'p': 136,\n",
       " 'n': 35,\n",
       " 'tp': 126,\n",
       " 'tn': 19,\n",
       " 'fp': 16,\n",
       " 'fn': 10,\n",
       " 'recall': 0.9265,\n",
       " 'precision': 0.8873,\n",
       " 'min_precision': 0.7953,\n",
       " 'specificity': 0.5429,\n",
       " 'f_score': 0.9065}"
      ]
     },
     "metadata": {},
     "output_type": "display_data"
    }
   ],
   "source": [
    "display(Performance(data=results_df).\\\n",
    "        binary_performance(true_col='mental_health', pred_col='pred_mh'))"
   ]
  }
 ],
 "metadata": {
  "kernelspec": {
   "display_name": "Python 3 (ipykernel)",
   "language": "python",
   "name": "python3"
  },
  "language_info": {
   "codemirror_mode": {
    "name": "ipython",
    "version": 3
   },
   "file_extension": ".py",
   "mimetype": "text/x-python",
   "name": "python",
   "nbconvert_exporter": "python",
   "pygments_lexer": "ipython3",
   "version": "3.12.10"
  }
 },
 "nbformat": 4,
 "nbformat_minor": 5
}
