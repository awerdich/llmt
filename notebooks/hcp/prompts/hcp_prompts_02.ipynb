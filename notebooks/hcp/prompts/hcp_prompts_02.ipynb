{
 "cells": [
  {
   "cell_type": "markdown",
   "id": "94c034dd-6222-4e73-bd30-6693f4fa62b9",
   "metadata": {},
   "source": [
    "### Prompt Engineering 02 MENTAL HEALTH ###"
   ]
  },
  {
   "cell_type": "code",
   "execution_count": 9,
   "id": "d855ae84-3c04-4677-a51d-63a91a96f37a",
   "metadata": {},
   "outputs": [
    {
     "name": "stdout",
     "output_type": "stream",
     "text": [
      "The autoreload extension is already loaded. To reload it, use:\n",
      "  %reload_ext autoreload\n"
     ]
    }
   ],
   "source": [
    "import os\n",
    "import pandas as pd\n",
    "import numpy as np\n",
    "import logging\n",
    "\n",
    "logger = logging.getLogger(__name__)\n",
    "\n",
    "# Import this module with autoreload\n",
    "%load_ext autoreload\n",
    "%autoreload 2\n",
    "import llmt\n",
    "from llmt.llmtools import Prompt, MentalHealth\n",
    "from llmt.llmtools import process_prompt\n",
    "from llmt.openai import OpenAI, create_messages\n",
    "from llmt.performance import Performance"
   ]
  },
  {
   "cell_type": "code",
   "execution_count": 2,
   "id": "958b1d27-85e6-465b-9d58-c7d5e79d93e1",
   "metadata": {},
   "outputs": [
    {
     "data": {
      "text/html": [
       "<div>\n",
       "<style scoped>\n",
       "    .dataframe tbody tr th:only-of-type {\n",
       "        vertical-align: middle;\n",
       "    }\n",
       "\n",
       "    .dataframe tbody tr th {\n",
       "        vertical-align: top;\n",
       "    }\n",
       "\n",
       "    .dataframe thead th {\n",
       "        text-align: right;\n",
       "    }\n",
       "</style>\n",
       "<table border=\"1\" class=\"dataframe\">\n",
       "  <thead>\n",
       "    <tr style=\"text-align: right;\">\n",
       "      <th></th>\n",
       "      <th>id</th>\n",
       "      <th>name</th>\n",
       "      <th>description</th>\n",
       "      <th>mental_health</th>\n",
       "      <th>inpatient</th>\n",
       "      <th>outpatient</th>\n",
       "      <th>dset</th>\n",
       "    </tr>\n",
       "  </thead>\n",
       "  <tbody>\n",
       "    <tr>\n",
       "      <th>0</th>\n",
       "      <td>431643-07</td>\n",
       "      <td>Actriv</td>\n",
       "      <td>Provider of healthcare staffing services based...</td>\n",
       "      <td>2</td>\n",
       "      <td>0</td>\n",
       "      <td>0</td>\n",
       "      <td>train</td>\n",
       "    </tr>\n",
       "    <tr>\n",
       "      <th>1</th>\n",
       "      <td>310749-31</td>\n",
       "      <td>Alima</td>\n",
       "      <td>Operator of a non-governmental organization in...</td>\n",
       "      <td>0</td>\n",
       "      <td>0</td>\n",
       "      <td>0</td>\n",
       "      <td>train</td>\n",
       "    </tr>\n",
       "    <tr>\n",
       "      <th>2</th>\n",
       "      <td>162054-28</td>\n",
       "      <td>Apothecare</td>\n",
       "      <td>Provider of pharmacy services intended to prov...</td>\n",
       "      <td>0</td>\n",
       "      <td>0</td>\n",
       "      <td>0</td>\n",
       "      <td>train</td>\n",
       "    </tr>\n",
       "    <tr>\n",
       "      <th>3</th>\n",
       "      <td>597285-28</td>\n",
       "      <td>April Health (Clinics/Outpatient Services)</td>\n",
       "      <td>Provider of mental health services intended to...</td>\n",
       "      <td>1</td>\n",
       "      <td>0</td>\n",
       "      <td>1</td>\n",
       "      <td>train</td>\n",
       "    </tr>\n",
       "    <tr>\n",
       "      <th>4</th>\n",
       "      <td>373978-90</td>\n",
       "      <td>Arise Child and Family Service</td>\n",
       "      <td>Operator of independent living centers caterin...</td>\n",
       "      <td>2</td>\n",
       "      <td>0</td>\n",
       "      <td>0</td>\n",
       "      <td>train</td>\n",
       "    </tr>\n",
       "  </tbody>\n",
       "</table>\n",
       "</div>"
      ],
      "text/plain": [
       "          id                                        name  \\\n",
       "0  431643-07                                      Actriv   \n",
       "1  310749-31                                       Alima   \n",
       "2  162054-28                                  Apothecare   \n",
       "3  597285-28  April Health (Clinics/Outpatient Services)   \n",
       "4  373978-90              Arise Child and Family Service   \n",
       "\n",
       "                                         description  mental_health  \\\n",
       "0  Provider of healthcare staffing services based...              2   \n",
       "1  Operator of a non-governmental organization in...              0   \n",
       "2  Provider of pharmacy services intended to prov...              0   \n",
       "3  Provider of mental health services intended to...              1   \n",
       "4  Operator of independent living centers caterin...              2   \n",
       "\n",
       "   inpatient  outpatient   dset  \n",
       "0          0           0  train  \n",
       "1          0           0  train  \n",
       "2          0           0  train  \n",
       "3          0           1  train  \n",
       "4          0           0  train  "
      ]
     },
     "metadata": {},
     "output_type": "display_data"
    },
    {
     "name": "stdout",
     "output_type": "stream",
     "text": [
      "(187, 7)\n"
     ]
    }
   ],
   "source": [
    "# Parameters\n",
    "model = 'gpt-4o'\n",
    "temperature = 0\n",
    "\n",
    "# Directories and files\n",
    "data_dir = os.path.join(os.environ.get('HOME'), 'home_data', 'hcp')\n",
    "test_file_name = 'hcp-alldata-250413.parquet'\n",
    "test_file = os.path.join(data_dir, test_file_name)\n",
    "df = pd.read_parquet(test_file)\n",
    "# Filter the labeled data\n",
    "df = df.loc[df['dset'] == 'train'].\\\n",
    "                reset_index(drop=True).\\\n",
    "                astype({'mental_health': int,\n",
    "                        'inpatient': int,\n",
    "                        'outpatient': int})\n",
    "display(df.head())\n",
    "print(df.shape)"
   ]
  },
  {
   "cell_type": "markdown",
   "id": "6211b276-d64a-4f3f-b664-bf77ef00b02e",
   "metadata": {},
   "source": [
    "### Prompt development ###"
   ]
  },
  {
   "cell_type": "code",
   "execution_count": 3,
   "id": "c9232230-9c6a-4e3b-98ce-793532a7be1b",
   "metadata": {},
   "outputs": [
    {
     "name": "stdout",
     "output_type": "stream",
     "text": [
      "Found 25 company ids\n"
     ]
    },
    {
     "data": {
      "text/plain": [
       "id                                                       135432-64\n",
       "name                       Chicago House And Social Service Agency\n",
       "description      Non-profit organization offering housing, heal...\n",
       "mental_health                                                    0\n",
       "inpatient                                                        0\n",
       "outpatient                                                       0\n",
       "dset                                                         train\n",
       "Name: 90, dtype: object"
      ]
     },
     "metadata": {},
     "output_type": "display_data"
    },
    {
     "name": "stdout",
     "output_type": "stream",
     "text": [
      "\n",
      "Chicago House And Social Service Agency\n",
      "Non-profit organization offering housing, health, and employment support to those impacted by HIV/AIDS and the LGBTQ+ community. Services include TransLife Care, HIV testing, case management, and free rapid screenings for HIV, syphilis, and Hepatitis-C. The agency also provides essential health services to vulnerable individuals.\n"
     ]
    }
   ],
   "source": [
    "# Pick an example of a company that provides mental health services\n",
    "mental_health = 0\n",
    "inpatient = 0\n",
    "id_list = list(df.loc[(df['mental_health'] == mental_health) & (df['inpatient'] == inpatient), 'id'].unique())\n",
    "print(f'Found {len(id_list)} company ids')\n",
    "\n",
    "# Pick a company ID\n",
    "# idx = 10\n",
    "# company_id = id_list[idx]\n",
    "company_id = '135432-64'\n",
    "ser_id = df.loc[df['id'] == company_id].iloc[0]\n",
    "display(ser_id)\n",
    "name = ser_id['name']\n",
    "description = ser_id['description']\n",
    "print()\n",
    "print(name)\n",
    "print(description)"
   ]
  },
  {
   "cell_type": "code",
   "execution_count": 4,
   "id": "f071114e-7d23-474b-a783-12317fe94d4b",
   "metadata": {},
   "outputs": [
    {
     "name": "stdout",
     "output_type": "stream",
     "text": [
      "['mental_health_system_01', 'mental_health_definition', 'mental_health_system_02']\n"
     ]
    }
   ],
   "source": [
    "print(Prompt().list())\n",
    "prompt_name = 'mental_health_system_02'\n",
    "system_prompt = Prompt().load(prompt_name=prompt_name)\n",
    "\n",
    "# For the user prompt, we want to include the name of the business and the description\n",
    "def create_user_prompt(name: str, description: str):\n",
    "    user_prompt = f\"\"\"\n",
    "        The business {name} is described as: {description} \n",
    "        Does the business provide mental or behavioral health care services to human patients?\n",
    "        \"\"\"\n",
    "    return process_prompt(user_prompt)\n",
    "\n",
    "user_prompt = create_user_prompt(name=name, description=description)\n",
    "messages = create_messages(system_prompt=system_prompt, user_prompt=user_prompt)"
   ]
  },
  {
   "cell_type": "code",
   "execution_count": 5,
   "id": "53c7e01b-fe43-4e24-946e-0b65a40db56a",
   "metadata": {},
   "outputs": [
    {
     "name": "stdout",
     "output_type": "stream",
     "text": [
      "You are an AI system assisting a healthcare policy researcher in identifying whether a business qualifies as a medical facility or organization that provides direct mental or behavioral healthcare services to human patients.\n",
      "A qualifying business must meet all of the following criteria:\n",
      "\n",
      "It is a specialized facility or organization, such as a mental health clinic, psychiatric hospital, counseling center, or behavioral health treatment center.  \n",
      "It provides direct services to human patients, including assessments, diagnoses, therapy (individual, group, or family), psychiatric evaluations, medication management, and/or crisis intervention.  \n",
      "Services are delivered by licensed mental health professionals such as psychiatrists, psychologists, licensed counselors, clinical social workers, or psychiatric nurse practitioners.  \n",
      "The facility’s core mission is to support mental health, well-being, and recovery in a clinical setting.\n",
      "\n",
      "Exclude any business that falls into the following categories, even if they contribute to mental health solutions:\n",
      "\n",
      "Pharmaceutical companies or biotechnology firms (e.g., developing medications or microbiome-based therapies)  \n",
      "Veterinary care providers  \n",
      "Healthcare staffing or management organizations  \n",
      "Insurance providers  \n",
      "Laboratories (e.g., for blood, genetic, or microbiome testing)  \n",
      "Web-based or app-based therapy platforms  \n",
      "Digital health monitoring tools or remote mental health services  \n",
      "\n",
      "These organizations do not qualify as mental health service providers because they do not directly deliver in-person or clinically supervised care to human patients.\n",
      "Example:\n",
      "Holobiome, a biotechnology company developing gut-brain axis-based probiotics for mental health, should be excluded. It does not directly provide mental health services to patients but develops therapeutic products.\n",
      "Only classify a business as a mental health provider if it clearly meets all inclusion criteria and none of the exclusion criteria.\n",
      "\n",
      "The business Chicago House And Social Service Agency is described as: Non-profit organization offering housing, health, and employment support to those impacted by HIV/AIDS and the LGBTQ+ community. Services include TransLife Care, HIV testing, case management, and free rapid screenings for HIV, syphilis, and Hepatitis-C. The agency also provides essential health services to vulnerable individuals. \n",
      "Does the business provide mental or behavioral health care services to human patients?\n"
     ]
    }
   ],
   "source": [
    "print(system_prompt)\n",
    "print()\n",
    "print(user_prompt)"
   ]
  },
  {
   "cell_type": "code",
   "execution_count": 6,
   "id": "e3cc178a-d90f-4c19-bacd-51d7cd2bbaf3",
   "metadata": {},
   "outputs": [
    {
     "name": "stdout",
     "output_type": "stream",
     "text": [
      "{'pred_mh': False, 'pred_mh_score': 0.4, 'refusal': None}\n"
     ]
    }
   ],
   "source": [
    "# Send prompt to model\n",
    "model = 'gpt-4o'\n",
    "temperature = 0\n",
    "response_format = MentalHealth\n",
    "client = OpenAI().create_client()\n",
    "\n",
    "response = OpenAI().send_messages(messages=messages, \n",
    "                                  model=model, \n",
    "                                  response_format=response_format,\n",
    "                                  temperature=0,\n",
    "                                  client=client)\n",
    "print(response)"
   ]
  },
  {
   "cell_type": "code",
   "execution_count": 7,
   "id": "98e33820-5859-44e4-b109-43102bf7dd43",
   "metadata": {},
   "outputs": [
    {
     "name": "stdout",
     "output_type": "stream",
     "text": [
      "Sending description 20 / 187 to the model\n",
      "Sending description 40 / 187 to the model\n",
      "Sending description 60 / 187 to the model\n",
      "Sending description 80 / 187 to the model\n",
      "Sending description 100 / 187 to the model\n",
      "Sending description 120 / 187 to the model\n",
      "Sending description 140 / 187 to the model\n",
      "Sending description 160 / 187 to the model\n",
      "Sending description 180 / 187 to the model\n"
     ]
    }
   ],
   "source": [
    "# Run the prompt on all data\n",
    "company_id_list = sorted(list(df['id'].unique()))\n",
    "results_df_list = []\n",
    "\n",
    "for c, company_id in enumerate(company_id_list):\n",
    "    if (c + 1) % 20 == 0:\n",
    "        print(f'Sending description {c + 1} / {len(company_id_list)} to the model')\n",
    "    df_id = df.loc[df['id'] == company_id]\n",
    "    user_prompt_id = create_user_prompt(name=df_id['name'].values[0], \n",
    "                                        description=df_id['description'].values[0])\n",
    "    messages = create_messages(system_prompt=system_prompt, user_prompt=user_prompt_id)\n",
    "    output = OpenAI().send_messages(messages=messages,\n",
    "                                    model=model,\n",
    "                                    temperature=temperature,\n",
    "                                    response_format=response_format,\n",
    "                                    client=client)\n",
    "    \n",
    "   # Replace the boolean with binary outcome prediction\n",
    "    key = 'pred_mh'\n",
    "    output.update({key: 1 if output.get(key) == True else 0})\n",
    "    results_df_list.append(df_id.assign(**output))\n",
    "\n",
    "results_df = pd.concat(results_df_list, axis=0, ignore_index=True)\n",
    "# Save the results\n",
    "results_file_name = 'mh_prompt_02_250418.parquet'\n",
    "results_file = os.path.join(data_dir, results_file_name)\n",
    "results_df.to_parquet(results_file)"
   ]
  },
  {
   "cell_type": "code",
   "execution_count": 8,
   "id": "155b691d-f2a7-4f37-872f-f3cf29fe8aad",
   "metadata": {},
   "outputs": [],
   "source": [
    "# Save the results\n",
    "results_file_name = 'mh_prompt_02_250418.parquet'\n",
    "results_file = os.path.join(data_dir, results_file_name)\n",
    "results_df.to_parquet(results_file)"
   ]
  },
  {
   "cell_type": "code",
   "execution_count": 10,
   "id": "50e4b797-2477-4ffe-aec6-d9c0934b9e91",
   "metadata": {},
   "outputs": [
    {
     "data": {
      "text/plain": [
       "{'p': 136,\n",
       " 'n': 35,\n",
       " 'tp': 90,\n",
       " 'tn': 29,\n",
       " 'fp': 6,\n",
       " 'fn': 46,\n",
       " 'recall': 0.6618,\n",
       " 'precision': 0.9375,\n",
       " 'min_precision': 0.7953,\n",
       " 'specificity': 0.8286,\n",
       " 'f_score': 0.7759}"
      ]
     },
     "metadata": {},
     "output_type": "display_data"
    }
   ],
   "source": [
    "display(Performance(data=results_df).\\\n",
    "        binary_performance(true_col='mental_health', pred_col='pred_mh'))"
   ]
  }
 ],
 "metadata": {
  "kernelspec": {
   "display_name": "Python 3 (ipykernel)",
   "language": "python",
   "name": "python3"
  },
  "language_info": {
   "codemirror_mode": {
    "name": "ipython",
    "version": 3
   },
   "file_extension": ".py",
   "mimetype": "text/x-python",
   "name": "python",
   "nbconvert_exporter": "python",
   "pygments_lexer": "ipython3",
   "version": "3.12.10"
  }
 },
 "nbformat": 4,
 "nbformat_minor": 5
}
