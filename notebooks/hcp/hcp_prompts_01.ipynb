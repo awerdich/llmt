{
 "cells": [
  {
   "cell_type": "markdown",
   "id": "94c034dd-6222-4e73-bd30-6693f4fa62b9",
   "metadata": {},
   "source": [
    "### Prompt Engineering 01 MENTAL HEALTH ###"
   ]
  },
  {
   "cell_type": "code",
   "execution_count": null,
   "id": "d855ae84-3c04-4677-a51d-63a91a96f37a",
   "metadata": {},
   "outputs": [],
   "source": [
    "import os\n",
    "import pandas as pd\n",
    "import numpy as np\n",
    "\n",
    "# Import this module with autoreload\n",
    "%load_ext autoreload\n",
    "%autoreload 2\n",
    "import llmt\n",
    "from llmt.llmtools import Prompt, MentalHealth\n",
    "from llmt.llmtools import process_prompt\n",
    "from llmt.openai import OpenAI, create_messages\n",
    "from llmt.performance import Performance"
   ]
  },
  {
   "cell_type": "code",
   "execution_count": null,
   "id": "958b1d27-85e6-465b-9d58-c7d5e79d93e1",
   "metadata": {},
   "outputs": [],
   "source": [
    "# Directories and files\n",
    "data_dir = os.path.join(os.environ.get('HOME'), 'home_data', 'hcp')\n",
    "test_file_name = 'hcp-alldata-250413.parquet'\n",
    "test_file = os.path.join(data_dir, test_file_name)\n",
    "df = pd.read_parquet(test_file)\n",
    "# Filter the labeled data\n",
    "df = df.loc[df['dset'] == 'train'].\\\n",
    "                astype({'mental_health': int,\n",
    "                        'inpatient': int,\n",
    "                        'outpatient': int})\n",
    "\n",
    "\n",
    "display(df.head())\n",
    "print(df.shape)"
   ]
  },
  {
   "cell_type": "markdown",
   "id": "830762b6-228e-4616-b5d8-dfc897e74b4e",
   "metadata": {},
   "source": [
    "### Define the prompts and the response format ###"
   ]
  },
  {
   "cell_type": "code",
   "execution_count": null,
   "id": "a3395a45-96a6-4452-b864-d7a1f37e17d5",
   "metadata": {},
   "outputs": [],
   "source": [
    "mental_health_business_definition = Prompt().load(prompt_name='mental_health_definition')\n",
    "system_prompt = Prompt().load(prompt_name='mental_health_system_01')\n",
    "\n",
    "system_prompt += f' according to the following definition: {mental_health_business_definition}'\n",
    "\n",
    "# For the user prompt, we want to include the name of the business and the description\n",
    "def create_user_prompt(name: str, description: str):\n",
    "    user_prompt = f\"\"\"\n",
    "        The business or provider {name} is described as: {description} \n",
    "        Does the business provide mental or behavioral health care services?\n",
    "        \"\"\"\n",
    "    return process_prompt(user_prompt)"
   ]
  },
  {
   "cell_type": "code",
   "execution_count": null,
   "id": "10622b5a-c797-4c6d-a41f-11a976c82e60",
   "metadata": {},
   "outputs": [],
   "source": [
    "# Create an example for messages to be sent\n",
    "idx = 2\n",
    "df_idx = df.iloc[idx]\n",
    "display(df_idx)\n",
    "user_prompt = create_user_prompt(name=df_idx['name'], description=df_idx['description'])\n",
    "messages = create_messages(system_prompt=system_prompt, user_prompt=user_prompt)\n",
    "print(*messages, sep='\\n\\n')"
   ]
  },
  {
   "cell_type": "markdown",
   "id": "803ea460-1d73-40d2-b328-df733c07fc54",
   "metadata": {},
   "source": [
    "### Send messages to the model ###"
   ]
  },
  {
   "cell_type": "code",
   "execution_count": null,
   "id": "4cd3e51a-d94e-4c8f-8234-375ee7cc015d",
   "metadata": {},
   "outputs": [],
   "source": [
    "model = 'gpt-4o'\n",
    "temperature = 0\n",
    "response_format = MentalHealth\n",
    "messages = create_messages(system_prompt=system_prompt, user_prompt=user_prompt)\n",
    "client = OpenAI().create_client()\n",
    "output = OpenAI().send_messages(messages=messages,\n",
    "                                model=model,\n",
    "                                temperature=temperature,\n",
    "                                response_format=response_format,\n",
    "                                client=client)\n",
    "# key = 'pred_mh'\n",
    "# output.update({key: 1 if output.get(key) == True else 0})"
   ]
  },
  {
   "cell_type": "code",
   "execution_count": null,
   "id": "6bc6a069-d112-41db-a972-976d9c3c15e3",
   "metadata": {},
   "outputs": [],
   "source": [
    "print(output)"
   ]
  },
  {
   "cell_type": "markdown",
   "id": "50f584f6-c0a9-4764-8b0e-f6426324e0b1",
   "metadata": {},
   "source": [
    "#### Process predictions for all samples ###"
   ]
  },
  {
   "cell_type": "code",
   "execution_count": null,
   "id": "df96efa9-c92c-4a01-81af-251202183fc8",
   "metadata": {},
   "outputs": [],
   "source": [
    "model = 'gpt-4o'\n",
    "temperature = 0\n",
    "response_format = MentalHealth\n",
    "client = OpenAI().create_client()"
   ]
  },
  {
   "cell_type": "code",
   "execution_count": null,
   "id": "e97af20b-b377-4370-877d-ff9ab694a346",
   "metadata": {},
   "outputs": [],
   "source": [
    "company_id_list = sorted(list(df['id'].unique()))\n",
    "results_df_list = []\n",
    "for c, company_id in enumerate(company_id_list):\n",
    "    if (c + 1) % 20 == 0:\n",
    "        print(f'Sending description {c + 1} / {len(company_id_list)} to the model')\n",
    "    df_id = df.loc[df['id'] == company_id]\n",
    "    user_prompt_id = create_user_prompt(name=df_id['name'].values[0], \n",
    "                                        description=df_id['description'].values[0])\n",
    "    messages = create_messages(system_prompt=system_prompt, user_prompt=user_prompt_id)\n",
    "    output = OpenAI().send_messages(messages=messages,\n",
    "                                    model=model,\n",
    "                                    temperature=temperature,\n",
    "                                    response_format=response_format,\n",
    "                                    client=client)\n",
    "    # Replace the boolean with binary outcome prediction\n",
    "    key = 'pred_mh'\n",
    "    output.update({key: 1 if output.get(key) == True else 0})\n",
    "    results_df_list.append(df_id.assign(**output))\n",
    "results_df = pd.concat(results_df_list, axis=0, ignore_index=True)\n",
    "# Save the results\n",
    "results_file_name = 'mh_prompt_01_250418.parquet'\n",
    "results_file = os.path.join(data_dir, results_file_name)\n",
    "results_df.to_parquet(results_file)"
   ]
  },
  {
   "cell_type": "code",
   "execution_count": null,
   "id": "79418501-27dd-4ca8-a529-c3902eb1a4b9",
   "metadata": {},
   "outputs": [],
   "source": [
    "results_df.head()"
   ]
  },
  {
   "cell_type": "code",
   "execution_count": null,
   "id": "4b2cf137-7e30-417a-8e66-e6fb86f2d070",
   "metadata": {},
   "outputs": [],
   "source": [
    "display(Performance(data=results_df).\\\n",
    "        binary_performance(true_col='mental_health', pred_col='pred_mh'))"
   ]
  }
 ],
 "metadata": {
  "language_info": {
   "name": "python"
  }
 },
 "nbformat": 4,
 "nbformat_minor": 5
}
