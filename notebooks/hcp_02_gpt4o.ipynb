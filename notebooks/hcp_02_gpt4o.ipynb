{
 "cells": [
  {
   "cell_type": "markdown",
   "id": "94c034dd-6222-4e73-bd30-6693f4fa62b9",
   "metadata": {},
   "source": [
    "### Create GPT-4o classifications on test data ###"
   ]
  },
  {
   "cell_type": "code",
   "execution_count": null,
   "id": "d855ae84-3c04-4677-a51d-63a91a96f37a",
   "metadata": {},
   "outputs": [],
   "source": [
    "import os\n",
    "import pandas as pd\n",
    "import numpy as np\n",
    "\n",
    "# Import this module with autoreload\n",
    "%load_ext autoreload\n",
    "%autoreload 2\n",
    "import llmt\n",
    "from llmt.llmtools import Prompt, MentalHealth\n",
    "from llmt.llmtools import process_prompt\n",
    "from llmt.openai import OpenAI, create_messages"
   ]
  },
  {
   "cell_type": "code",
   "execution_count": null,
   "id": "958b1d27-85e6-465b-9d58-c7d5e79d93e1",
   "metadata": {},
   "outputs": [],
   "source": [
    "# Directories and files\n",
    "data_dir = os.path.join(os.environ.get('HOME'), 'home_data', 'hcp')\n",
    "test_file_name = f'hcp-alldata-250413.parquet'\n",
    "test_file = os.path.join(data_dir, test_file_name)\n",
    "df = pd.read_parquet(test_file)\n",
    "# Filter the labeled data\n",
    "df = df.loc[df['dset'] == 'train']\n",
    "display(df.head())\n",
    "print(df.shape)"
   ]
  },
  {
   "cell_type": "markdown",
   "id": "830762b6-228e-4616-b5d8-dfc897e74b4e",
   "metadata": {},
   "source": [
    "### Define the prompts and the response format ###"
   ]
  },
  {
   "cell_type": "code",
   "execution_count": null,
   "id": "a3395a45-96a6-4452-b864-d7a1f37e17d5",
   "metadata": {},
   "outputs": [],
   "source": [
    "mental_health_business_definition = Prompt().load(prompt_name='mental_health_definition')\n",
    "system_prompt = Prompt().load(prompt_name='mental_health_system_prompt')\n",
    "\n",
    "system_prompt += f' according to the following definition: {mental_health_business_definition}'\n",
    "\n",
    "# For the user prompt, we want to include the name of the business and the description\n",
    "def create_user_prompt(name: str, description: str):\n",
    "    user_prompt = f\"\"\"\n",
    "        The business or provider {name} is described as: {description} \n",
    "        Does the business provide mental or behavioral health care services?\n",
    "        \"\"\"\n",
    "    return process_prompt(user_prompt)\n",
    "\n",
    "# Load the response format\n",
    "response_format = MentalHealth"
   ]
  },
  {
   "cell_type": "code",
   "execution_count": null,
   "id": "10622b5a-c797-4c6d-a41f-11a976c82e60",
   "metadata": {},
   "outputs": [],
   "source": [
    "# Create an example for messages to be sent\n",
    "idx = 10\n",
    "df_idx = df.iloc[idx]\n",
    "user_prompt = create_user_prompt(name=df_idx['name'], description=df_idx['description'])\n",
    "\n",
    "messages = create_messages(system_prompt=system_prompt, user_prompt=user_prompt)\n",
    "print(*messages, sep='\\n\\n')"
   ]
  },
  {
   "cell_type": "code",
   "execution_count": null,
   "id": "52a0340c-0ec4-49c6-9c67-e6706285007e",
   "metadata": {},
   "outputs": [],
   "source": [
    "# Lets send this prompt to the model\n",
    "client = OpenAI().create_client()\n",
    "response = client.beta.chat.completions.parse(\n",
    "    model='gpt-4o',\n",
    "    messages=messages,\n",
    "    temperature=0,\n",
    "    response_format=response_format)\n",
    "response_choice = response.choices[0]"
   ]
  },
  {
   "cell_type": "code",
   "execution_count": null,
   "id": "563daa30-10d2-4b71-9a40-4858fb545b62",
   "metadata": {},
   "outputs": [],
   "source": [
    "# Here is the reponse that we want\n",
    "response_message_dict = response_choice.message.parsed.model_dump()\n",
    "print(response_message_dict)\n",
    "\n",
    "# We can get other useful information\n",
    "response_dict = response_choice.model_dump()\n",
    "\n",
    "# Create an output dictionary\n",
    "output_dict = response_message_dict.copy()\n",
    "output_dict.update({'refusal': response_dict.get('refusal')})"
   ]
  }
 ],
 "metadata": {
  "language_info": {
   "name": "python"
  }
 },
 "nbformat": 4,
 "nbformat_minor": 5
}
