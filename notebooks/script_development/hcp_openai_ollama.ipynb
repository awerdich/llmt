{
 "cells": [
  {
   "cell_type": "markdown",
   "id": "0b016b13-3ee2-4141-a286-d8a9ef6eec55",
   "metadata": {},
   "source": [
    "### Script template to produce both OpenAI and Ollama predictions ###"
   ]
  },
  {
   "cell_type": "code",
   "execution_count": 1,
   "id": "f8bd71e3-615a-43bc-9bd9-00b06d72621c",
   "metadata": {},
   "outputs": [],
   "source": [
    "import os\n",
    "import pandas as pd\n",
    "import numpy as np\n",
    "import logging\n",
    "import time\n",
    "from pathlib import Path\n",
    "\n",
    "# Import this module with autoreload\n",
    "%load_ext autoreload\n",
    "%autoreload 2\n",
    "\n",
    "from llmt.openaimodel import OpenAIModel\n",
    "from llmt.ollamamodel import OllamaModel"
   ]
  },
  {
   "cell_type": "code",
   "execution_count": 2,
   "id": "9894b9f1-ea6f-469f-aaef-a4ca9454910f",
   "metadata": {},
   "outputs": [],
   "source": [
    "# Data directory\n",
    "data_root = os.environ.get('DATA')\n",
    "data_dir = os.path.join(data_root, 'hcp')\n",
    "\n",
    "# Experiment name (for file names)\n",
    "experiment_name = 'hcp_predictions_20250519'\n",
    "\n",
    "# Set the output directory\n",
    "output_dir = os.path.join(data_dir, f'{experiment_name}_output')\n",
    "Path(output_dir).mkdir(parents=True, exist_ok=True)"
   ]
  },
  {
   "cell_type": "markdown",
   "id": "1ee62af5-ce6a-491f-97b9-7306d2569dcf",
   "metadata": {},
   "source": [
    "### Prepare the data set ###"
   ]
  },
  {
   "cell_type": "code",
   "execution_count": 3,
   "id": "1b72c587-fccd-4363-96db-a68a6a75a1c1",
   "metadata": {},
   "outputs": [
    {
     "name": "stdout",
     "output_type": "stream",
     "text": [
      "(687, 7)\n"
     ]
    },
    {
     "data": {
      "text/html": [
       "<div>\n",
       "<style scoped>\n",
       "    .dataframe tbody tr th:only-of-type {\n",
       "        vertical-align: middle;\n",
       "    }\n",
       "\n",
       "    .dataframe tbody tr th {\n",
       "        vertical-align: top;\n",
       "    }\n",
       "\n",
       "    .dataframe thead th {\n",
       "        text-align: right;\n",
       "    }\n",
       "</style>\n",
       "<table border=\"1\" class=\"dataframe\">\n",
       "  <thead>\n",
       "    <tr style=\"text-align: right;\">\n",
       "      <th></th>\n",
       "      <th>id</th>\n",
       "      <th>name</th>\n",
       "      <th>description</th>\n",
       "      <th>mental_health</th>\n",
       "      <th>inpatient</th>\n",
       "      <th>outpatient</th>\n",
       "      <th>dset</th>\n",
       "    </tr>\n",
       "  </thead>\n",
       "  <tbody>\n",
       "    <tr>\n",
       "      <th>0</th>\n",
       "      <td>97840-81</td>\n",
       "      <td>Vheda Health</td>\n",
       "      <td>Developer of an integrated healthcare platform...</td>\n",
       "      <td>0.0</td>\n",
       "      <td>0.0</td>\n",
       "      <td>0.0</td>\n",
       "      <td>train</td>\n",
       "    </tr>\n",
       "    <tr>\n",
       "      <th>1</th>\n",
       "      <td>97356-34</td>\n",
       "      <td>Referral Solutions Group</td>\n",
       "      <td>Developer of an online platform designed to he...</td>\n",
       "      <td>0.0</td>\n",
       "      <td>0.0</td>\n",
       "      <td>0.0</td>\n",
       "      <td>train</td>\n",
       "    </tr>\n",
       "    <tr>\n",
       "      <th>2</th>\n",
       "      <td>96958-00</td>\n",
       "      <td>Franklin Community Health Network</td>\n",
       "      <td>Provider of evergreen behavioral and emergency...</td>\n",
       "      <td>1.0</td>\n",
       "      <td>1.0</td>\n",
       "      <td>1.0</td>\n",
       "      <td>train</td>\n",
       "    </tr>\n",
       "    <tr>\n",
       "      <th>3</th>\n",
       "      <td>87934-24</td>\n",
       "      <td>Forefront TeleCare</td>\n",
       "      <td>Provider of virtual behavioral health care int...</td>\n",
       "      <td>1.0</td>\n",
       "      <td>0.0</td>\n",
       "      <td>1.0</td>\n",
       "      <td>train</td>\n",
       "    </tr>\n",
       "    <tr>\n",
       "      <th>4</th>\n",
       "      <td>83377-27</td>\n",
       "      <td>Cone Health</td>\n",
       "      <td>Provider of not-for-profit healthcare network ...</td>\n",
       "      <td>1.0</td>\n",
       "      <td>1.0</td>\n",
       "      <td>2.0</td>\n",
       "      <td>train</td>\n",
       "    </tr>\n",
       "  </tbody>\n",
       "</table>\n",
       "</div>"
      ],
      "text/plain": [
       "         id                               name  \\\n",
       "0  97840-81                       Vheda Health   \n",
       "1  97356-34           Referral Solutions Group   \n",
       "2  96958-00  Franklin Community Health Network   \n",
       "3  87934-24                 Forefront TeleCare   \n",
       "4  83377-27                        Cone Health   \n",
       "\n",
       "                                         description  mental_health  \\\n",
       "0  Developer of an integrated healthcare platform...            0.0   \n",
       "1  Developer of an online platform designed to he...            0.0   \n",
       "2  Provider of evergreen behavioral and emergency...            1.0   \n",
       "3  Provider of virtual behavioral health care int...            1.0   \n",
       "4  Provider of not-for-profit healthcare network ...            1.0   \n",
       "\n",
       "   inpatient  outpatient   dset  \n",
       "0        0.0         0.0  train  \n",
       "1        0.0         0.0  train  \n",
       "2        1.0         1.0  train  \n",
       "3        0.0         1.0  train  \n",
       "4        1.0         2.0  train  "
      ]
     },
     "metadata": {},
     "output_type": "display_data"
    },
    {
     "name": "stdout",
     "output_type": "stream",
     "text": [
      "Samples TRAIN: 187\n",
      "Samples TEST: 500\n"
     ]
    }
   ],
   "source": [
    "# Load the data set (the samples that were chosen in April)\n",
    "dataset_name = 'hcp-traintest-250423.parquet'\n",
    "df = pd.read_parquet(os.path.join(data_dir, dataset_name))\n",
    "print(df.shape)\n",
    "display(df.head())\n",
    "for dset in ['train', 'test']:\n",
    "    print(f'Samples {dset.upper()}: {len(df.loc[df[\"dset\"]==dset, \"id\"].unique())}')\n",
    "company_id_list = list(df['id'].unique())"
   ]
  },
  {
   "cell_type": "code",
   "execution_count": 4,
   "id": "3377092f-792f-4d3e-b04b-9b475f7ff474",
   "metadata": {},
   "outputs": [],
   "source": [
    "# Log file\n",
    "log_file = os.path.join(output_dir, f'{experiment_name}.log')\n",
    "logging.basicConfig(\n",
    "    level=logging.WARNING,\n",
    "    format=\"%(asctime)s [%(levelname)s] %(message)s\",\n",
    "    handlers=[\n",
    "        logging.FileHandler(log_file, mode='w'),\n",
    "        logging.StreamHandler()\n",
    "    ],\n",
    "    datefmt='%Y%m%d-%H:%M'\n",
    ")\n",
    "logger = logging.getLogger(__name__)"
   ]
  },
  {
   "cell_type": "code",
   "execution_count": 5,
   "id": "4952d5b0-d0b0-41c0-a748-87780d214627",
   "metadata": {},
   "outputs": [
    {
     "name": "stdout",
     "output_type": "stream",
     "text": [
      "Sample 20 / 687\n"
     ]
    }
   ],
   "source": [
    "# OpenAI experiment\n",
    "model_name = 'gpt-4o'\n",
    "model = OpenAIModel(model=model_name)\n",
    "temperature = 0\n",
    "start_time = time.perf_counter()\n",
    "model_file_name = f'{experiment_name}_{model_name}.parquet'\n",
    "results_df_list = []\n",
    "for c, company_id in enumerate(company_id_list[:20]):\n",
    "    if (c + 1) % 20 == 0:\n",
    "        print(f'Sample {c + 1} / {len(company_id_list)}')\n",
    "    company_df = df.loc[df['id'] == company_id]\n",
    "    name = company_df['name'].to_list()[0]\n",
    "    description = company_df['description'].to_list()[0]\n",
    "    response_mh = model.predict_mh(name=name, description=description, temperature=temperature, version=3)\n",
    "    response_ip = model.predict_ip(name=name, description=description, temperature=temperature, version=1)\n",
    "    response_op = model.predict_op(name=name, description=description, temperature=temperature, version=1)\n",
    "    company_df = company_df.assign(**response_mh)\n",
    "    company_df = company_df.assign(**response_ip)\n",
    "    company_df = company_df.assign(**response_op)\n",
    "    results_df_list.append(company_df)\n",
    "results_df = pd.concat(results_df_list, axis=0, ignore_index=True).\\\n",
    "                assign(model=model_name)\n",
    "# Save the data for this model\n",
    "results_df.to_parquet(os.path.join(output_dir, model_file_name))"
   ]
  },
  {
   "cell_type": "code",
   "execution_count": 6,
   "id": "b141e79f-626f-4577-9ab1-abd1b4a34d94",
   "metadata": {},
   "outputs": [
    {
     "name": "stderr",
     "output_type": "stream",
     "text": [
      "20250519-16:13 [WARNING] Model llama2:7b not found in the Ollama server. Trying to pull the model from the server...\n",
      "llama2:7b: 100%|██████████| 557/557 [00:43<00:00, 12.7B/s, success]                  \n"
     ]
    },
    {
     "name": "stdout",
     "output_type": "stream",
     "text": [
      "Sample 20 / 687\n"
     ]
    }
   ],
   "source": [
    "# Local Ollama experiments\n",
    "model_name = 'llama2:7b'\n",
    "model_name_str = model_name.replace(':','_')\n",
    "model = OllamaModel(model=model_name)\n",
    "temperature = 0\n",
    "start_time = time.perf_counter()\n",
    "model_file_name = f'{experiment_name}_{model_name_str}.parquet'\n",
    "results_df_list = []\n",
    "for c, company_id in enumerate(company_id_list[:20]):\n",
    "    if (c + 1) % 20 == 0:\n",
    "        print(f'Sample {c + 1} / {len(company_id_list)}')\n",
    "    company_df = df.loc[df['id'] == company_id]\n",
    "    name = company_df['name'].to_list()[0]\n",
    "    description = company_df['description'].to_list()[0]\n",
    "    response_mh = model.predict_mh(name=name, description=description, temperature=temperature, version=3)\n",
    "    response_ip = model.predict_ip(name=name, description=description, temperature=temperature, version=1)\n",
    "    response_op = model.predict_op(name=name, description=description, temperature=temperature, version=1)\n",
    "    company_df = company_df.assign(**response_mh)\n",
    "    company_df = company_df.assign(**response_ip)\n",
    "    company_df = company_df.assign(**response_op)\n",
    "    results_df_list.append(company_df)\n",
    "results_df = pd.concat(results_df_list, axis=0, ignore_index=True).\\\n",
    "                assign(model=model_name_str)\n",
    "# Save the data for this model\n",
    "results_df.to_parquet(os.path.join(output_dir, model_file_name))"
   ]
  }
 ],
 "metadata": {
  "kernelspec": {
   "display_name": "Python 3 (ipykernel)",
   "language": "python",
   "name": "python3"
  },
  "language_info": {
   "codemirror_mode": {
    "name": "ipython",
    "version": 3
   },
   "file_extension": ".py",
   "mimetype": "text/x-python",
   "name": "python",
   "nbconvert_exporter": "python",
   "pygments_lexer": "ipython3",
   "version": "3.12.10"
  }
 },
 "nbformat": 4,
 "nbformat_minor": 5
}
